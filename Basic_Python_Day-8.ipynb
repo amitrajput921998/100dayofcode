{
 "cells": [
  {
   "cell_type": "markdown",
   "id": "50bcd1b5",
   "metadata": {},
   "source": [
    "# Decorators"
   ]
  },
  {
   "cell_type": "code",
   "execution_count": 3,
   "id": "86cf1a07",
   "metadata": {},
   "outputs": [],
   "source": [
    "def test():\n",
    "    print(\"this is the start\")\n",
    "    print(\"this is my fun to test\")\n",
    "    print(\"this is the end\")"
   ]
  },
  {
   "cell_type": "code",
   "execution_count": 4,
   "id": "04f5dbeb",
   "metadata": {},
   "outputs": [
    {
     "name": "stdout",
     "output_type": "stream",
     "text": [
      "this is the start\n",
      "this is my fun to test\n",
      "this is the end\n"
     ]
    }
   ],
   "source": [
    "test()"
   ]
  },
  {
   "cell_type": "code",
   "execution_count": 5,
   "id": "5dd9e1fa",
   "metadata": {},
   "outputs": [],
   "source": [
    "def deco(func):\n",
    "    def inner_dec():\n",
    "        print(\"this is start\")\n",
    "        func()\n",
    "        print(\"this is end\")\n",
    "    return inner_dec    "
   ]
  },
  {
   "cell_type": "code",
   "execution_count": 6,
   "id": "74b79ebd",
   "metadata": {},
   "outputs": [],
   "source": [
    "@deco\n",
    "def test1():\n",
    "    print(8*7)"
   ]
  },
  {
   "cell_type": "code",
   "execution_count": 7,
   "id": "52f13e3d",
   "metadata": {},
   "outputs": [
    {
     "name": "stdout",
     "output_type": "stream",
     "text": [
      "this is start\n",
      "56\n",
      "this is end\n"
     ]
    }
   ],
   "source": [
    "test1()"
   ]
  },
  {
   "cell_type": "code",
   "execution_count": 8,
   "id": "9175ada4",
   "metadata": {},
   "outputs": [],
   "source": [
    "import time\n",
    "\n",
    "def timer_test(func):\n",
    "    def timer_test_inner():\n",
    "        s=time.time()\n",
    "        func()\n",
    "        e=time.time()\n",
    "        print(e-s)\n",
    "    return  timer_test_inner  "
   ]
  },
  {
   "cell_type": "code",
   "execution_count": 11,
   "id": "d19d8c9f",
   "metadata": {},
   "outputs": [],
   "source": [
    "@timer_test\n",
    "def test3():\n",
    "    print(4+5)"
   ]
  },
  {
   "cell_type": "code",
   "execution_count": 12,
   "id": "3e37cacb",
   "metadata": {},
   "outputs": [
    {
     "name": "stdout",
     "output_type": "stream",
     "text": [
      "9\n",
      "0.0\n"
     ]
    }
   ],
   "source": [
    "test3()"
   ]
  },
  {
   "cell_type": "markdown",
   "id": "21e46680",
   "metadata": {},
   "source": [
    "# Class Method"
   ]
  },
  {
   "cell_type": "code",
   "execution_count": 13,
   "id": "009a198c",
   "metadata": {},
   "outputs": [],
   "source": [
    "class school:\n",
    "    def __init__(self,name,email):\n",
    "        self.name=name\n",
    "        self.email=email\n",
    "    def student_detail(self):\n",
    "        print(self.name,self.email)"
   ]
  },
  {
   "cell_type": "code",
   "execution_count": 14,
   "id": "1d670db4",
   "metadata": {},
   "outputs": [],
   "source": [
    "s=school(\"rohan\",\"r@gmail.com\")"
   ]
  },
  {
   "cell_type": "code",
   "execution_count": 15,
   "id": "06075078",
   "metadata": {},
   "outputs": [
    {
     "name": "stdout",
     "output_type": "stream",
     "text": [
      "rohan r@gmail.com\n"
     ]
    }
   ],
   "source": [
    "s.student_detail()"
   ]
  },
  {
   "cell_type": "code",
   "execution_count": 16,
   "id": "a1c52b87",
   "metadata": {},
   "outputs": [],
   "source": [
    " class school1:\n",
    "    def __init__(self,name,email):\n",
    "        self.name=name\n",
    "        self.email=email\n",
    "    \n",
    "    @classmethod\n",
    "    def details(cls,name,email):\n",
    "        return cls(name,email)\n",
    "    \n",
    "    def student_detail(self):\n",
    "        print(self.name,self.email)"
   ]
  },
  {
   "cell_type": "code",
   "execution_count": 18,
   "id": "c7a901f0",
   "metadata": {},
   "outputs": [],
   "source": [
    "s1=school1.details(\"sumhan\",\"suman@gmail.com\")"
   ]
  },
  {
   "cell_type": "code",
   "execution_count": 19,
   "id": "d10dd318",
   "metadata": {},
   "outputs": [
    {
     "data": {
      "text/plain": [
       "'sumhan'"
      ]
     },
     "execution_count": 19,
     "metadata": {},
     "output_type": "execute_result"
    }
   ],
   "source": [
    "s1.name"
   ]
  },
  {
   "cell_type": "code",
   "execution_count": 20,
   "id": "fa954650",
   "metadata": {},
   "outputs": [
    {
     "data": {
      "text/plain": [
       "'suman@gmail.com'"
      ]
     },
     "execution_count": 20,
     "metadata": {},
     "output_type": "execute_result"
    }
   ],
   "source": [
    "s1.email"
   ]
  },
  {
   "cell_type": "code",
   "execution_count": 23,
   "id": "bd6cf81b",
   "metadata": {},
   "outputs": [
    {
     "name": "stdout",
     "output_type": "stream",
     "text": [
      "sumhan suman@gmail.com\n"
     ]
    }
   ],
   "source": [
    "s1.student_detail()"
   ]
  },
  {
   "cell_type": "code",
   "execution_count": 30,
   "id": "1f71d161",
   "metadata": {},
   "outputs": [],
   "source": [
    " class school2:\n",
    "    mob=7845267852\n",
    "    def __init__(self,name,email):\n",
    "        self.name=name\n",
    "        self.email=email\n",
    "    @classmethod\n",
    "    def change_no(cls,mobile):\n",
    "        school2.mob=mobile\n",
    "    \n",
    "    @classmethod\n",
    "    def details(cls,name,email):\n",
    "        return cls(name,email)\n",
    "    \n",
    "    def student_detail(self):\n",
    "        print(self.name,self.email,school2.mob)"
   ]
  },
  {
   "cell_type": "code",
   "execution_count": 33,
   "id": "487f69a6",
   "metadata": {},
   "outputs": [],
   "source": [
    "sc_obj=school2(\"amit\",\"amit@gmail.com\")"
   ]
  },
  {
   "cell_type": "code",
   "execution_count": 35,
   "id": "ef7d2cad",
   "metadata": {},
   "outputs": [
    {
     "name": "stdout",
     "output_type": "stream",
     "text": [
      "amit amit@gmail.com 8754222368\n"
     ]
    }
   ],
   "source": [
    "sc_obj.student_detail()"
   ]
  },
  {
   "cell_type": "code",
   "execution_count": 31,
   "id": "bf3fa5a6",
   "metadata": {},
   "outputs": [],
   "source": [
    "school2.change_no(8754222368)"
   ]
  },
  {
   "cell_type": "code",
   "execution_count": 32,
   "id": "c926732b",
   "metadata": {},
   "outputs": [
    {
     "data": {
      "text/plain": [
       "8754222368"
      ]
     },
     "execution_count": 32,
     "metadata": {},
     "output_type": "execute_result"
    }
   ],
   "source": [
    "school2.mob"
   ]
  },
  {
   "cell_type": "code",
   "execution_count": 36,
   "id": "2bf09c8d",
   "metadata": {},
   "outputs": [],
   "source": [
    " class school3:\n",
    "    mob=7845267852\n",
    "    def __init__(self,name,email):\n",
    "        self.name=name\n",
    "        self.email=email\n",
    "    @classmethod\n",
    "    def change_no(cls,mobile):\n",
    "        school2.mob=mobile\n",
    "    \n",
    "    @classmethod\n",
    "    def details(cls,name,email):\n",
    "        return cls(name,email)\n",
    "    \n",
    "    def student_detail(self):\n",
    "        print(self.name,self.email,school2.mob)"
   ]
  },
  {
   "cell_type": "code",
   "execution_count": 37,
   "id": "982982e1",
   "metadata": {},
   "outputs": [],
   "source": [
    "def courser_details(cls,courser_name):\n",
    "    print(\"courser name is \",courser_name)"
   ]
  },
  {
   "cell_type": "code",
   "execution_count": 38,
   "id": "c8d38a87",
   "metadata": {},
   "outputs": [],
   "source": [
    "school3.courser_details=classmethod(courser_details)"
   ]
  },
  {
   "cell_type": "code",
   "execution_count": 39,
   "id": "bfa6cfff",
   "metadata": {},
   "outputs": [
    {
     "name": "stdout",
     "output_type": "stream",
     "text": [
      "courser name is  dsa\n"
     ]
    }
   ],
   "source": [
    "school3.courser_details(\"dsa\")"
   ]
  },
  {
   "cell_type": "code",
   "execution_count": 41,
   "id": "c5cd6ede",
   "metadata": {},
   "outputs": [],
   "source": [
    "del school3.change_no"
   ]
  },
  {
   "cell_type": "code",
   "execution_count": 42,
   "id": "93c6c5f9",
   "metadata": {},
   "outputs": [],
   "source": [
    "delattr (school3,\"courser_details\")"
   ]
  },
  {
   "cell_type": "markdown",
   "id": "32d9ff78",
   "metadata": {},
   "source": [
    "# Static Method"
   ]
  },
  {
   "cell_type": "code",
   "execution_count": 43,
   "id": "64262e47",
   "metadata": {},
   "outputs": [],
   "source": [
    "class student:\n",
    "    \n",
    "    def student_details(self,name,mail_id,no):\n",
    "        print(name,mail_id,no)\n",
    "        \n",
    "    @staticmethod\n",
    "    def mentor_class(list_mentor):\n",
    "        print(list_mentor)"
   ]
  },
  {
   "cell_type": "code",
   "execution_count": 44,
   "id": "07c7e03e",
   "metadata": {},
   "outputs": [
    {
     "name": "stdout",
     "output_type": "stream",
     "text": [
      "['amit', 'singh']\n"
     ]
    }
   ],
   "source": [
    "student.mentor_class([\"amit\",\"singh\"])"
   ]
  },
  {
   "cell_type": "code",
   "execution_count": 45,
   "id": "00c61f01",
   "metadata": {},
   "outputs": [],
   "source": [
    "std1=student()"
   ]
  },
  {
   "cell_type": "code",
   "execution_count": 47,
   "id": "3068748e",
   "metadata": {},
   "outputs": [
    {
     "name": "stdout",
     "output_type": "stream",
     "text": [
      "amit amit@gmail.com 78\n"
     ]
    }
   ],
   "source": [
    "std1.student_details(\"amit\",\"amit@gmail.com\",78)"
   ]
  },
  {
   "cell_type": "code",
   "execution_count": 48,
   "id": "d81a21a3",
   "metadata": {},
   "outputs": [],
   "source": [
    "class student1:\n",
    "    \n",
    "    def student_details(self,name,mail_id,no):\n",
    "        print(name,mail_id,no)\n",
    "        \n",
    "    @staticmethod\n",
    "    def mentor_class(list_mentor):\n",
    "        print(list_mentor)\n",
    "    \n",
    "    @classmethod\n",
    "    def class_name(cls):\n",
    "        cls.mentor_class([\"suman\",\"sai\"])"
   ]
  },
  {
   "cell_type": "code",
   "execution_count": 49,
   "id": "fb23d2cf",
   "metadata": {},
   "outputs": [
    {
     "name": "stdout",
     "output_type": "stream",
     "text": [
      "['suman', 'sai']\n"
     ]
    }
   ],
   "source": [
    "student1.class_name()"
   ]
  },
  {
   "cell_type": "markdown",
   "id": "bd24502c",
   "metadata": {},
   "source": [
    "# Dunder"
   ]
  },
  {
   "cell_type": "code",
   "execution_count": 51,
   "id": "e37d6aa3",
   "metadata": {},
   "outputs": [
    {
     "data": {
      "text/plain": [
       "['__abs__',\n",
       " '__add__',\n",
       " '__and__',\n",
       " '__bool__',\n",
       " '__ceil__',\n",
       " '__class__',\n",
       " '__delattr__',\n",
       " '__dir__',\n",
       " '__divmod__',\n",
       " '__doc__',\n",
       " '__eq__',\n",
       " '__float__',\n",
       " '__floor__',\n",
       " '__floordiv__',\n",
       " '__format__',\n",
       " '__ge__',\n",
       " '__getattribute__',\n",
       " '__getnewargs__',\n",
       " '__gt__',\n",
       " '__hash__',\n",
       " '__index__',\n",
       " '__init__',\n",
       " '__init_subclass__',\n",
       " '__int__',\n",
       " '__invert__',\n",
       " '__le__',\n",
       " '__lshift__',\n",
       " '__lt__',\n",
       " '__mod__',\n",
       " '__mul__',\n",
       " '__ne__',\n",
       " '__neg__',\n",
       " '__new__',\n",
       " '__or__',\n",
       " '__pos__',\n",
       " '__pow__',\n",
       " '__radd__',\n",
       " '__rand__',\n",
       " '__rdivmod__',\n",
       " '__reduce__',\n",
       " '__reduce_ex__',\n",
       " '__repr__',\n",
       " '__rfloordiv__',\n",
       " '__rlshift__',\n",
       " '__rmod__',\n",
       " '__rmul__',\n",
       " '__ror__',\n",
       " '__round__',\n",
       " '__rpow__',\n",
       " '__rrshift__',\n",
       " '__rshift__',\n",
       " '__rsub__',\n",
       " '__rtruediv__',\n",
       " '__rxor__',\n",
       " '__setattr__',\n",
       " '__sizeof__',\n",
       " '__str__',\n",
       " '__sub__',\n",
       " '__subclasshook__',\n",
       " '__truediv__',\n",
       " '__trunc__',\n",
       " '__xor__',\n",
       " 'as_integer_ratio',\n",
       " 'bit_length',\n",
       " 'conjugate',\n",
       " 'denominator',\n",
       " 'from_bytes',\n",
       " 'imag',\n",
       " 'numerator',\n",
       " 'real',\n",
       " 'to_bytes']"
      ]
     },
     "execution_count": 51,
     "metadata": {},
     "output_type": "execute_result"
    }
   ],
   "source": [
    "dir(int)"
   ]
  },
  {
   "cell_type": "code",
   "execution_count": 52,
   "id": "88317e54",
   "metadata": {},
   "outputs": [
    {
     "data": {
      "text/plain": [
       "['__add__',\n",
       " '__class__',\n",
       " '__contains__',\n",
       " '__delattr__',\n",
       " '__dir__',\n",
       " '__doc__',\n",
       " '__eq__',\n",
       " '__format__',\n",
       " '__ge__',\n",
       " '__getattribute__',\n",
       " '__getitem__',\n",
       " '__getnewargs__',\n",
       " '__gt__',\n",
       " '__hash__',\n",
       " '__init__',\n",
       " '__init_subclass__',\n",
       " '__iter__',\n",
       " '__le__',\n",
       " '__len__',\n",
       " '__lt__',\n",
       " '__mod__',\n",
       " '__mul__',\n",
       " '__ne__',\n",
       " '__new__',\n",
       " '__reduce__',\n",
       " '__reduce_ex__',\n",
       " '__repr__',\n",
       " '__rmod__',\n",
       " '__rmul__',\n",
       " '__setattr__',\n",
       " '__sizeof__',\n",
       " '__str__',\n",
       " '__subclasshook__',\n",
       " 'capitalize',\n",
       " 'casefold',\n",
       " 'center',\n",
       " 'count',\n",
       " 'encode',\n",
       " 'endswith',\n",
       " 'expandtabs',\n",
       " 'find',\n",
       " 'format',\n",
       " 'format_map',\n",
       " 'index',\n",
       " 'isalnum',\n",
       " 'isalpha',\n",
       " 'isascii',\n",
       " 'isdecimal',\n",
       " 'isdigit',\n",
       " 'isidentifier',\n",
       " 'islower',\n",
       " 'isnumeric',\n",
       " 'isprintable',\n",
       " 'isspace',\n",
       " 'istitle',\n",
       " 'isupper',\n",
       " 'join',\n",
       " 'ljust',\n",
       " 'lower',\n",
       " 'lstrip',\n",
       " 'maketrans',\n",
       " 'partition',\n",
       " 'removeprefix',\n",
       " 'removesuffix',\n",
       " 'replace',\n",
       " 'rfind',\n",
       " 'rindex',\n",
       " 'rjust',\n",
       " 'rpartition',\n",
       " 'rsplit',\n",
       " 'rstrip',\n",
       " 'split',\n",
       " 'splitlines',\n",
       " 'startswith',\n",
       " 'strip',\n",
       " 'swapcase',\n",
       " 'title',\n",
       " 'translate',\n",
       " 'upper',\n",
       " 'zfill']"
      ]
     },
     "execution_count": 52,
     "metadata": {},
     "output_type": "execute_result"
    }
   ],
   "source": [
    "dir(str)"
   ]
  },
  {
   "cell_type": "code",
   "execution_count": 53,
   "id": "97bf3c08",
   "metadata": {},
   "outputs": [],
   "source": [
    "a=100"
   ]
  },
  {
   "cell_type": "code",
   "execution_count": 54,
   "id": "ff22580e",
   "metadata": {},
   "outputs": [],
   "source": [
    "a+=5"
   ]
  },
  {
   "cell_type": "code",
   "execution_count": 55,
   "id": "01b22af5",
   "metadata": {},
   "outputs": [
    {
     "data": {
      "text/plain": [
       "105"
      ]
     },
     "execution_count": 55,
     "metadata": {},
     "output_type": "execute_result"
    }
   ],
   "source": [
    "a"
   ]
  },
  {
   "cell_type": "code",
   "execution_count": 57,
   "id": "03390d8b",
   "metadata": {},
   "outputs": [
    {
     "data": {
      "text/plain": [
       "110"
      ]
     },
     "execution_count": 57,
     "metadata": {},
     "output_type": "execute_result"
    }
   ],
   "source": [
    "a.__add__(5)"
   ]
  },
  {
   "cell_type": "code",
   "execution_count": 67,
   "id": "c07bac34",
   "metadata": {},
   "outputs": [],
   "source": [
    "class school:\n",
    "    \n",
    "    def __new__(cls):\n",
    "        print(\"this is my new\")\n",
    "    \n",
    "    def __init__(self):\n",
    "        print(\"this is my init\")\n",
    "        self.mobile=78542169"
   ]
  },
  {
   "cell_type": "code",
   "execution_count": 70,
   "id": "c4c3dcef",
   "metadata": {},
   "outputs": [
    {
     "name": "stdout",
     "output_type": "stream",
     "text": [
      "this is my new\n"
     ]
    }
   ],
   "source": [
    "s=school()"
   ]
  },
  {
   "cell_type": "code",
   "execution_count": 72,
   "id": "ff4cb86a",
   "metadata": {},
   "outputs": [
    {
     "ename": "AttributeError",
     "evalue": "'NoneType' object has no attribute 'mobile'",
     "output_type": "error",
     "traceback": [
      "\u001b[1;31m---------------------------------------------------------------------------\u001b[0m",
      "\u001b[1;31mAttributeError\u001b[0m                            Traceback (most recent call last)",
      "\u001b[1;32m~\\AppData\\Local\\Temp\\ipykernel_15944\\843657995.py\u001b[0m in \u001b[0;36m<module>\u001b[1;34m\u001b[0m\n\u001b[1;32m----> 1\u001b[1;33m \u001b[0ms\u001b[0m\u001b[1;33m.\u001b[0m\u001b[0mmobile\u001b[0m\u001b[1;33m(\u001b[0m\u001b[1;33m)\u001b[0m\u001b[1;33m\u001b[0m\u001b[1;33m\u001b[0m\u001b[0m\n\u001b[0m",
      "\u001b[1;31mAttributeError\u001b[0m: 'NoneType' object has no attribute 'mobile'"
     ]
    }
   ],
   "source": []
  },
  {
   "cell_type": "code",
   "execution_count": 74,
   "id": "983f82a9",
   "metadata": {},
   "outputs": [],
   "source": [
    "class school1:\n",
    "    \n",
    "    \n",
    "    \n",
    "    def __init__(self):\n",
    "       \n",
    "        self.mobile=78542169\n",
    "    def __str__(self):\n",
    "        return \"this is my magic call for str\""
   ]
  },
  {
   "cell_type": "code",
   "execution_count": 75,
   "id": "a76bb4f4",
   "metadata": {},
   "outputs": [],
   "source": [
    "s1=school1()"
   ]
  },
  {
   "cell_type": "code",
   "execution_count": 76,
   "id": "5e61c7e0",
   "metadata": {},
   "outputs": [
    {
     "data": {
      "text/plain": [
       "<__main__.school1 at 0x18ded2c7b20>"
      ]
     },
     "execution_count": 76,
     "metadata": {},
     "output_type": "execute_result"
    }
   ],
   "source": [
    "s1"
   ]
  },
  {
   "cell_type": "code",
   "execution_count": 77,
   "id": "ad434d44",
   "metadata": {},
   "outputs": [
    {
     "name": "stdout",
     "output_type": "stream",
     "text": [
      "this is my magic call for str\n"
     ]
    }
   ],
   "source": [
    "print(s1)"
   ]
  },
  {
   "cell_type": "markdown",
   "id": "e70636a8",
   "metadata": {},
   "source": [
    "# Property Decorators"
   ]
  },
  {
   "cell_type": "code",
   "execution_count": 87,
   "id": "4f9b8962",
   "metadata": {},
   "outputs": [],
   "source": [
    "class course:\n",
    "    \n",
    "    def __init__(self,course_price,course_name):\n",
    "        self.__course_price=course_price\n",
    "        self.course_name=course_name\n",
    "    @property\n",
    "    def course_price_access(self):\n",
    "        return self.__course_price\n",
    "    \n",
    "    @course_price_access.setter\n",
    "    def course_price_set(self,price):\n",
    "        if price<=3500:\n",
    "            pass\n",
    "        else:\n",
    "            self.__course_price=price"
   ]
  },
  {
   "cell_type": "code",
   "execution_count": 88,
   "id": "216d67d5",
   "metadata": {},
   "outputs": [],
   "source": [
    "c=course(3500,\"dsa\")"
   ]
  },
  {
   "cell_type": "code",
   "execution_count": 89,
   "id": "8df80c8c",
   "metadata": {},
   "outputs": [
    {
     "data": {
      "text/plain": [
       "'dsa'"
      ]
     },
     "execution_count": 89,
     "metadata": {},
     "output_type": "execute_result"
    }
   ],
   "source": [
    "c.course_name"
   ]
  },
  {
   "cell_type": "code",
   "execution_count": 90,
   "id": "87e9c61e",
   "metadata": {},
   "outputs": [
    {
     "data": {
      "text/plain": [
       "3500"
      ]
     },
     "execution_count": 90,
     "metadata": {},
     "output_type": "execute_result"
    }
   ],
   "source": [
    "c.course_price_access"
   ]
  },
  {
   "cell_type": "code",
   "execution_count": 91,
   "id": "347bb220",
   "metadata": {},
   "outputs": [],
   "source": [
    "c.course_price_set=8500"
   ]
  },
  {
   "cell_type": "code",
   "execution_count": 92,
   "id": "f6cf29f8",
   "metadata": {},
   "outputs": [
    {
     "data": {
      "text/plain": [
       "8500"
      ]
     },
     "execution_count": 92,
     "metadata": {},
     "output_type": "execute_result"
    }
   ],
   "source": [
    "c.course_price_access"
   ]
  },
  {
   "cell_type": "code",
   "execution_count": null,
   "id": "c6fea075",
   "metadata": {},
   "outputs": [],
   "source": []
  }
 ],
 "metadata": {
  "kernelspec": {
   "display_name": "Python 3 (ipykernel)",
   "language": "python",
   "name": "python3"
  },
  "language_info": {
   "codemirror_mode": {
    "name": "ipython",
    "version": 3
   },
   "file_extension": ".py",
   "mimetype": "text/x-python",
   "name": "python",
   "nbconvert_exporter": "python",
   "pygments_lexer": "ipython3",
   "version": "3.9.13"
  }
 },
 "nbformat": 4,
 "nbformat_minor": 5
}
