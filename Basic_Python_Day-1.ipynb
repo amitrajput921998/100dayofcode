{
 "cells": [
  {
   "cell_type": "code",
   "execution_count": 4,
   "id": "10bf549e-5c7b-47af-9282-684230ece552",
   "metadata": {},
   "outputs": [
    {
     "name": "stdout",
     "output_type": "stream",
     "text": [
      "hello world\n"
     ]
    }
   ],
   "source": [
    "print(\"hello world\")"
   ]
  },
  {
   "cell_type": "code",
   "execution_count": 5,
   "id": "3ff04328-a8a7-4252-87a9-05ea5844fa27",
   "metadata": {},
   "outputs": [
    {
     "data": {
      "text/plain": [
       "3"
      ]
     },
     "execution_count": 5,
     "metadata": {},
     "output_type": "execute_result"
    }
   ],
   "source": [
    "1+2"
   ]
  },
  {
   "cell_type": "code",
   "execution_count": 6,
   "id": "213b3d51-d966-491b-a699-7c0dfe0d8d28",
   "metadata": {},
   "outputs": [
    {
     "name": "stdout",
     "output_type": "stream",
     "text": [
      "The Zen of Python, by Tim Peters\n",
      "\n",
      "Beautiful is better than ugly.\n",
      "Explicit is better than implicit.\n",
      "Simple is better than complex.\n",
      "Complex is better than complicated.\n",
      "Flat is better than nested.\n",
      "Sparse is better than dense.\n",
      "Readability counts.\n",
      "Special cases aren't special enough to break the rules.\n",
      "Although practicality beats purity.\n",
      "Errors should never pass silently.\n",
      "Unless explicitly silenced.\n",
      "In the face of ambiguity, refuse the temptation to guess.\n",
      "There should be one-- and preferably only one --obvious way to do it.\n",
      "Although that way may not be obvious at first unless you're Dutch.\n",
      "Now is better than never.\n",
      "Although never is often better than *right* now.\n",
      "If the implementation is hard to explain, it's a bad idea.\n",
      "If the implementation is easy to explain, it may be a good idea.\n",
      "Namespaces are one honking great idea -- let's do more of those!\n"
     ]
    }
   ],
   "source": [
    "import this"
   ]
  },
  {
   "cell_type": "code",
   "execution_count": 1,
   "id": "b65e0894-62fe-404d-9a03-36e1d0501dc7",
   "metadata": {},
   "outputs": [
    {
     "name": "stdout",
     "output_type": "stream",
     "text": [
      "this is th e code\n"
     ]
    }
   ],
   "source": [
    "print(\"this is th e code\")"
   ]
  },
  {
   "cell_type": "code",
   "execution_count": 2,
   "id": "fc0accf5-7b6a-4ddf-a697-2a766f5962f7",
   "metadata": {},
   "outputs": [
    {
     "data": {
      "text/plain": [
       "0.42857142857142855"
      ]
     },
     "execution_count": 2,
     "metadata": {},
     "output_type": "execute_result"
    }
   ],
   "source": [
    "3/7"
   ]
  },
  {
   "cell_type": "markdown",
   "id": "73818fb6-05e3-42c7-a1d5-a2c2b639f34b",
   "metadata": {},
   "source": [
    "## Variablr And Data Type"
   ]
  },
  {
   "cell_type": "code",
   "execution_count": 4,
   "id": "34af2f98-17ed-42fb-9fb6-bbf3eaea8e18",
   "metadata": {},
   "outputs": [],
   "source": [
    "a=1+2"
   ]
  },
  {
   "cell_type": "code",
   "execution_count": 5,
   "id": "d8aa94c8-a084-46da-a2dd-e32fecb0dc08",
   "metadata": {},
   "outputs": [
    {
     "data": {
      "text/plain": [
       "3"
      ]
     },
     "execution_count": 5,
     "metadata": {},
     "output_type": "execute_result"
    }
   ],
   "source": [
    "a"
   ]
  },
  {
   "cell_type": "code",
   "execution_count": 6,
   "id": "9ce7fa39-0387-40de-9cb1-069ae5a37a9e",
   "metadata": {},
   "outputs": [],
   "source": [
    "a=10\n"
   ]
  },
  {
   "cell_type": "code",
   "execution_count": 7,
   "id": "3fd6a2cf-171c-45cb-b8c1-c170f8c094cf",
   "metadata": {},
   "outputs": [
    {
     "data": {
      "text/plain": [
       "10"
      ]
     },
     "execution_count": 7,
     "metadata": {},
     "output_type": "execute_result"
    }
   ],
   "source": [
    "a"
   ]
  },
  {
   "cell_type": "code",
   "execution_count": 8,
   "id": "908f7328-b86e-4b1f-9fe8-ce9226ad6185",
   "metadata": {},
   "outputs": [
    {
     "data": {
      "text/plain": [
       "20"
      ]
     },
     "execution_count": 8,
     "metadata": {},
     "output_type": "execute_result"
    }
   ],
   "source": [
    "a+a"
   ]
  },
  {
   "cell_type": "code",
   "execution_count": 9,
   "id": "e2cc4008-d3b2-4ce2-aa3d-63d2b00c63d4",
   "metadata": {},
   "outputs": [],
   "source": [
    "amit=345"
   ]
  },
  {
   "cell_type": "code",
   "execution_count": 10,
   "id": "063e4856-9ab8-4016-b8e1-b0673fe95c23",
   "metadata": {},
   "outputs": [
    {
     "data": {
      "text/plain": [
       "345"
      ]
     },
     "execution_count": 10,
     "metadata": {},
     "output_type": "execute_result"
    }
   ],
   "source": [
    "amit"
   ]
  },
  {
   "cell_type": "code",
   "execution_count": 11,
   "id": "c26e5aab-1edb-4efd-843c-7cefcbae1d3d",
   "metadata": {},
   "outputs": [
    {
     "name": "stdout",
     "output_type": "stream",
     "text": [
      "345\n"
     ]
    }
   ],
   "source": [
    "print(amit)"
   ]
  },
  {
   "cell_type": "code",
   "execution_count": 12,
   "id": "223ab967-e96c-40cc-bcdc-a182d66ccb4e",
   "metadata": {},
   "outputs": [
    {
     "data": {
      "text/plain": [
       "int"
      ]
     },
     "execution_count": 12,
     "metadata": {},
     "output_type": "execute_result"
    }
   ],
   "source": [
    "type(a)"
   ]
  },
  {
   "cell_type": "code",
   "execution_count": 13,
   "id": "3ada74c8-b7bd-4ae6-b558-53d0d955a048",
   "metadata": {},
   "outputs": [],
   "source": [
    "s=\"amit\"\n"
   ]
  },
  {
   "cell_type": "code",
   "execution_count": 14,
   "id": "c7f68926-9b26-4525-875d-ba3c403f2575",
   "metadata": {},
   "outputs": [
    {
     "data": {
      "text/plain": [
       "'amit'"
      ]
     },
     "execution_count": 14,
     "metadata": {},
     "output_type": "execute_result"
    }
   ],
   "source": [
    "s"
   ]
  },
  {
   "cell_type": "code",
   "execution_count": 15,
   "id": "3ee30f9b-c981-4e4b-b24c-fd07cdd65f0c",
   "metadata": {},
   "outputs": [
    {
     "data": {
      "text/plain": [
       "str"
      ]
     },
     "execution_count": 15,
     "metadata": {},
     "output_type": "execute_result"
    }
   ],
   "source": [
    "type(s)"
   ]
  },
  {
   "cell_type": "code",
   "execution_count": 16,
   "id": "599f410e-fdfd-4167-8b81-85f578b49d8c",
   "metadata": {},
   "outputs": [],
   "source": [
    "b=45.67"
   ]
  },
  {
   "cell_type": "code",
   "execution_count": 17,
   "id": "bdc8578f-e2bd-4954-817a-5ddf03146a55",
   "metadata": {},
   "outputs": [
    {
     "data": {
      "text/plain": [
       "45.67"
      ]
     },
     "execution_count": 17,
     "metadata": {},
     "output_type": "execute_result"
    }
   ],
   "source": [
    "b"
   ]
  },
  {
   "cell_type": "code",
   "execution_count": 18,
   "id": "f0de4fc7-5e34-49c2-89db-32d7a68a6c4b",
   "metadata": {},
   "outputs": [],
   "source": [
    "d=4+5j"
   ]
  },
  {
   "cell_type": "code",
   "execution_count": 19,
   "id": "c864d4d0-05c7-47f5-acb8-f6f3e57aa4f1",
   "metadata": {},
   "outputs": [
    {
     "data": {
      "text/plain": [
       "complex"
      ]
     },
     "execution_count": 19,
     "metadata": {},
     "output_type": "execute_result"
    }
   ],
   "source": [
    "type(d)"
   ]
  },
  {
   "cell_type": "code",
   "execution_count": 20,
   "id": "c8786b07-049a-413b-bb2d-21fbe9f6f991",
   "metadata": {},
   "outputs": [
    {
     "data": {
      "text/plain": [
       "(4+5j)"
      ]
     },
     "execution_count": 20,
     "metadata": {},
     "output_type": "execute_result"
    }
   ],
   "source": [
    "d"
   ]
  },
  {
   "cell_type": "code",
   "execution_count": 21,
   "id": "b745da41-b0bf-4880-aec2-eb4418e14e5c",
   "metadata": {},
   "outputs": [
    {
     "data": {
      "text/plain": [
       "5.0"
      ]
     },
     "execution_count": 21,
     "metadata": {},
     "output_type": "execute_result"
    }
   ],
   "source": [
    "d.imag"
   ]
  },
  {
   "cell_type": "code",
   "execution_count": 22,
   "id": "cd32fedd-c722-417d-8731-f3a768fc6389",
   "metadata": {},
   "outputs": [
    {
     "data": {
      "text/plain": [
       "4.0"
      ]
     },
     "execution_count": 22,
     "metadata": {},
     "output_type": "execute_result"
    }
   ],
   "source": [
    "d.real"
   ]
  },
  {
   "cell_type": "code",
   "execution_count": 23,
   "id": "6c1ecfad-0ca9-4126-b7de-390b9e642e75",
   "metadata": {},
   "outputs": [
    {
     "data": {
      "text/plain": [
       "<function complex.conjugate()>"
      ]
     },
     "execution_count": 23,
     "metadata": {},
     "output_type": "execute_result"
    }
   ],
   "source": [
    "d.conjugate"
   ]
  },
  {
   "cell_type": "code",
   "execution_count": 24,
   "id": "c69cdd48-eac5-413b-972d-4a9afd9cd65f",
   "metadata": {},
   "outputs": [],
   "source": [
    "g=True"
   ]
  },
  {
   "cell_type": "code",
   "execution_count": 25,
   "id": "034ead96-343c-4fd0-bdef-b740a4a51737",
   "metadata": {},
   "outputs": [
    {
     "data": {
      "text/plain": [
       "True"
      ]
     },
     "execution_count": 25,
     "metadata": {},
     "output_type": "execute_result"
    }
   ],
   "source": [
    "g"
   ]
  },
  {
   "cell_type": "code",
   "execution_count": 26,
   "id": "44d93467-e157-4527-b3b5-1fa650a2ea3a",
   "metadata": {},
   "outputs": [
    {
     "data": {
      "text/plain": [
       "bool"
      ]
     },
     "execution_count": 26,
     "metadata": {},
     "output_type": "execute_result"
    }
   ],
   "source": [
    "type(g)"
   ]
  },
  {
   "cell_type": "code",
   "execution_count": 27,
   "id": "06cd2b2e-d0c1-4229-b125-e4281b691e37",
   "metadata": {},
   "outputs": [],
   "source": [
    "a=34"
   ]
  },
  {
   "cell_type": "code",
   "execution_count": 28,
   "id": "c583737d-512b-4451-9308-73201053bcbd",
   "metadata": {},
   "outputs": [
    {
     "data": {
      "text/plain": [
       "34"
      ]
     },
     "execution_count": 28,
     "metadata": {},
     "output_type": "execute_result"
    }
   ],
   "source": [
    "a"
   ]
  },
  {
   "cell_type": "code",
   "execution_count": 29,
   "id": "6d7c11c9-343e-4ea4-91f3-152a2040cd02",
   "metadata": {},
   "outputs": [],
   "source": [
    "a=3\n",
    "b=\"amit\"\n",
    "d=True\n",
    "e=4.56"
   ]
  },
  {
   "cell_type": "code",
   "execution_count": 30,
   "id": "a738c7be-9843-4590-a6eb-91c059ee1bd5",
   "metadata": {},
   "outputs": [
    {
     "data": {
      "text/plain": [
       "3"
      ]
     },
     "execution_count": 30,
     "metadata": {},
     "output_type": "execute_result"
    }
   ],
   "source": [
    "a"
   ]
  },
  {
   "cell_type": "code",
   "execution_count": 31,
   "id": "048ee763-94a6-4066-8785-965b39053d18",
   "metadata": {},
   "outputs": [],
   "source": [
    "a1=34"
   ]
  },
  {
   "cell_type": "code",
   "execution_count": 32,
   "id": "5368d19f-b763-4654-aa8e-4aa3934be4bd",
   "metadata": {},
   "outputs": [
    {
     "data": {
      "text/plain": [
       "37"
      ]
     },
     "execution_count": 32,
     "metadata": {},
     "output_type": "execute_result"
    }
   ],
   "source": [
    "a+a1"
   ]
  },
  {
   "cell_type": "code",
   "execution_count": 33,
   "id": "3e853897-f24e-4002-9d4b-70367e2554d6",
   "metadata": {},
   "outputs": [],
   "source": [
    "a,b,c,d=2345,\"singh\",4+5j,False"
   ]
  },
  {
   "cell_type": "code",
   "execution_count": 34,
   "id": "7fea0cd0-4ab4-4bef-9679-ce530a75004f",
   "metadata": {},
   "outputs": [
    {
     "data": {
      "text/plain": [
       "2345"
      ]
     },
     "execution_count": 34,
     "metadata": {},
     "output_type": "execute_result"
    }
   ],
   "source": [
    "a"
   ]
  },
  {
   "cell_type": "code",
   "execution_count": 35,
   "id": "9bd6dae6-3598-4219-b008-fcf44dc7096f",
   "metadata": {},
   "outputs": [
    {
     "data": {
      "text/plain": [
       "'singh'"
      ]
     },
     "execution_count": 35,
     "metadata": {},
     "output_type": "execute_result"
    }
   ],
   "source": [
    "b"
   ]
  },
  {
   "cell_type": "code",
   "execution_count": 36,
   "id": "fa48c032-4d09-45f8-8b59-4f4737a7bd9f",
   "metadata": {},
   "outputs": [
    {
     "data": {
      "text/plain": [
       "(4+5j)"
      ]
     },
     "execution_count": 36,
     "metadata": {},
     "output_type": "execute_result"
    }
   ],
   "source": [
    "c"
   ]
  },
  {
   "cell_type": "code",
   "execution_count": 37,
   "id": "c8b3bf9e-7510-45e2-bbb5-e816313c50be",
   "metadata": {},
   "outputs": [
    {
     "data": {
      "text/plain": [
       "False"
      ]
     },
     "execution_count": 37,
     "metadata": {},
     "output_type": "execute_result"
    }
   ],
   "source": [
    "d"
   ]
  },
  {
   "cell_type": "code",
   "execution_count": 38,
   "id": "93440d9e-0603-46cc-8313-79dc6ca49163",
   "metadata": {},
   "outputs": [
    {
     "data": {
      "text/plain": [
       "(4+5j)"
      ]
     },
     "execution_count": 38,
     "metadata": {},
     "output_type": "execute_result"
    }
   ],
   "source": [
    "c"
   ]
  },
  {
   "cell_type": "code",
   "execution_count": 40,
   "id": "2c0e0585-6e29-47ee-984f-b2051f95f6d6",
   "metadata": {},
   "outputs": [
    {
     "data": {
      "text/plain": [
       "5.0"
      ]
     },
     "execution_count": 40,
     "metadata": {},
     "output_type": "execute_result"
    }
   ],
   "source": [
    "c.imag"
   ]
  },
  {
   "cell_type": "code",
   "execution_count": 41,
   "id": "e595eab9-5aef-4704-9633-91a84f1335ef",
   "metadata": {},
   "outputs": [
    {
     "data": {
      "text/plain": [
       "4.0"
      ]
     },
     "execution_count": 41,
     "metadata": {},
     "output_type": "execute_result"
    }
   ],
   "source": [
    "c.real"
   ]
  },
  {
   "cell_type": "code",
   "execution_count": 42,
   "id": "d3d1f3db-7d9b-42ca-be41-21e5bd691969",
   "metadata": {},
   "outputs": [
    {
     "data": {
      "text/plain": [
       "2349"
      ]
     },
     "execution_count": 42,
     "metadata": {},
     "output_type": "execute_result"
    }
   ],
   "source": [
    "a+4"
   ]
  },
  {
   "cell_type": "code",
   "execution_count": 44,
   "id": "7dcdb885-18d8-4bc8-ab75-b5fdb5956797",
   "metadata": {},
   "outputs": [
    {
     "data": {
      "text/plain": [
       "'singh4'"
      ]
     },
     "execution_count": 44,
     "metadata": {},
     "output_type": "execute_result"
    }
   ],
   "source": [
    "b+\"4\""
   ]
  },
  {
   "cell_type": "code",
   "execution_count": 45,
   "id": "249b5db7-30eb-4e00-9f9d-08ffe3f2ba8d",
   "metadata": {},
   "outputs": [
    {
     "data": {
      "text/plain": [
       "'singh44'"
      ]
     },
     "execution_count": 45,
     "metadata": {},
     "output_type": "execute_result"
    }
   ],
   "source": [
    "b+str(44)"
   ]
  },
  {
   "cell_type": "code",
   "execution_count": 46,
   "id": "ddd11eac-27f5-407a-b30b-9251bc0ae8c9",
   "metadata": {},
   "outputs": [
    {
     "data": {
      "text/plain": [
       "2"
      ]
     },
     "execution_count": 46,
     "metadata": {},
     "output_type": "execute_result"
    }
   ],
   "source": [
    "True+True"
   ]
  },
  {
   "cell_type": "code",
   "execution_count": 47,
   "id": "bd673bbf-ca05-4c6b-b3d3-a2370e00ad65",
   "metadata": {},
   "outputs": [
    {
     "data": {
      "text/plain": [
       "1"
      ]
     },
     "execution_count": 47,
     "metadata": {},
     "output_type": "execute_result"
    }
   ],
   "source": [
    "False+True"
   ]
  },
  {
   "cell_type": "code",
   "execution_count": 48,
   "id": "cec9df3a-116b-4e0d-b8e7-5ffe294a2e5b",
   "metadata": {},
   "outputs": [
    {
     "data": {
      "text/plain": [
       "1"
      ]
     },
     "execution_count": 48,
     "metadata": {},
     "output_type": "execute_result"
    }
   ],
   "source": [
    "True-False"
   ]
  },
  {
   "cell_type": "code",
   "execution_count": 49,
   "id": "c02d8295-3b25-4851-ae56-4dc127b5be9d",
   "metadata": {},
   "outputs": [
    {
     "data": {
      "text/plain": [
       "2"
      ]
     },
     "execution_count": 49,
     "metadata": {},
     "output_type": "execute_result"
    }
   ],
   "source": [
    "1+True"
   ]
  },
  {
   "cell_type": "code",
   "execution_count": 50,
   "id": "bc5db50b-0508-4ec5-b952-d3866696e368",
   "metadata": {},
   "outputs": [
    {
     "name": "stdin",
     "output_type": "stream",
     "text": [
      " hello\n"
     ]
    },
    {
     "data": {
      "text/plain": [
       "'hello'"
      ]
     },
     "execution_count": 50,
     "metadata": {},
     "output_type": "execute_result"
    }
   ],
   "source": [
    "input()"
   ]
  },
  {
   "cell_type": "code",
   "execution_count": 51,
   "id": "832a15db-d3da-4925-9d6a-b27df65690ac",
   "metadata": {},
   "outputs": [],
   "source": [
    "a=\"amit\""
   ]
  },
  {
   "cell_type": "code",
   "execution_count": 53,
   "id": "e80d35d3-5dd2-4571-a0e2-7e51a40d9f2f",
   "metadata": {},
   "outputs": [
    {
     "name": "stdin",
     "output_type": "stream",
     "text": [
      " g\n"
     ]
    }
   ],
   "source": [
    "a=input()"
   ]
  },
  {
   "cell_type": "code",
   "execution_count": 54,
   "id": "76a745d6-4276-44ce-8126-82cdf81ba23f",
   "metadata": {},
   "outputs": [
    {
     "data": {
      "text/plain": [
       "'g'"
      ]
     },
     "execution_count": 54,
     "metadata": {},
     "output_type": "execute_result"
    }
   ],
   "source": [
    "a\n"
   ]
  },
  {
   "cell_type": "code",
   "execution_count": null,
   "id": "b6cf0d4d-1952-4f0d-9bb8-3e7d5d6926f8",
   "metadata": {},
   "outputs": [],
   "source": []
  }
 ],
 "metadata": {
  "kernelspec": {
   "display_name": "Python 3 (ipykernel)",
   "language": "python",
   "name": "python3"
  },
  "language_info": {
   "codemirror_mode": {
    "name": "ipython",
    "version": 3
   },
   "file_extension": ".py",
   "mimetype": "text/x-python",
   "name": "python",
   "nbconvert_exporter": "python",
   "pygments_lexer": "ipython3",
   "version": "3.10.6"
  }
 },
 "nbformat": 4,
 "nbformat_minor": 5
}
