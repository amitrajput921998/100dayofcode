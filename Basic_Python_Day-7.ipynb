{
 "cells": [
  {
   "cell_type": "markdown",
   "id": "292afcd8-a5c5-4ba7-bc96-cf189ef8386a",
   "metadata": {},
   "source": [
    "# OOPS "
   ]
  },
  {
   "cell_type": "markdown",
   "id": "41498cc9-a398-43f7-a1c4-f35b6978eb18",
   "metadata": {},
   "source": [
    "##### Oops stand for object-oriented programming system"
   ]
  },
  {
   "cell_type": "code",
   "execution_count": 1,
   "id": "2334709e-ac2a-4fa6-81c0-6602797b0c42",
   "metadata": {},
   "outputs": [],
   "source": [
    "class test:\n",
    "    pass"
   ]
  },
  {
   "cell_type": "code",
   "execution_count": 2,
   "id": "0411fcfa-e237-4211-859f-a7275e29896c",
   "metadata": {},
   "outputs": [],
   "source": [
    "a=test()"
   ]
  },
  {
   "cell_type": "code",
   "execution_count": 3,
   "id": "9c6a039d-2239-414f-a3d4-d50e89953252",
   "metadata": {},
   "outputs": [
    {
     "data": {
      "text/plain": [
       "__main__.test"
      ]
     },
     "execution_count": 3,
     "metadata": {},
     "output_type": "execute_result"
    }
   ],
   "source": [
    "type(a)"
   ]
  },
  {
   "cell_type": "code",
   "execution_count": 4,
   "id": "21e94751-a754-4fbe-b378-bb313afb4b65",
   "metadata": {},
   "outputs": [
    {
     "name": "stdout",
     "output_type": "stream",
     "text": [
      "<class '__main__.test'>\n"
     ]
    }
   ],
   "source": [
    "print(type(a))"
   ]
  },
  {
   "cell_type": "code",
   "execution_count": 9,
   "id": "75c085b0-d486-4891-8904-a98171a8685a",
   "metadata": {},
   "outputs": [],
   "source": [
    "class hello:\n",
    "    \n",
    "    def wlecome_msg(self):\n",
    "        print(\"welcome to this world\")"
   ]
  },
  {
   "cell_type": "code",
   "execution_count": 10,
   "id": "0410237e-57b6-4f91-ab56-659a43e6bffe",
   "metadata": {},
   "outputs": [],
   "source": [
    "h=hello()"
   ]
  },
  {
   "cell_type": "code",
   "execution_count": 11,
   "id": "006a91cb-9175-461a-9ed7-e13364980a03",
   "metadata": {},
   "outputs": [
    {
     "name": "stdout",
     "output_type": "stream",
     "text": [
      "welcome to this world\n"
     ]
    }
   ],
   "source": [
    "h.wlecome_msg()"
   ]
  },
  {
   "cell_type": "code",
   "execution_count": 12,
   "id": "e1483fbf-1549-4a37-9cd8-0655a1221e8d",
   "metadata": {},
   "outputs": [],
   "source": [
    "g=hello()"
   ]
  },
  {
   "cell_type": "code",
   "execution_count": 13,
   "id": "aca6bd52-e19c-4339-8055-79d657bd332a",
   "metadata": {},
   "outputs": [
    {
     "name": "stdout",
     "output_type": "stream",
     "text": [
      "welcome to this world\n"
     ]
    }
   ],
   "source": [
    "g.wlecome_msg()"
   ]
  },
  {
   "cell_type": "code",
   "execution_count": 14,
   "id": "6a983eca-5e8d-48b2-9983-3901a485eb5b",
   "metadata": {},
   "outputs": [],
   "source": [
    "class helloworld:\n",
    "    def __init__(self,phone_no,email_id,student_id):\n",
    "        self.phone_no=phone_no\n",
    "        self.email_id=email_id\n",
    "        self.student_id=student_id\n",
    "        \n",
    "    def return_deatisl(self):\n",
    "        return self.student_id,self.phone_no,self.email_id"
   ]
  },
  {
   "cell_type": "code",
   "execution_count": 15,
   "id": "6feb067a-4ef7-4006-b0eb-e3e1d1d5d5c3",
   "metadata": {},
   "outputs": [
    {
     "ename": "TypeError",
     "evalue": "helloworld.__init__() missing 3 required positional arguments: 'phone_no', 'email_id', and 'student_id'",
     "output_type": "error",
     "traceback": [
      "\u001b[0;31m---------------------------------------------------------------------------\u001b[0m",
      "\u001b[0;31mTypeError\u001b[0m                                 Traceback (most recent call last)",
      "Cell \u001b[0;32mIn [15], line 1\u001b[0m\n\u001b[0;32m----> 1\u001b[0m r\u001b[38;5;241m=\u001b[39m\u001b[43mhelloworld\u001b[49m\u001b[43m(\u001b[49m\u001b[43m)\u001b[49m\n",
      "\u001b[0;31mTypeError\u001b[0m: helloworld.__init__() missing 3 required positional arguments: 'phone_no', 'email_id', and 'student_id'"
     ]
    }
   ],
   "source": [
    "r=helloworld()"
   ]
  },
  {
   "cell_type": "code",
   "execution_count": 16,
   "id": "adaca6b9-00aa-4dbd-8974-004d1021fd2e",
   "metadata": {},
   "outputs": [],
   "source": [
    "r=helloworld(45784,\"r@gmail.com\",74)"
   ]
  },
  {
   "cell_type": "code",
   "execution_count": 18,
   "id": "f0928054-4ae9-4223-bd93-568b6a0263a0",
   "metadata": {},
   "outputs": [
    {
     "data": {
      "text/plain": [
       "(74, 45784, 'r@gmail.com')"
      ]
     },
     "execution_count": 18,
     "metadata": {},
     "output_type": "execute_result"
    }
   ],
   "source": [
    "r.return_deatisl()"
   ]
  },
  {
   "cell_type": "code",
   "execution_count": 19,
   "id": "01026fdf-d2c9-422c-994c-21edc0eb1874",
   "metadata": {},
   "outputs": [],
   "source": [
    "class car:\n",
    "    def __init__(self,model,color,fuel_type):\n",
    "        self.model=model\n",
    "        self.color=color\n",
    "        self.fuel_type=fuel_type\n",
    "    def car_details(self):\n",
    "        return self.model,self.color,self.fuel_type"
   ]
  },
  {
   "cell_type": "code",
   "execution_count": 22,
   "id": "75ca88d9-c930-4618-9eef-0b181c46c325",
   "metadata": {},
   "outputs": [],
   "source": [
    "tata=car(\"nexon\",\"black\",\"petrol\")"
   ]
  },
  {
   "cell_type": "code",
   "execution_count": 23,
   "id": "96175c59-1fc8-4ac3-84c7-0db55c731f02",
   "metadata": {},
   "outputs": [
    {
     "data": {
      "text/plain": [
       "('nexon', 'black', 'petrol')"
      ]
     },
     "execution_count": 23,
     "metadata": {},
     "output_type": "execute_result"
    }
   ],
   "source": [
    "tata.car_details()"
   ]
  },
  {
   "cell_type": "code",
   "execution_count": 24,
   "id": "02c608f2-b0c6-457e-aa5d-acd0a9c56325",
   "metadata": {},
   "outputs": [],
   "source": [
    "mahindra=car(\"thar\",\"black\",\"petrol\")"
   ]
  },
  {
   "cell_type": "code",
   "execution_count": 25,
   "id": "540fa8b1-567e-4fd9-8adf-400d3a626c6b",
   "metadata": {},
   "outputs": [
    {
     "data": {
      "text/plain": [
       "('thar', 'black', 'petrol')"
      ]
     },
     "execution_count": 25,
     "metadata": {},
     "output_type": "execute_result"
    }
   ],
   "source": [
    "mahindra.car_details()"
   ]
  },
  {
   "cell_type": "code",
   "execution_count": 26,
   "id": "22f9994e-8360-408e-94ce-f21ea65ad9c2",
   "metadata": {},
   "outputs": [
    {
     "data": {
      "text/plain": [
       "'thar'"
      ]
     },
     "execution_count": 26,
     "metadata": {},
     "output_type": "execute_result"
    }
   ],
   "source": [
    "mahindra.model"
   ]
  },
  {
   "cell_type": "code",
   "execution_count": 27,
   "id": "ccf14b3d-28a8-456f-afbd-ff0e3e16e837",
   "metadata": {},
   "outputs": [
    {
     "data": {
      "text/plain": [
       "'black'"
      ]
     },
     "execution_count": 27,
     "metadata": {},
     "output_type": "execute_result"
    }
   ],
   "source": [
    "mahindra.color"
   ]
  },
  {
   "cell_type": "markdown",
   "id": "a61a4dd9-8895-47a9-ba20-48b224373fcb",
   "metadata": {},
   "source": [
    "## Polymorphism"
   ]
  },
  {
   "cell_type": "code",
   "execution_count": 28,
   "id": "e7aa5aa5-94bc-42ee-8739-d13de5a6d349",
   "metadata": {},
   "outputs": [],
   "source": [
    "def test(a,b):\n",
    "    return a+b"
   ]
  },
  {
   "cell_type": "code",
   "execution_count": 29,
   "id": "da1dcb61-783c-4ac2-8e3a-5ea999e57e17",
   "metadata": {},
   "outputs": [
    {
     "data": {
      "text/plain": [
       "7"
      ]
     },
     "execution_count": 29,
     "metadata": {},
     "output_type": "execute_result"
    }
   ],
   "source": [
    "test(3,4)"
   ]
  },
  {
   "cell_type": "code",
   "execution_count": 30,
   "id": "5f6b13a7-6f2c-40b4-82a4-7e9eccedbdca",
   "metadata": {},
   "outputs": [
    {
     "data": {
      "text/plain": [
       "'amitsingh'"
      ]
     },
     "execution_count": 30,
     "metadata": {},
     "output_type": "execute_result"
    }
   ],
   "source": [
    "test(\"amit\",\"singh\")"
   ]
  },
  {
   "cell_type": "code",
   "execution_count": 31,
   "id": "426b7cb3-b652-4f1e-8554-9b73010b38d2",
   "metadata": {},
   "outputs": [],
   "source": [
    "class ds:\n",
    "    \n",
    "    def syll(self):\n",
    "        print(\"this is syll for ds\")    "
   ]
  },
  {
   "cell_type": "code",
   "execution_count": 32,
   "id": "a5c46746-2a39-465b-b8e6-35a260884fa7",
   "metadata": {},
   "outputs": [],
   "source": [
    "class web_dev:\n",
    "    def syll(self):\n",
    "        print(\"this is syll for web_dev\")"
   ]
  },
  {
   "cell_type": "code",
   "execution_count": 33,
   "id": "381a8576-2ea8-4e1c-8c84-7d2bfff1090d",
   "metadata": {},
   "outputs": [],
   "source": [
    "def class_parcer(class_obj):\n",
    "    for i in class_obj:\n",
    "        i.syll()"
   ]
  },
  {
   "cell_type": "code",
   "execution_count": 34,
   "id": "06416484-2ce3-44ba-ae4c-dcf1b7a8e7a8",
   "metadata": {},
   "outputs": [],
   "source": [
    "ds1=ds()"
   ]
  },
  {
   "cell_type": "code",
   "execution_count": 35,
   "id": "29b4ce5b-7f5c-4533-bd84-e001e32a5b70",
   "metadata": {},
   "outputs": [],
   "source": [
    "w1=web_dev()"
   ]
  },
  {
   "cell_type": "code",
   "execution_count": 36,
   "id": "7cc3d3a1-4f7a-47ae-a0b6-6ddf64eb6e24",
   "metadata": {},
   "outputs": [],
   "source": [
    "class_obj=[ds1,w1]"
   ]
  },
  {
   "cell_type": "code",
   "execution_count": 38,
   "id": "eaf5abb9-b832-437e-a59e-a38698c1460e",
   "metadata": {},
   "outputs": [
    {
     "name": "stdout",
     "output_type": "stream",
     "text": [
      "this is syll for ds\n",
      "this is syll for web_dev\n"
     ]
    }
   ],
   "source": [
    "class_parcer(class_obj)"
   ]
  },
  {
   "cell_type": "markdown",
   "id": "6ac7d6dc-09ea-4061-a7ba-e3487289fd83",
   "metadata": {},
   "source": [
    "# Encapsulation"
   ]
  },
  {
   "cell_type": "code",
   "execution_count": 39,
   "id": "2fef9c33-1fbe-4208-8710-0121cd0432a2",
   "metadata": {},
   "outputs": [],
   "source": [
    "class test:\n",
    "    \n",
    "    def __init__(self,a,b):\n",
    "        self.a=a\n",
    "        self.b=b"
   ]
  },
  {
   "cell_type": "code",
   "execution_count": 40,
   "id": "8e28d7e8-ffe4-472e-9a04-429786ac1ddc",
   "metadata": {},
   "outputs": [],
   "source": [
    "t=test(23,24)"
   ]
  },
  {
   "cell_type": "code",
   "execution_count": 41,
   "id": "e27f5838-c89a-462e-8a7d-d406f4ae2712",
   "metadata": {},
   "outputs": [
    {
     "data": {
      "text/plain": [
       "23"
      ]
     },
     "execution_count": 41,
     "metadata": {},
     "output_type": "execute_result"
    }
   ],
   "source": [
    "t.a"
   ]
  },
  {
   "cell_type": "code",
   "execution_count": 42,
   "id": "4ae3ef98-83e3-4f0c-9830-a61b5de524c4",
   "metadata": {},
   "outputs": [
    {
     "data": {
      "text/plain": [
       "24"
      ]
     },
     "execution_count": 42,
     "metadata": {},
     "output_type": "execute_result"
    }
   ],
   "source": [
    "t.b"
   ]
  },
  {
   "cell_type": "code",
   "execution_count": 55,
   "id": "5137efeb-04bd-44b7-876a-f11ae28914d0",
   "metadata": {},
   "outputs": [],
   "source": [
    "class car:\n",
    "    def __init__(self,year,make,model,speed):\n",
    "        self.__year=year\n",
    "        self.__make=make\n",
    "        self.__model=model\n",
    "        self.__speed=0\n",
    "        \n",
    "    def set_speed(self,speed):\n",
    "        self.__speed= 0 if speed<0 else speed\n",
    "        \n",
    "    def get_speed(self):\n",
    "        return self.__speed"
   ]
  },
  {
   "cell_type": "code",
   "execution_count": 56,
   "id": "55703dee-1970-40de-99c8-5eb6c614dd38",
   "metadata": {},
   "outputs": [],
   "source": [
    "c=car(2021,\"toytat\",\"innova\",12)"
   ]
  },
  {
   "cell_type": "code",
   "execution_count": 57,
   "id": "5a130f36-9348-4243-b2da-e84c3d4ddb59",
   "metadata": {},
   "outputs": [
    {
     "ename": "AttributeError",
     "evalue": "'car' object has no attribute '__year'",
     "output_type": "error",
     "traceback": [
      "\u001b[0;31m---------------------------------------------------------------------------\u001b[0m",
      "\u001b[0;31mAttributeError\u001b[0m                            Traceback (most recent call last)",
      "Cell \u001b[0;32mIn [57], line 1\u001b[0m\n\u001b[0;32m----> 1\u001b[0m \u001b[43mc\u001b[49m\u001b[38;5;241;43m.\u001b[39;49m\u001b[43m__year\u001b[49m\n",
      "\u001b[0;31mAttributeError\u001b[0m: 'car' object has no attribute '__year'"
     ]
    }
   ],
   "source": [
    "c.__year  ## __ doble underscore is use to hid "
   ]
  },
  {
   "cell_type": "code",
   "execution_count": 58,
   "id": "522f3651-a43c-47ad-93d2-4b19d5663f49",
   "metadata": {},
   "outputs": [
    {
     "data": {
      "text/plain": [
       "2021"
      ]
     },
     "execution_count": 58,
     "metadata": {},
     "output_type": "execute_result"
    }
   ],
   "source": [
    "c._car__year"
   ]
  },
  {
   "cell_type": "code",
   "execution_count": 62,
   "id": "75f0c912-ff8c-4b1f-94ac-8a3b34afbdb4",
   "metadata": {},
   "outputs": [
    {
     "data": {
      "text/plain": [
       "45"
      ]
     },
     "execution_count": 62,
     "metadata": {},
     "output_type": "execute_result"
    }
   ],
   "source": [
    "c.get_speed()"
   ]
  },
  {
   "cell_type": "code",
   "execution_count": 61,
   "id": "f16ca541-8b48-411f-919e-8767bec2a4c7",
   "metadata": {},
   "outputs": [],
   "source": [
    "c.set_speed(45)"
   ]
  },
  {
   "cell_type": "markdown",
   "id": "707d0813-4bc4-4bc6-aa96-0d04f0e8cffc",
   "metadata": {},
   "source": [
    "# Inheritance"
   ]
  },
  {
   "cell_type": "code",
   "execution_count": 63,
   "id": "baf73ebe-a211-44fa-8bcb-491575bda510",
   "metadata": {},
   "outputs": [],
   "source": [
    "class test:\n",
    "    \n",
    "    def test_math(self):\n",
    "        return \"this is my class\""
   ]
  },
  {
   "cell_type": "code",
   "execution_count": 64,
   "id": "07c2df96-92b7-42b1-a3a5-528a2cd8c605",
   "metadata": {},
   "outputs": [],
   "source": [
    "class child_test(test):\n",
    "    pass"
   ]
  },
  {
   "cell_type": "code",
   "execution_count": 65,
   "id": "c3b45375-bcfe-4c7d-8a6b-f1aa0751de60",
   "metadata": {},
   "outputs": [],
   "source": [
    "c=child_test()"
   ]
  },
  {
   "cell_type": "code",
   "execution_count": 66,
   "id": "b74259c7-06cb-492b-b7f0-33330de789a0",
   "metadata": {},
   "outputs": [
    {
     "data": {
      "text/plain": [
       "'this is my class'"
      ]
     },
     "execution_count": 66,
     "metadata": {},
     "output_type": "execute_result"
    }
   ],
   "source": [
    "c.test_math()"
   ]
  },
  {
   "cell_type": "code",
   "execution_count": 67,
   "id": "dbe19347-f955-40e4-87b8-8dd8e89a98e9",
   "metadata": {},
   "outputs": [],
   "source": [
    "# multilevel inhertienc"
   ]
  },
  {
   "cell_type": "code",
   "execution_count": 68,
   "id": "048c8278-52d0-4afb-a1b9-a6fd3540a505",
   "metadata": {},
   "outputs": [],
   "source": [
    "class class1:\n",
    "    def test_class1(self):\n",
    "        return \"this is a maeth from class\""
   ]
  },
  {
   "cell_type": "code",
   "execution_count": 69,
   "id": "5440a0ea-d9ad-435e-884a-db8f11394d19",
   "metadata": {},
   "outputs": [],
   "source": [
    "class class2(class1):\n",
    "    def test_class2(self):\n",
    "        return \"this is a meth from class 2\""
   ]
  },
  {
   "cell_type": "code",
   "execution_count": 70,
   "id": "1a5c8dd2-a8c8-4b9b-b547-6e0e022f91bd",
   "metadata": {},
   "outputs": [],
   "source": [
    "class class3( class2):\n",
    "    pass"
   ]
  },
  {
   "cell_type": "code",
   "execution_count": 71,
   "id": "521f94b3-64a0-4ceb-9645-5c11219580b0",
   "metadata": {},
   "outputs": [],
   "source": [
    "obc=class3()"
   ]
  },
  {
   "cell_type": "code",
   "execution_count": 72,
   "id": "724e9764-cfd6-47d5-ba0a-c35f54b362ff",
   "metadata": {},
   "outputs": [
    {
     "data": {
      "text/plain": [
       "'this is a maeth from class'"
      ]
     },
     "execution_count": 72,
     "metadata": {},
     "output_type": "execute_result"
    }
   ],
   "source": [
    "obc.test_class1()"
   ]
  },
  {
   "cell_type": "code",
   "execution_count": 73,
   "id": "3b424c56-7169-42ff-afc7-fc67f85b01e2",
   "metadata": {},
   "outputs": [
    {
     "data": {
      "text/plain": [
       "'this is a meth from class 2'"
      ]
     },
     "execution_count": 73,
     "metadata": {},
     "output_type": "execute_result"
    }
   ],
   "source": [
    "obc.test_class2()"
   ]
  },
  {
   "cell_type": "code",
   "execution_count": 74,
   "id": "6595b136-652a-464e-ad7c-7903dee9b380",
   "metadata": {},
   "outputs": [],
   "source": [
    "class class1:\n",
    "    def test_class1(self):\n",
    "        return \"this is a std\""
   ]
  },
  {
   "cell_type": "code",
   "execution_count": 75,
   "id": "156cadf9-853a-4508-b50a-662454b5ab04",
   "metadata": {},
   "outputs": [],
   "source": [
    "class class2:\n",
    "    def test_class2(self):\n",
    "        return \"his is a std2\""
   ]
  },
  {
   "cell_type": "code",
   "execution_count": 76,
   "id": "9d32ce13-3fc9-45ca-8de8-7422867d7891",
   "metadata": {},
   "outputs": [],
   "source": [
    "class class3(class1,class2):\n",
    "    pass"
   ]
  },
  {
   "cell_type": "code",
   "execution_count": 77,
   "id": "99bf4646-796c-4f80-89f2-49d28a0d6b53",
   "metadata": {},
   "outputs": [],
   "source": [
    "obj_c=class3()"
   ]
  },
  {
   "cell_type": "code",
   "execution_count": 78,
   "id": "d4ab7e81-14e2-4f7e-8c0a-dd5224b6c016",
   "metadata": {},
   "outputs": [
    {
     "data": {
      "text/plain": [
       "'this is a std'"
      ]
     },
     "execution_count": 78,
     "metadata": {},
     "output_type": "execute_result"
    }
   ],
   "source": [
    "obj_c.test_class1()"
   ]
  },
  {
   "cell_type": "code",
   "execution_count": 79,
   "id": "14af3ce8-a7fb-474f-8709-09aedcf4b638",
   "metadata": {},
   "outputs": [
    {
     "data": {
      "text/plain": [
       "'his is a std2'"
      ]
     },
     "execution_count": 79,
     "metadata": {},
     "output_type": "execute_result"
    }
   ],
   "source": [
    "obj_c.test_class2()"
   ]
  },
  {
   "cell_type": "markdown",
   "id": "3c3d404b-12cd-4c99-b5aa-72c3cfb7265d",
   "metadata": {},
   "source": [
    "# Abstraction"
   ]
  },
  {
   "cell_type": "code",
   "execution_count": 80,
   "id": "d02cc6a3-4654-43f3-b363-d4193a28cd2a",
   "metadata": {},
   "outputs": [],
   "source": [
    "import abc\n",
    "class school:\n",
    "    @abc.abstractmethod\n",
    "    def student_details(self):\n",
    "        pass\n",
    "    @abc.abstractmethod\n",
    "    def student_assignment(self):\n",
    "        pass"
   ]
  },
  {
   "cell_type": "code",
   "execution_count": 81,
   "id": "dc9dfa8e-3526-470b-a5bd-7850ef84a358",
   "metadata": {},
   "outputs": [],
   "source": [
    "class student_details(school):\n",
    "    def student_details(self):\n",
    "        return \"this is a math for taking student details\""
   ]
  },
  {
   "cell_type": "markdown",
   "id": "99a55543-99e8-4e3d-84c6-5c0fcb86b3c7",
   "metadata": {},
   "source": [
    "# Decorators"
   ]
  },
  {
   "cell_type": "code",
   "execution_count": 84,
   "id": "6d77e1c5-c790-4356-8ee8-372bb62f4099",
   "metadata": {},
   "outputs": [],
   "source": [
    "def test():\n",
    "    print(\"this is start\")\n",
    "    print(\"this is my fun to test\")\n",
    "    print(\"this is end\")"
   ]
  },
  {
   "cell_type": "code",
   "execution_count": 85,
   "id": "ad5f14c7-93de-4e1e-96c3-42b15657cc00",
   "metadata": {},
   "outputs": [
    {
     "name": "stdout",
     "output_type": "stream",
     "text": [
      "this is start\n",
      "this is my fun to test\n",
      "this is end\n"
     ]
    }
   ],
   "source": [
    "test()"
   ]
  },
  {
   "cell_type": "code",
   "execution_count": 86,
   "id": "9dc89482-c36c-48e2-b2f1-b2e8c3b49708",
   "metadata": {},
   "outputs": [],
   "source": [
    "def dec(fun):\n",
    "    def inner_dec():\n",
    "        print(\"this is start\")\n",
    "        fun()\n",
    "        print(\"this is end\")\n",
    "    return inner_dec  "
   ]
  },
  {
   "cell_type": "code",
   "execution_count": 87,
   "id": "f18fffb1-3a48-4242-95fe-94ad67ff033b",
   "metadata": {},
   "outputs": [],
   "source": [
    "@dec\n",
    "def test1():\n",
    "    print(6+7)"
   ]
  },
  {
   "cell_type": "code",
   "execution_count": 88,
   "id": "af5c745e-9a6e-4f91-96dd-ee993a5a3bb5",
   "metadata": {},
   "outputs": [
    {
     "name": "stdout",
     "output_type": "stream",
     "text": [
      "this is start\n",
      "13\n",
      "this is end\n"
     ]
    }
   ],
   "source": [
    "test1()"
   ]
  },
  {
   "cell_type": "code",
   "execution_count": 89,
   "id": "9d9989a8-8a0f-4741-885f-d26424d6cda7",
   "metadata": {},
   "outputs": [],
   "source": [
    "import time\n",
    "\n",
    "def timer_test(func):\n",
    "    def timer_test_inner():\n",
    "        start=time.time()\n",
    "        func()\n",
    "        end=time.time()\n",
    "        print(end-start)\n",
    "    return timer_test_inner   "
   ]
  },
  {
   "cell_type": "code",
   "execution_count": 91,
   "id": "261f53f5-0a68-49c3-bb79-348584837400",
   "metadata": {},
   "outputs": [],
   "source": [
    "@timer_test\n",
    "def test2():\n",
    "    print(34+45)"
   ]
  },
  {
   "cell_type": "code",
   "execution_count": 92,
   "id": "21ceb331-91a8-44cb-b36c-9fb76063feb2",
   "metadata": {},
   "outputs": [
    {
     "name": "stdout",
     "output_type": "stream",
     "text": [
      "79\n",
      "4.506111145019531e-05\n"
     ]
    }
   ],
   "source": [
    "test2()"
   ]
  },
  {
   "cell_type": "markdown",
   "id": "61c9e3d9-1646-4d89-9210-b00427d4741d",
   "metadata": {},
   "source": [
    "# Class Method"
   ]
  },
  {
   "cell_type": "code",
   "execution_count": 93,
   "id": "f6944b45-3b1b-4a1b-b2fb-a7383a92a7e8",
   "metadata": {},
   "outputs": [],
   "source": [
    "class school:\n",
    "    def __init__(self,name,email):\n",
    "        self.name=name\n",
    "        self.email=email\n",
    "        \n",
    "    def student_details(self):\n",
    "        print(self.name,self.email)"
   ]
  },
  {
   "cell_type": "code",
   "execution_count": 94,
   "id": "7960266a-3e67-4787-933c-dc33d0a35204",
   "metadata": {},
   "outputs": [],
   "source": [
    "s=school(\"sohan\",\"sohan@gmail.com\")"
   ]
  },
  {
   "cell_type": "code",
   "execution_count": 95,
   "id": "9138f6cc-fd55-48c1-b326-2b1e2443a4b2",
   "metadata": {},
   "outputs": [
    {
     "data": {
      "text/plain": [
       "'sohan'"
      ]
     },
     "execution_count": 95,
     "metadata": {},
     "output_type": "execute_result"
    }
   ],
   "source": [
    "s.name"
   ]
  },
  {
   "cell_type": "code",
   "execution_count": 96,
   "id": "a31f9bf8-4fac-4e9a-a423-3f2c36f0b869",
   "metadata": {},
   "outputs": [
    {
     "data": {
      "text/plain": [
       "'sohan@gmail.com'"
      ]
     },
     "execution_count": 96,
     "metadata": {},
     "output_type": "execute_result"
    }
   ],
   "source": [
    "s.email"
   ]
  },
  {
   "cell_type": "code",
   "execution_count": 97,
   "id": "db79a12c-1982-4ef0-b810-1302fbf46963",
   "metadata": {},
   "outputs": [
    {
     "name": "stdout",
     "output_type": "stream",
     "text": [
      "sohan sohan@gmail.com\n"
     ]
    }
   ],
   "source": [
    "s.student_details()"
   ]
  },
  {
   "cell_type": "code",
   "execution_count": 105,
   "id": "9da313e6-bf69-49f4-913e-1a0e36535f3b",
   "metadata": {},
   "outputs": [],
   "source": [
    "class school1:\n",
    "    def __init__(self,name,email):\n",
    "        self.name=name\n",
    "        self.email=email\n",
    "    @classmethod    \n",
    "    def details(cls,name,email):\n",
    "        return cls(name,email)\n",
    "    def student_details(self):\n",
    "        print(self.name,self.email)"
   ]
  },
  {
   "cell_type": "code",
   "execution_count": 106,
   "id": "dbb15d72-cb00-496d-ab0a-271281868c8f",
   "metadata": {},
   "outputs": [],
   "source": [
    "s1=school1.details(\"rohan\",\"rohan@gmail.com\")"
   ]
  },
  {
   "cell_type": "code",
   "execution_count": 107,
   "id": "43792d5b-7633-4d77-b13a-f69790ecb1fc",
   "metadata": {},
   "outputs": [
    {
     "data": {
      "text/plain": [
       "'rohan'"
      ]
     },
     "execution_count": 107,
     "metadata": {},
     "output_type": "execute_result"
    }
   ],
   "source": [
    "s1.name"
   ]
  },
  {
   "cell_type": "code",
   "execution_count": 108,
   "id": "7c262562-3082-4bc3-a61f-90251f1567af",
   "metadata": {},
   "outputs": [
    {
     "data": {
      "text/plain": [
       "'rohan@gmail.com'"
      ]
     },
     "execution_count": 108,
     "metadata": {},
     "output_type": "execute_result"
    }
   ],
   "source": [
    "s1.email"
   ]
  },
  {
   "cell_type": "code",
   "execution_count": 114,
   "id": "97addcf4-95ad-4439-afcb-e75e1e13fd6f",
   "metadata": {},
   "outputs": [],
   "source": [
    "class school2:\n",
    "    mob=784526574\n",
    "    def __init__(self,name,email):\n",
    "        self.name=name\n",
    "        self.email=email\n",
    "    @classmethod    \n",
    "    def change_mob(cls,mobile):\n",
    "        school2.mob=mobile\n",
    "    @classmethod    \n",
    "    def details(cls,name,email):\n",
    "        return cls(name,email)\n",
    "    def student_details(self):\n",
    "        print(self.name,self.email,school2.mob)"
   ]
  },
  {
   "cell_type": "code",
   "execution_count": 115,
   "id": "ef792285-4acb-4642-bdd8-bf5647f0b158",
   "metadata": {},
   "outputs": [],
   "source": [
    "school2.change_mob(8521456320)"
   ]
  },
  {
   "cell_type": "code",
   "execution_count": 116,
   "id": "7256bc3f-6d39-4c22-bee6-e57704efeff3",
   "metadata": {},
   "outputs": [
    {
     "data": {
      "text/plain": [
       "8521456320"
      ]
     },
     "execution_count": 116,
     "metadata": {},
     "output_type": "execute_result"
    }
   ],
   "source": [
    "school2.mob"
   ]
  },
  {
   "cell_type": "code",
   "execution_count": null,
   "id": "018a0af9-44ed-4ba0-9213-697efdcf2894",
   "metadata": {},
   "outputs": [],
   "source": []
  }
 ],
 "metadata": {
  "kernelspec": {
   "display_name": "Python 3 (ipykernel)",
   "language": "python",
   "name": "python3"
  },
  "language_info": {
   "codemirror_mode": {
    "name": "ipython",
    "version": 3
   },
   "file_extension": ".py",
   "mimetype": "text/x-python",
   "name": "python",
   "nbconvert_exporter": "python",
   "pygments_lexer": "ipython3",
   "version": "3.10.6"
  }
 },
 "nbformat": 4,
 "nbformat_minor": 5
}
