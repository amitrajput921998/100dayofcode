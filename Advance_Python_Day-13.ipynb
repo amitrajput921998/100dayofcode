{
 "cells": [
  {
   "cell_type": "code",
   "execution_count": 1,
   "id": "e4a20a16-2fae-42d1-9026-ee880937d81f",
   "metadata": {},
   "outputs": [
    {
     "name": "stdout",
     "output_type": "stream",
     "text": [
      "Requirement already satisfied: pandas in /opt/conda/lib/python3.10/site-packages (1.5.1)\n",
      "Requirement already satisfied: python-dateutil>=2.8.1 in /opt/conda/lib/python3.10/site-packages (from pandas) (2.8.2)\n",
      "Requirement already satisfied: pytz>=2020.1 in /opt/conda/lib/python3.10/site-packages (from pandas) (2022.5)\n",
      "Requirement already satisfied: numpy>=1.21.0 in /opt/conda/lib/python3.10/site-packages (from pandas) (1.23.4)\n",
      "Requirement already satisfied: six>=1.5 in /opt/conda/lib/python3.10/site-packages (from python-dateutil>=2.8.1->pandas) (1.16.0)\n",
      "Note: you may need to restart the kernel to use updated packages.\n"
     ]
    }
   ],
   "source": [
    "pip install pandas"
   ]
  },
  {
   "cell_type": "code",
   "execution_count": 2,
   "id": "5189edaa-caec-4316-bea4-7d7f2b383b4e",
   "metadata": {},
   "outputs": [],
   "source": [
    "import pandas as pd"
   ]
  },
  {
   "cell_type": "code",
   "execution_count": 11,
   "id": "371d1264-5103-4256-bd6d-2dfe620008c3",
   "metadata": {},
   "outputs": [],
   "source": [
    "df=pd.read_csv(\"holiday_schedules.csv\")"
   ]
  },
  {
   "cell_type": "code",
   "execution_count": 12,
   "id": "eca1c657-ad1f-4d5b-857e-3cd7416e2937",
   "metadata": {},
   "outputs": [
    {
     "data": {
      "text/html": [
       "<div>\n",
       "<style scoped>\n",
       "    .dataframe tbody tr th:only-of-type {\n",
       "        vertical-align: middle;\n",
       "    }\n",
       "\n",
       "    .dataframe tbody tr th {\n",
       "        vertical-align: top;\n",
       "    }\n",
       "\n",
       "    .dataframe thead th {\n",
       "        text-align: right;\n",
       "    }\n",
       "</style>\n",
       "<table border=\"1\" class=\"dataframe\">\n",
       "  <thead>\n",
       "    <tr style=\"text-align: right;\">\n",
       "      <th></th>\n",
       "      <th>id</th>\n",
       "      <th>location_id</th>\n",
       "      <th>service_id</th>\n",
       "      <th>start_date</th>\n",
       "      <th>end_date</th>\n",
       "      <th>closed</th>\n",
       "      <th>opens_at</th>\n",
       "      <th>closes_at</th>\n",
       "    </tr>\n",
       "  </thead>\n",
       "  <tbody>\n",
       "    <tr>\n",
       "      <th>0</th>\n",
       "      <td>1</td>\n",
       "      <td>22.0</td>\n",
       "      <td>NaN</td>\n",
       "      <td>January 01, 0001</td>\n",
       "      <td>January 01, 0001</td>\n",
       "      <td>True</td>\n",
       "      <td>NaN</td>\n",
       "      <td>NaN</td>\n",
       "    </tr>\n",
       "    <tr>\n",
       "      <th>1</th>\n",
       "      <td>2</td>\n",
       "      <td>22.0</td>\n",
       "      <td>NaN</td>\n",
       "      <td>12/24/2015</td>\n",
       "      <td>12/24/15</td>\n",
       "      <td>False</td>\n",
       "      <td>10:00</td>\n",
       "      <td>16:00</td>\n",
       "    </tr>\n",
       "    <tr>\n",
       "      <th>2</th>\n",
       "      <td>3</td>\n",
       "      <td>22.0</td>\n",
       "      <td>NaN</td>\n",
       "      <td>June 01, 0001</td>\n",
       "      <td>September 01, 0001</td>\n",
       "      <td>True</td>\n",
       "      <td>NaN</td>\n",
       "      <td>NaN</td>\n",
       "    </tr>\n",
       "    <tr>\n",
       "      <th>3</th>\n",
       "      <td>4</td>\n",
       "      <td>NaN</td>\n",
       "      <td>22.0</td>\n",
       "      <td>January 01, 0001</td>\n",
       "      <td>January 01, 0001</td>\n",
       "      <td>True</td>\n",
       "      <td>NaN</td>\n",
       "      <td>NaN</td>\n",
       "    </tr>\n",
       "  </tbody>\n",
       "</table>\n",
       "</div>"
      ],
      "text/plain": [
       "   id  location_id  service_id        start_date            end_date  closed  \\\n",
       "0   1         22.0         NaN  January 01, 0001    January 01, 0001    True   \n",
       "1   2         22.0         NaN        12/24/2015            12/24/15   False   \n",
       "2   3         22.0         NaN     June 01, 0001  September 01, 0001    True   \n",
       "3   4          NaN        22.0  January 01, 0001    January 01, 0001    True   \n",
       "\n",
       "  opens_at closes_at  \n",
       "0      NaN       NaN  \n",
       "1    10:00     16:00  \n",
       "2      NaN       NaN  \n",
       "3      NaN       NaN  "
      ]
     },
     "execution_count": 12,
     "metadata": {},
     "output_type": "execute_result"
    }
   ],
   "source": [
    "df.head()"
   ]
  },
  {
   "cell_type": "code",
   "execution_count": 13,
   "id": "76a99e4e-ff5f-4cd1-94a8-7f30369d2834",
   "metadata": {},
   "outputs": [
    {
     "data": {
      "text/html": [
       "<div>\n",
       "<style scoped>\n",
       "    .dataframe tbody tr th:only-of-type {\n",
       "        vertical-align: middle;\n",
       "    }\n",
       "\n",
       "    .dataframe tbody tr th {\n",
       "        vertical-align: top;\n",
       "    }\n",
       "\n",
       "    .dataframe thead th {\n",
       "        text-align: right;\n",
       "    }\n",
       "</style>\n",
       "<table border=\"1\" class=\"dataframe\">\n",
       "  <thead>\n",
       "    <tr style=\"text-align: right;\">\n",
       "      <th></th>\n",
       "      <th>id</th>\n",
       "      <th>location_id</th>\n",
       "      <th>service_id</th>\n",
       "      <th>start_date</th>\n",
       "      <th>end_date</th>\n",
       "      <th>closed</th>\n",
       "      <th>opens_at</th>\n",
       "      <th>closes_at</th>\n",
       "    </tr>\n",
       "  </thead>\n",
       "  <tbody>\n",
       "    <tr>\n",
       "      <th>0</th>\n",
       "      <td>1</td>\n",
       "      <td>22.0</td>\n",
       "      <td>NaN</td>\n",
       "      <td>January 01, 0001</td>\n",
       "      <td>January 01, 0001</td>\n",
       "      <td>True</td>\n",
       "      <td>NaN</td>\n",
       "      <td>NaN</td>\n",
       "    </tr>\n",
       "    <tr>\n",
       "      <th>1</th>\n",
       "      <td>2</td>\n",
       "      <td>22.0</td>\n",
       "      <td>NaN</td>\n",
       "      <td>12/24/2015</td>\n",
       "      <td>12/24/15</td>\n",
       "      <td>False</td>\n",
       "      <td>10:00</td>\n",
       "      <td>16:00</td>\n",
       "    </tr>\n",
       "    <tr>\n",
       "      <th>2</th>\n",
       "      <td>3</td>\n",
       "      <td>22.0</td>\n",
       "      <td>NaN</td>\n",
       "      <td>June 01, 0001</td>\n",
       "      <td>September 01, 0001</td>\n",
       "      <td>True</td>\n",
       "      <td>NaN</td>\n",
       "      <td>NaN</td>\n",
       "    </tr>\n",
       "  </tbody>\n",
       "</table>\n",
       "</div>"
      ],
      "text/plain": [
       "   id  location_id  service_id        start_date            end_date  closed  \\\n",
       "0   1         22.0         NaN  January 01, 0001    January 01, 0001    True   \n",
       "1   2         22.0         NaN        12/24/2015            12/24/15   False   \n",
       "2   3         22.0         NaN     June 01, 0001  September 01, 0001    True   \n",
       "\n",
       "  opens_at closes_at  \n",
       "0      NaN       NaN  \n",
       "1    10:00     16:00  \n",
       "2      NaN       NaN  "
      ]
     },
     "execution_count": 13,
     "metadata": {},
     "output_type": "execute_result"
    }
   ],
   "source": [
    "df.head(3)"
   ]
  },
  {
   "cell_type": "code",
   "execution_count": 14,
   "id": "9b7b53f9-7c4e-49fe-94f7-1c6e1459dbf8",
   "metadata": {},
   "outputs": [
    {
     "data": {
      "text/html": [
       "<div>\n",
       "<style scoped>\n",
       "    .dataframe tbody tr th:only-of-type {\n",
       "        vertical-align: middle;\n",
       "    }\n",
       "\n",
       "    .dataframe tbody tr th {\n",
       "        vertical-align: top;\n",
       "    }\n",
       "\n",
       "    .dataframe thead th {\n",
       "        text-align: right;\n",
       "    }\n",
       "</style>\n",
       "<table border=\"1\" class=\"dataframe\">\n",
       "  <thead>\n",
       "    <tr style=\"text-align: right;\">\n",
       "      <th></th>\n",
       "      <th>id</th>\n",
       "      <th>location_id</th>\n",
       "      <th>service_id</th>\n",
       "      <th>start_date</th>\n",
       "      <th>end_date</th>\n",
       "      <th>closed</th>\n",
       "      <th>opens_at</th>\n",
       "      <th>closes_at</th>\n",
       "    </tr>\n",
       "  </thead>\n",
       "  <tbody>\n",
       "    <tr>\n",
       "      <th>0</th>\n",
       "      <td>1</td>\n",
       "      <td>22.0</td>\n",
       "      <td>NaN</td>\n",
       "      <td>January 01, 0001</td>\n",
       "      <td>January 01, 0001</td>\n",
       "      <td>True</td>\n",
       "      <td>NaN</td>\n",
       "      <td>NaN</td>\n",
       "    </tr>\n",
       "    <tr>\n",
       "      <th>1</th>\n",
       "      <td>2</td>\n",
       "      <td>22.0</td>\n",
       "      <td>NaN</td>\n",
       "      <td>12/24/2015</td>\n",
       "      <td>12/24/15</td>\n",
       "      <td>False</td>\n",
       "      <td>10:00</td>\n",
       "      <td>16:00</td>\n",
       "    </tr>\n",
       "    <tr>\n",
       "      <th>2</th>\n",
       "      <td>3</td>\n",
       "      <td>22.0</td>\n",
       "      <td>NaN</td>\n",
       "      <td>June 01, 0001</td>\n",
       "      <td>September 01, 0001</td>\n",
       "      <td>True</td>\n",
       "      <td>NaN</td>\n",
       "      <td>NaN</td>\n",
       "    </tr>\n",
       "    <tr>\n",
       "      <th>3</th>\n",
       "      <td>4</td>\n",
       "      <td>NaN</td>\n",
       "      <td>22.0</td>\n",
       "      <td>January 01, 0001</td>\n",
       "      <td>January 01, 0001</td>\n",
       "      <td>True</td>\n",
       "      <td>NaN</td>\n",
       "      <td>NaN</td>\n",
       "    </tr>\n",
       "  </tbody>\n",
       "</table>\n",
       "</div>"
      ],
      "text/plain": [
       "   id  location_id  service_id        start_date            end_date  closed  \\\n",
       "0   1         22.0         NaN  January 01, 0001    January 01, 0001    True   \n",
       "1   2         22.0         NaN        12/24/2015            12/24/15   False   \n",
       "2   3         22.0         NaN     June 01, 0001  September 01, 0001    True   \n",
       "3   4          NaN        22.0  January 01, 0001    January 01, 0001    True   \n",
       "\n",
       "  opens_at closes_at  \n",
       "0      NaN       NaN  \n",
       "1    10:00     16:00  \n",
       "2      NaN       NaN  \n",
       "3      NaN       NaN  "
      ]
     },
     "execution_count": 14,
     "metadata": {},
     "output_type": "execute_result"
    }
   ],
   "source": [
    "df.tail()"
   ]
  },
  {
   "cell_type": "code",
   "execution_count": 15,
   "id": "ca032db3-ee70-4712-8a4e-3f84785baf84",
   "metadata": {},
   "outputs": [
    {
     "data": {
      "text/plain": [
       "pandas.core.frame.DataFrame"
      ]
     },
     "execution_count": 15,
     "metadata": {},
     "output_type": "execute_result"
    }
   ],
   "source": [
    "type(df)"
   ]
  },
  {
   "cell_type": "code",
   "execution_count": 16,
   "id": "0d940538-6ff9-49f6-ab16-d94cbb48d557",
   "metadata": {},
   "outputs": [
    {
     "data": {
      "text/plain": [
       "Index(['id', 'location_id', 'service_id', 'start_date', 'end_date', 'closed',\n",
       "       'opens_at', 'closes_at'],\n",
       "      dtype='object')"
      ]
     },
     "execution_count": 16,
     "metadata": {},
     "output_type": "execute_result"
    }
   ],
   "source": [
    "df.columns"
   ]
  },
  {
   "cell_type": "code",
   "execution_count": 17,
   "id": "e6e0e0bc-2751-4b36-a700-6259bed79721",
   "metadata": {},
   "outputs": [
    {
     "data": {
      "text/plain": [
       "0    22.0\n",
       "1    22.0\n",
       "2    22.0\n",
       "3     NaN\n",
       "Name: location_id, dtype: float64"
      ]
     },
     "execution_count": 17,
     "metadata": {},
     "output_type": "execute_result"
    }
   ],
   "source": [
    "df['location_id']"
   ]
  },
  {
   "cell_type": "code",
   "execution_count": 18,
   "id": "425c9e76-00e2-486b-8a2d-0dcb6fbe359d",
   "metadata": {},
   "outputs": [
    {
     "data": {
      "text/plain": [
       "0     NaN\n",
       "1     NaN\n",
       "2     NaN\n",
       "3    22.0\n",
       "Name: service_id, dtype: float64"
      ]
     },
     "execution_count": 18,
     "metadata": {},
     "output_type": "execute_result"
    }
   ],
   "source": [
    "df['service_id']"
   ]
  },
  {
   "cell_type": "code",
   "execution_count": 19,
   "id": "e5681022-42d5-4f4b-b02f-80d66838b1c3",
   "metadata": {},
   "outputs": [
    {
     "data": {
      "text/plain": [
       "['id',\n",
       " 'location_id',\n",
       " 'service_id',\n",
       " 'start_date',\n",
       " 'end_date',\n",
       " 'closed',\n",
       " 'opens_at',\n",
       " 'closes_at']"
      ]
     },
     "execution_count": 19,
     "metadata": {},
     "output_type": "execute_result"
    }
   ],
   "source": [
    "list(df.columns)"
   ]
  },
  {
   "cell_type": "code",
   "execution_count": 21,
   "id": "ef4ba12a-8858-4f52-b9f5-9f5a8140aae0",
   "metadata": {},
   "outputs": [
    {
     "data": {
      "text/plain": [
       "pandas.core.series.Series"
      ]
     },
     "execution_count": 21,
     "metadata": {},
     "output_type": "execute_result"
    }
   ],
   "source": [
    "type(df['service_id'])"
   ]
  },
  {
   "cell_type": "code",
   "execution_count": 22,
   "id": "c453ee53-ff37-4e43-8b35-c4778337fbf1",
   "metadata": {},
   "outputs": [
    {
     "data": {
      "text/plain": [
       "[nan, nan, nan, 22.0]"
      ]
     },
     "execution_count": 22,
     "metadata": {},
     "output_type": "execute_result"
    }
   ],
   "source": [
    "list(df['service_id'])"
   ]
  },
  {
   "cell_type": "code",
   "execution_count": 23,
   "id": "59df97b9-0fe4-4d7e-9e18-237f308bdc93",
   "metadata": {},
   "outputs": [
    {
     "data": {
      "text/plain": [
       "[0     NaN\n",
       " 1     NaN\n",
       " 2     NaN\n",
       " 3    22.0\n",
       " Name: service_id, dtype: float64]"
      ]
     },
     "execution_count": 23,
     "metadata": {},
     "output_type": "execute_result"
    }
   ],
   "source": [
    "[df['service_id']]"
   ]
  },
  {
   "cell_type": "code",
   "execution_count": 25,
   "id": "52f72cf0-e4a2-4946-8b62-2fc83b623ce1",
   "metadata": {},
   "outputs": [
    {
     "data": {
      "text/plain": [
       "pandas.core.series.Series"
      ]
     },
     "execution_count": 25,
     "metadata": {},
     "output_type": "execute_result"
    }
   ],
   "source": [
    "type(df['service_id'])"
   ]
  },
  {
   "cell_type": "code",
   "execution_count": 26,
   "id": "b69fed10-a9de-4548-8e71-c8a9ecc0b764",
   "metadata": {},
   "outputs": [],
   "source": [
    "data=pd.read_csv(\"addresses.csv\")"
   ]
  },
  {
   "cell_type": "code",
   "execution_count": 27,
   "id": "bbc10085-a7c8-4b6e-b299-bc12674497fb",
   "metadata": {},
   "outputs": [
    {
     "data": {
      "text/html": [
       "<div>\n",
       "<style scoped>\n",
       "    .dataframe tbody tr th:only-of-type {\n",
       "        vertical-align: middle;\n",
       "    }\n",
       "\n",
       "    .dataframe tbody tr th {\n",
       "        vertical-align: top;\n",
       "    }\n",
       "\n",
       "    .dataframe thead th {\n",
       "        text-align: right;\n",
       "    }\n",
       "</style>\n",
       "<table border=\"1\" class=\"dataframe\">\n",
       "  <thead>\n",
       "    <tr style=\"text-align: right;\">\n",
       "      <th></th>\n",
       "      <th>id</th>\n",
       "      <th>location_id</th>\n",
       "      <th>address_1</th>\n",
       "      <th>address_2</th>\n",
       "      <th>city</th>\n",
       "      <th>state_province</th>\n",
       "      <th>postal_code</th>\n",
       "      <th>country</th>\n",
       "    </tr>\n",
       "  </thead>\n",
       "  <tbody>\n",
       "    <tr>\n",
       "      <th>0</th>\n",
       "      <td>1</td>\n",
       "      <td>1</td>\n",
       "      <td>2600 Middlefield Road</td>\n",
       "      <td>NaN</td>\n",
       "      <td>Redwood City</td>\n",
       "      <td>CA</td>\n",
       "      <td>94063</td>\n",
       "      <td>US</td>\n",
       "    </tr>\n",
       "    <tr>\n",
       "      <th>1</th>\n",
       "      <td>2</td>\n",
       "      <td>2</td>\n",
       "      <td>24 Second Avenue</td>\n",
       "      <td>NaN</td>\n",
       "      <td>San Mateo</td>\n",
       "      <td>CA</td>\n",
       "      <td>94401</td>\n",
       "      <td>US</td>\n",
       "    </tr>\n",
       "    <tr>\n",
       "      <th>2</th>\n",
       "      <td>3</td>\n",
       "      <td>3</td>\n",
       "      <td>24 Second Avenue</td>\n",
       "      <td>NaN</td>\n",
       "      <td>San Mateo</td>\n",
       "      <td>CA</td>\n",
       "      <td>94403</td>\n",
       "      <td>US</td>\n",
       "    </tr>\n",
       "    <tr>\n",
       "      <th>3</th>\n",
       "      <td>4</td>\n",
       "      <td>4</td>\n",
       "      <td>24 Second Avenue</td>\n",
       "      <td>NaN</td>\n",
       "      <td>San Mateo</td>\n",
       "      <td>CA</td>\n",
       "      <td>94401</td>\n",
       "      <td>US</td>\n",
       "    </tr>\n",
       "    <tr>\n",
       "      <th>4</th>\n",
       "      <td>5</td>\n",
       "      <td>5</td>\n",
       "      <td>24 Second Avenue</td>\n",
       "      <td>NaN</td>\n",
       "      <td>San Mateo</td>\n",
       "      <td>CA</td>\n",
       "      <td>94401</td>\n",
       "      <td>US</td>\n",
       "    </tr>\n",
       "  </tbody>\n",
       "</table>\n",
       "</div>"
      ],
      "text/plain": [
       "   id  location_id              address_1 address_2          city  \\\n",
       "0   1            1  2600 Middlefield Road       NaN  Redwood City   \n",
       "1   2            2       24 Second Avenue       NaN     San Mateo   \n",
       "2   3            3       24 Second Avenue       NaN     San Mateo   \n",
       "3   4            4       24 Second Avenue       NaN     San Mateo   \n",
       "4   5            5       24 Second Avenue       NaN     San Mateo   \n",
       "\n",
       "  state_province postal_code country  \n",
       "0             CA       94063      US  \n",
       "1             CA       94401      US  \n",
       "2             CA       94403      US  \n",
       "3             CA       94401      US  \n",
       "4             CA       94401      US  "
      ]
     },
     "execution_count": 27,
     "metadata": {},
     "output_type": "execute_result"
    }
   ],
   "source": [
    "data.head()"
   ]
  },
  {
   "cell_type": "code",
   "execution_count": 29,
   "id": "e7a79597-caf5-45f7-9f64-f17fffd1c819",
   "metadata": {},
   "outputs": [
    {
     "data": {
      "text/html": [
       "<div>\n",
       "<style scoped>\n",
       "    .dataframe tbody tr th:only-of-type {\n",
       "        vertical-align: middle;\n",
       "    }\n",
       "\n",
       "    .dataframe tbody tr th {\n",
       "        vertical-align: top;\n",
       "    }\n",
       "\n",
       "    .dataframe thead th {\n",
       "        text-align: right;\n",
       "    }\n",
       "</style>\n",
       "<table border=\"1\" class=\"dataframe\">\n",
       "  <thead>\n",
       "    <tr style=\"text-align: right;\">\n",
       "      <th></th>\n",
       "      <th>city</th>\n",
       "      <th>country</th>\n",
       "    </tr>\n",
       "  </thead>\n",
       "  <tbody>\n",
       "    <tr>\n",
       "      <th>0</th>\n",
       "      <td>Redwood City</td>\n",
       "      <td>US</td>\n",
       "    </tr>\n",
       "    <tr>\n",
       "      <th>1</th>\n",
       "      <td>San Mateo</td>\n",
       "      <td>US</td>\n",
       "    </tr>\n",
       "    <tr>\n",
       "      <th>2</th>\n",
       "      <td>San Mateo</td>\n",
       "      <td>US</td>\n",
       "    </tr>\n",
       "    <tr>\n",
       "      <th>3</th>\n",
       "      <td>San Mateo</td>\n",
       "      <td>US</td>\n",
       "    </tr>\n",
       "    <tr>\n",
       "      <th>4</th>\n",
       "      <td>San Mateo</td>\n",
       "      <td>US</td>\n",
       "    </tr>\n",
       "    <tr>\n",
       "      <th>5</th>\n",
       "      <td>Menlo Park</td>\n",
       "      <td>US</td>\n",
       "    </tr>\n",
       "    <tr>\n",
       "      <th>6</th>\n",
       "      <td>Menlo Park</td>\n",
       "      <td>US</td>\n",
       "    </tr>\n",
       "    <tr>\n",
       "      <th>7</th>\n",
       "      <td>Menlo Park</td>\n",
       "      <td>US</td>\n",
       "    </tr>\n",
       "    <tr>\n",
       "      <th>8</th>\n",
       "      <td>Redwood City</td>\n",
       "      <td>US</td>\n",
       "    </tr>\n",
       "    <tr>\n",
       "      <th>9</th>\n",
       "      <td>Redwood City</td>\n",
       "      <td>US</td>\n",
       "    </tr>\n",
       "    <tr>\n",
       "      <th>10</th>\n",
       "      <td>Redwood City</td>\n",
       "      <td>US</td>\n",
       "    </tr>\n",
       "    <tr>\n",
       "      <th>11</th>\n",
       "      <td>Redwood City</td>\n",
       "      <td>US</td>\n",
       "    </tr>\n",
       "    <tr>\n",
       "      <th>12</th>\n",
       "      <td>Redwood City</td>\n",
       "      <td>US</td>\n",
       "    </tr>\n",
       "    <tr>\n",
       "      <th>13</th>\n",
       "      <td>Redwood City</td>\n",
       "      <td>US</td>\n",
       "    </tr>\n",
       "    <tr>\n",
       "      <th>14</th>\n",
       "      <td>San Francisco</td>\n",
       "      <td>US</td>\n",
       "    </tr>\n",
       "    <tr>\n",
       "      <th>15</th>\n",
       "      <td>Sunnyvale</td>\n",
       "      <td>US</td>\n",
       "    </tr>\n",
       "    <tr>\n",
       "      <th>16</th>\n",
       "      <td>South San Francisco</td>\n",
       "      <td>US</td>\n",
       "    </tr>\n",
       "    <tr>\n",
       "      <th>17</th>\n",
       "      <td>Redwood City</td>\n",
       "      <td>US</td>\n",
       "    </tr>\n",
       "    <tr>\n",
       "      <th>18</th>\n",
       "      <td>San Mateo</td>\n",
       "      <td>US</td>\n",
       "    </tr>\n",
       "    <tr>\n",
       "      <th>19</th>\n",
       "      <td>Belmont</td>\n",
       "      <td>US</td>\n",
       "    </tr>\n",
       "    <tr>\n",
       "      <th>20</th>\n",
       "      <td>San Francisco</td>\n",
       "      <td>US</td>\n",
       "    </tr>\n",
       "  </tbody>\n",
       "</table>\n",
       "</div>"
      ],
      "text/plain": [
       "                   city country\n",
       "0          Redwood City      US\n",
       "1             San Mateo      US\n",
       "2             San Mateo      US\n",
       "3             San Mateo      US\n",
       "4             San Mateo      US\n",
       "5            Menlo Park      US\n",
       "6            Menlo Park      US\n",
       "7            Menlo Park      US\n",
       "8          Redwood City      US\n",
       "9          Redwood City      US\n",
       "10         Redwood City      US\n",
       "11         Redwood City      US\n",
       "12         Redwood City      US\n",
       "13         Redwood City      US\n",
       "14        San Francisco      US\n",
       "15            Sunnyvale      US\n",
       "16  South San Francisco      US\n",
       "17         Redwood City      US\n",
       "18            San Mateo      US\n",
       "19              Belmont      US\n",
       "20        San Francisco      US"
      ]
     },
     "execution_count": 29,
     "metadata": {},
     "output_type": "execute_result"
    }
   ],
   "source": [
    "data[['city','country']]"
   ]
  },
  {
   "cell_type": "code",
   "execution_count": 31,
   "id": "c61cb21e-21aa-4020-b7e9-5ef34119108d",
   "metadata": {},
   "outputs": [
    {
     "data": {
      "text/plain": [
       "id                 int64\n",
       "location_id        int64\n",
       "address_1         object\n",
       "address_2         object\n",
       "city              object\n",
       "state_province    object\n",
       "postal_code       object\n",
       "country           object\n",
       "dtype: object"
      ]
     },
     "execution_count": 31,
     "metadata": {},
     "output_type": "execute_result"
    }
   ],
   "source": [
    "data.dtypes"
   ]
  },
  {
   "cell_type": "code",
   "execution_count": 32,
   "id": "556df9ff-9186-4282-a1d3-b9a1d0be8a54",
   "metadata": {},
   "outputs": [],
   "source": [
    "df1=pd.read_excel(\"output.xlsx\")"
   ]
  },
  {
   "cell_type": "code",
   "execution_count": 34,
   "id": "7d8905db-de6f-4c00-9fdc-0f4de763db63",
   "metadata": {},
   "outputs": [
    {
     "data": {
      "text/html": [
       "<div>\n",
       "<style scoped>\n",
       "    .dataframe tbody tr th:only-of-type {\n",
       "        vertical-align: middle;\n",
       "    }\n",
       "\n",
       "    .dataframe tbody tr th {\n",
       "        vertical-align: top;\n",
       "    }\n",
       "\n",
       "    .dataframe thead th {\n",
       "        text-align: right;\n",
       "    }\n",
       "</style>\n",
       "<table border=\"1\" class=\"dataframe\">\n",
       "  <thead>\n",
       "    <tr style=\"text-align: right;\">\n",
       "      <th></th>\n",
       "      <th>Text Data</th>\n",
       "    </tr>\n",
       "  </thead>\n",
       "  <tbody>\n",
       "    <tr>\n",
       "      <th>0</th>\n",
       "      <td>Famous &amp; Authentic Veg &amp; Vegan Food Brands fro...</td>\n",
       "    </tr>\n",
       "    <tr>\n",
       "      <th>1</th>\n",
       "      <td>Delivering safely across 19000+ pin codes</td>\n",
       "    </tr>\n",
       "    <tr>\n",
       "      <th>2</th>\n",
       "      <td>Our Buyer Protection covers your purchase from...</td>\n",
       "    </tr>\n",
       "    <tr>\n",
       "      <th>3</th>\n",
       "      <td>Quick Customer Service for a smooth shopping e...</td>\n",
       "    </tr>\n",
       "    <tr>\n",
       "      <th>4</th>\n",
       "      <td>This pale yellow-coloured flaky dessert is ser...</td>\n",
       "    </tr>\n",
       "  </tbody>\n",
       "</table>\n",
       "</div>"
      ],
      "text/plain": [
       "                                           Text Data\n",
       "0  Famous & Authentic Veg & Vegan Food Brands fro...\n",
       "1          Delivering safely across 19000+ pin codes\n",
       "2  Our Buyer Protection covers your purchase from...\n",
       "3  Quick Customer Service for a smooth shopping e...\n",
       "4  This pale yellow-coloured flaky dessert is ser..."
      ]
     },
     "execution_count": 34,
     "metadata": {},
     "output_type": "execute_result"
    }
   ],
   "source": [
    "df1.head()"
   ]
  },
  {
   "cell_type": "code",
   "execution_count": 35,
   "id": "8649018d-c7f0-46ea-b04c-b1a60efb94a2",
   "metadata": {},
   "outputs": [
    {
     "data": {
      "text/plain": [
       "Index(['Text Data'], dtype='object')"
      ]
     },
     "execution_count": 35,
     "metadata": {},
     "output_type": "execute_result"
    }
   ],
   "source": [
    "df1.columns"
   ]
  },
  {
   "cell_type": "code",
   "execution_count": 3,
   "id": "1520bcfa-2713-44fc-b69c-f866efb3e9f9",
   "metadata": {},
   "outputs": [],
   "source": [
    "table=pd.read_html(\"https://www.iplt20.com/points-table/\")"
   ]
  },
  {
   "cell_type": "code",
   "execution_count": 37,
   "id": "e5b76a67-a628-45cc-8dc4-9ef575d2bd2c",
   "metadata": {},
   "outputs": [
    {
     "name": "stdout",
     "output_type": "stream",
     "text": [
      "Collecting lxml\n",
      "  Downloading lxml-4.9.3-cp310-cp310-manylinux_2_28_x86_64.whl (7.9 MB)\n",
      "\u001b[2K     \u001b[90m━━━━━━━━━━━━━━━━━━━━━━━━━━━━━━━━━━━━━━━━\u001b[0m \u001b[32m7.9/7.9 MB\u001b[0m \u001b[31m59.7 MB/s\u001b[0m eta \u001b[36m0:00:00\u001b[0m00:01\u001b[0m00:01\u001b[0m\n",
      "\u001b[?25hInstalling collected packages: lxml\n",
      "Successfully installed lxml-4.9.3\n",
      "Note: you may need to restart the kernel to use updated packages.\n"
     ]
    }
   ],
   "source": [
    "pip install lxml"
   ]
  },
  {
   "cell_type": "code",
   "execution_count": 9,
   "id": "27486a88-73b5-4615-86a9-78ee942907d1",
   "metadata": {},
   "outputs": [
    {
     "data": {
      "text/plain": [
       "1"
      ]
     },
     "execution_count": 9,
     "metadata": {},
     "output_type": "execute_result"
    }
   ],
   "source": [
    "len(table)"
   ]
  },
  {
   "cell_type": "code",
   "execution_count": 10,
   "id": "e3819eb0-c3fd-48db-becf-760211d91c14",
   "metadata": {},
   "outputs": [],
   "source": [
    "df3=table[0]"
   ]
  },
  {
   "cell_type": "code",
   "execution_count": 11,
   "id": "58e2aa96-216e-4486-9754-718c4db89363",
   "metadata": {},
   "outputs": [
    {
     "data": {
      "text/html": [
       "<div>\n",
       "<style scoped>\n",
       "    .dataframe tbody tr th:only-of-type {\n",
       "        vertical-align: middle;\n",
       "    }\n",
       "\n",
       "    .dataframe tbody tr th {\n",
       "        vertical-align: top;\n",
       "    }\n",
       "\n",
       "    .dataframe thead th {\n",
       "        text-align: right;\n",
       "    }\n",
       "</style>\n",
       "<table border=\"1\" class=\"dataframe\">\n",
       "  <thead>\n",
       "    <tr style=\"text-align: right;\">\n",
       "      <th></th>\n",
       "      <th>0</th>\n",
       "      <th>1</th>\n",
       "      <th>2</th>\n",
       "      <th>3</th>\n",
       "      <th>4</th>\n",
       "    </tr>\n",
       "  </thead>\n",
       "  <tbody>\n",
       "    <tr>\n",
       "      <th>0</th>\n",
       "      <td>Role</td>\n",
       "      <td>Batsman</td>\n",
       "      <td>Nationality</td>\n",
       "      <td>Indian</td>\n",
       "      <td>NaN</td>\n",
       "    </tr>\n",
       "    <tr>\n",
       "      <th>1</th>\n",
       "      <td>Bats</td>\n",
       "      <td>NaN</td>\n",
       "      <td>Bowls</td>\n",
       "      <td>NaN</td>\n",
       "      <td>NaN</td>\n",
       "    </tr>\n",
       "    <tr>\n",
       "      <th>2</th>\n",
       "      <td>NaN</td>\n",
       "      <td>NaN</td>\n",
       "      <td>NaN</td>\n",
       "      <td>NaN</td>\n",
       "      <td>NaN</td>\n",
       "    </tr>\n",
       "    <tr>\n",
       "      <th>3</th>\n",
       "      <td>Bio</td>\n",
       "      <td>NaN</td>\n",
       "      <td>NaN</td>\n",
       "      <td>NaN</td>\n",
       "      <td>NaN</td>\n",
       "    </tr>\n",
       "    <tr>\n",
       "      <th>4</th>\n",
       "      <td>A 22-year old opening batsman who hails from P...</td>\n",
       "      <td>A 22-year old opening batsman who hails from P...</td>\n",
       "      <td>A 22-year old opening batsman who hails from P...</td>\n",
       "      <td>A 22-year old opening batsman who hails from P...</td>\n",
       "      <td>NaN</td>\n",
       "    </tr>\n",
       "  </tbody>\n",
       "</table>\n",
       "</div>"
      ],
      "text/plain": [
       "                                                   0  \\\n",
       "0                                               Role   \n",
       "1                                               Bats   \n",
       "2                                                NaN   \n",
       "3                                                Bio   \n",
       "4  A 22-year old opening batsman who hails from P...   \n",
       "\n",
       "                                                   1  \\\n",
       "0                                            Batsman   \n",
       "1                                                NaN   \n",
       "2                                                NaN   \n",
       "3                                                NaN   \n",
       "4  A 22-year old opening batsman who hails from P...   \n",
       "\n",
       "                                                   2  \\\n",
       "0                                        Nationality   \n",
       "1                                              Bowls   \n",
       "2                                                NaN   \n",
       "3                                                NaN   \n",
       "4  A 22-year old opening batsman who hails from P...   \n",
       "\n",
       "                                                   3   4  \n",
       "0                                             Indian NaN  \n",
       "1                                                NaN NaN  \n",
       "2                                                NaN NaN  \n",
       "3                                                NaN NaN  \n",
       "4  A 22-year old opening batsman who hails from P... NaN  "
      ]
     },
     "execution_count": 11,
     "metadata": {},
     "output_type": "execute_result"
    }
   ],
   "source": [
    "df3"
   ]
  },
  {
   "cell_type": "code",
   "execution_count": 12,
   "id": "b20d595d-75d2-43ae-b740-a55a7290fd3e",
   "metadata": {},
   "outputs": [
    {
     "data": {
      "text/plain": [
       "Int64Index([0, 1, 2, 3, 4], dtype='int64')"
      ]
     },
     "execution_count": 12,
     "metadata": {},
     "output_type": "execute_result"
    }
   ],
   "source": [
    "df3.columns"
   ]
  },
  {
   "cell_type": "code",
   "execution_count": 13,
   "id": "d3682dac-5dce-410c-bd95-d1f2df1205d1",
   "metadata": {},
   "outputs": [
    {
     "data": {
      "text/html": [
       "<div>\n",
       "<style scoped>\n",
       "    .dataframe tbody tr th:only-of-type {\n",
       "        vertical-align: middle;\n",
       "    }\n",
       "\n",
       "    .dataframe tbody tr th {\n",
       "        vertical-align: top;\n",
       "    }\n",
       "\n",
       "    .dataframe thead th {\n",
       "        text-align: right;\n",
       "    }\n",
       "</style>\n",
       "<table border=\"1\" class=\"dataframe\">\n",
       "  <thead>\n",
       "    <tr style=\"text-align: right;\">\n",
       "      <th></th>\n",
       "      <th>0</th>\n",
       "      <th>1</th>\n",
       "      <th>2</th>\n",
       "      <th>3</th>\n",
       "      <th>4</th>\n",
       "    </tr>\n",
       "  </thead>\n",
       "  <tbody>\n",
       "    <tr>\n",
       "      <th>0</th>\n",
       "      <td>Role</td>\n",
       "      <td>Batsman</td>\n",
       "      <td>Nationality</td>\n",
       "      <td>Indian</td>\n",
       "      <td>NaN</td>\n",
       "    </tr>\n",
       "    <tr>\n",
       "      <th>1</th>\n",
       "      <td>Bats</td>\n",
       "      <td>NaN</td>\n",
       "      <td>Bowls</td>\n",
       "      <td>NaN</td>\n",
       "      <td>NaN</td>\n",
       "    </tr>\n",
       "    <tr>\n",
       "      <th>2</th>\n",
       "      <td>NaN</td>\n",
       "      <td>NaN</td>\n",
       "      <td>NaN</td>\n",
       "      <td>NaN</td>\n",
       "      <td>NaN</td>\n",
       "    </tr>\n",
       "    <tr>\n",
       "      <th>3</th>\n",
       "      <td>Bio</td>\n",
       "      <td>NaN</td>\n",
       "      <td>NaN</td>\n",
       "      <td>NaN</td>\n",
       "      <td>NaN</td>\n",
       "    </tr>\n",
       "    <tr>\n",
       "      <th>4</th>\n",
       "      <td>A 22-year old opening batsman who hails from P...</td>\n",
       "      <td>A 22-year old opening batsman who hails from P...</td>\n",
       "      <td>A 22-year old opening batsman who hails from P...</td>\n",
       "      <td>A 22-year old opening batsman who hails from P...</td>\n",
       "      <td>NaN</td>\n",
       "    </tr>\n",
       "  </tbody>\n",
       "</table>\n",
       "</div>"
      ],
      "text/plain": [
       "                                                   0  \\\n",
       "0                                               Role   \n",
       "1                                               Bats   \n",
       "2                                                NaN   \n",
       "3                                                Bio   \n",
       "4  A 22-year old opening batsman who hails from P...   \n",
       "\n",
       "                                                   1  \\\n",
       "0                                            Batsman   \n",
       "1                                                NaN   \n",
       "2                                                NaN   \n",
       "3                                                NaN   \n",
       "4  A 22-year old opening batsman who hails from P...   \n",
       "\n",
       "                                                   2  \\\n",
       "0                                        Nationality   \n",
       "1                                              Bowls   \n",
       "2                                                NaN   \n",
       "3                                                NaN   \n",
       "4  A 22-year old opening batsman who hails from P...   \n",
       "\n",
       "                                                   3   4  \n",
       "0                                             Indian NaN  \n",
       "1                                                NaN NaN  \n",
       "2                                                NaN NaN  \n",
       "3                                                NaN NaN  \n",
       "4  A 22-year old opening batsman who hails from P... NaN  "
      ]
     },
     "execution_count": 13,
     "metadata": {},
     "output_type": "execute_result"
    }
   ],
   "source": [
    "df3.head()"
   ]
  },
  {
   "cell_type": "code",
   "execution_count": 15,
   "id": "13628107-bca9-4f45-ac93-8fbf902993df",
   "metadata": {},
   "outputs": [],
   "source": [
    "df3.to_csv(\"data.csv\",index=False)"
   ]
  },
  {
   "cell_type": "code",
   "execution_count": null,
   "id": "f0371007-be3d-4c07-8b44-f2405b4e8a78",
   "metadata": {},
   "outputs": [],
   "source": []
  }
 ],
 "metadata": {
  "kernelspec": {
   "display_name": "Python 3 (ipykernel)",
   "language": "python",
   "name": "python3"
  },
  "language_info": {
   "codemirror_mode": {
    "name": "ipython",
    "version": 3
   },
   "file_extension": ".py",
   "mimetype": "text/x-python",
   "name": "python",
   "nbconvert_exporter": "python",
   "pygments_lexer": "ipython3",
   "version": "3.10.6"
  }
 },
 "nbformat": 4,
 "nbformat_minor": 5
}
