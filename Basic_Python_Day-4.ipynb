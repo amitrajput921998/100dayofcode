{
 "cells": [
  {
   "cell_type": "markdown",
   "id": "0107041f-e1a4-47c0-8ea7-edaaf31205d1",
   "metadata": {},
   "source": [
    "# Dict"
   ]
  },
  {
   "cell_type": "code",
   "execution_count": 1,
   "id": "35762144-f25b-4131-962d-e161cb160ee6",
   "metadata": {},
   "outputs": [],
   "source": [
    "d={}"
   ]
  },
  {
   "cell_type": "code",
   "execution_count": 2,
   "id": "7127a3f4-ad80-4898-be80-6d89842800db",
   "metadata": {},
   "outputs": [
    {
     "data": {
      "text/plain": [
       "dict"
      ]
     },
     "execution_count": 2,
     "metadata": {},
     "output_type": "execute_result"
    }
   ],
   "source": [
    "type(d)"
   ]
  },
  {
   "cell_type": "code",
   "execution_count": 3,
   "id": "d7a12eb6-e5b9-4c4d-a908-885f40993c71",
   "metadata": {},
   "outputs": [],
   "source": [
    "d1={'key':\"amit\"}"
   ]
  },
  {
   "cell_type": "code",
   "execution_count": 4,
   "id": "9239bea2-5e4f-4b9b-8e1c-08a8fdb223eb",
   "metadata": {},
   "outputs": [
    {
     "data": {
      "text/plain": [
       "{'key': 'amit'}"
      ]
     },
     "execution_count": 4,
     "metadata": {},
     "output_type": "execute_result"
    }
   ],
   "source": [
    "d1"
   ]
  },
  {
   "cell_type": "code",
   "execution_count": 6,
   "id": "95669608-4bd7-4822-9e06-ff39e6a282fb",
   "metadata": {},
   "outputs": [],
   "source": [
    "d2={'name':'amit',\"email\":\"pamit@gmail.com\",\"no\":7845}"
   ]
  },
  {
   "cell_type": "code",
   "execution_count": 7,
   "id": "e57f43ba-4f85-4859-8453-5918b22dc78a",
   "metadata": {},
   "outputs": [
    {
     "data": {
      "text/plain": [
       "{'name': 'amit', 'email': 'pamit@gmail.com', 'no': 7845}"
      ]
     },
     "execution_count": 7,
     "metadata": {},
     "output_type": "execute_result"
    }
   ],
   "source": [
    "d2"
   ]
  },
  {
   "cell_type": "code",
   "execution_count": 12,
   "id": "6212150f-bf1d-4cfa-a196-f9ba602172d1",
   "metadata": {},
   "outputs": [
    {
     "data": {
      "text/plain": [
       "{'name': 'amit', 'email': 'pamit@gmail.com', 'no': 7845}"
      ]
     },
     "execution_count": 12,
     "metadata": {},
     "output_type": "execute_result"
    }
   ],
   "source": [
    "d2"
   ]
  },
  {
   "cell_type": "code",
   "execution_count": 9,
   "id": "5e43cf5a-742f-4aa4-9dfb-d31c76d7352d",
   "metadata": {},
   "outputs": [
    {
     "data": {
      "text/plain": [
       "{234, 'amit'}"
      ]
     },
     "execution_count": 9,
     "metadata": {},
     "output_type": "execute_result"
    }
   ],
   "source": [
    "d33"
   ]
  },
  {
   "cell_type": "code",
   "execution_count": 13,
   "id": "a5097888-0690-45b8-906f-ce50534bd0eb",
   "metadata": {},
   "outputs": [
    {
     "data": {
      "text/plain": [
       "{'name': 'amit', 'email': 'pamit@gmail.com', 'no': 7845}"
      ]
     },
     "execution_count": 13,
     "metadata": {},
     "output_type": "execute_result"
    }
   ],
   "source": [
    "d2"
   ]
  },
  {
   "cell_type": "code",
   "execution_count": 16,
   "id": "2ab1f720-d01b-473c-9d5b-191a02a1d048",
   "metadata": {},
   "outputs": [
    {
     "data": {
      "text/plain": [
       "['name', 'email', 'no']"
      ]
     },
     "execution_count": 16,
     "metadata": {},
     "output_type": "execute_result"
    }
   ],
   "source": [
    "list(d2.keys())"
   ]
  },
  {
   "cell_type": "code",
   "execution_count": 17,
   "id": "16f7d8a4-3c97-474e-a1ed-8366aebb0d0f",
   "metadata": {},
   "outputs": [
    {
     "data": {
      "text/plain": [
       "'amit'"
      ]
     },
     "execution_count": 17,
     "metadata": {},
     "output_type": "execute_result"
    }
   ],
   "source": [
    "d2['name']"
   ]
  },
  {
   "cell_type": "code",
   "execution_count": 19,
   "id": "93266d6e-2f1f-4199-ad8b-eaad3f04c715",
   "metadata": {},
   "outputs": [],
   "source": [
    "d4={\"name\":\"amit\",\"mail_id\":\"pamit@gmail\",\"name\":\"singh\"}"
   ]
  },
  {
   "cell_type": "code",
   "execution_count": 20,
   "id": "e1a220fa-b904-4c99-a3f0-40c43ea98507",
   "metadata": {},
   "outputs": [
    {
     "data": {
      "text/plain": [
       "{'name': 'singh', 'mail_id': 'pamit@gmail'}"
      ]
     },
     "execution_count": 20,
     "metadata": {},
     "output_type": "execute_result"
    }
   ],
   "source": [
    "d4"
   ]
  },
  {
   "cell_type": "code",
   "execution_count": 21,
   "id": "c798d550-c03f-4f4b-a791-d2181153d547",
   "metadata": {},
   "outputs": [
    {
     "data": {
      "text/plain": [
       "'singh'"
      ]
     },
     "execution_count": 21,
     "metadata": {},
     "output_type": "execute_result"
    }
   ],
   "source": [
    "d4['name']"
   ]
  },
  {
   "cell_type": "code",
   "execution_count": 22,
   "id": "fcf792ca-5fce-441b-b89f-8c40e3ea706e",
   "metadata": {},
   "outputs": [],
   "source": [
    "d5={\"company\":\"waterdeo\",\"water\":\"well\",\"sero\":[2,3,4,5]}"
   ]
  },
  {
   "cell_type": "code",
   "execution_count": 23,
   "id": "c9e9bd77-b911-4150-86ee-1bbe46c0c06f",
   "metadata": {},
   "outputs": [
    {
     "data": {
      "text/plain": [
       "{'company': 'waterdeo', 'water': 'well', 'sero': [2, 3, 4, 5]}"
      ]
     },
     "execution_count": 23,
     "metadata": {},
     "output_type": "execute_result"
    }
   ],
   "source": [
    "d5"
   ]
  },
  {
   "cell_type": "code",
   "execution_count": 24,
   "id": "d2f20568-36dc-4dd3-873d-13085e770259",
   "metadata": {},
   "outputs": [
    {
     "data": {
      "text/plain": [
       "[2, 3, 4, 5]"
      ]
     },
     "execution_count": 24,
     "metadata": {},
     "output_type": "execute_result"
    }
   ],
   "source": [
    "d5['sero']"
   ]
  },
  {
   "cell_type": "code",
   "execution_count": 25,
   "id": "0dd967cb-16cd-4e8a-87c3-c48b979cce31",
   "metadata": {},
   "outputs": [
    {
     "data": {
      "text/plain": [
       "4"
      ]
     },
     "execution_count": 25,
     "metadata": {},
     "output_type": "execute_result"
    }
   ],
   "source": [
    "d5['sero'][2]"
   ]
  },
  {
   "cell_type": "code",
   "execution_count": 26,
   "id": "18ed2a61-7268-406b-8ea5-e100a615caf0",
   "metadata": {},
   "outputs": [],
   "source": [
    "d6={\"number\":[2,3,4,5],\"asignment\":(2,3,4,5)}"
   ]
  },
  {
   "cell_type": "code",
   "execution_count": 27,
   "id": "c28c495c-eb77-4750-be6e-97d84b385e5a",
   "metadata": {},
   "outputs": [
    {
     "data": {
      "text/plain": [
       "{'number': [2, 3, 4, 5], 'asignment': (2, 3, 4, 5)}"
      ]
     },
     "execution_count": 27,
     "metadata": {},
     "output_type": "execute_result"
    }
   ],
   "source": [
    "d6"
   ]
  },
  {
   "cell_type": "code",
   "execution_count": 32,
   "id": "f4b73d0e-b056-4311-9b5a-f7a48092f9f9",
   "metadata": {},
   "outputs": [],
   "source": [
    "d6['mentor']=\"suman\""
   ]
  },
  {
   "cell_type": "code",
   "execution_count": 33,
   "id": "b494f424-eee4-4f75-9923-bb71f758eda0",
   "metadata": {},
   "outputs": [
    {
     "data": {
      "text/plain": [
       "{'number': [2, 3, 4, 5], 'asignment': (2, 3, 4, 5), 'mentor': 'suman'}"
      ]
     },
     "execution_count": 33,
     "metadata": {},
     "output_type": "execute_result"
    }
   ],
   "source": [
    "d6"
   ]
  },
  {
   "cell_type": "code",
   "execution_count": 34,
   "id": "b1f32ffe-0132-486d-b14e-36a9ac8a1cea",
   "metadata": {},
   "outputs": [
    {
     "data": {
      "text/plain": [
       "dict_keys(['number', 'asignment', 'mentor'])"
      ]
     },
     "execution_count": 34,
     "metadata": {},
     "output_type": "execute_result"
    }
   ],
   "source": [
    "d6.keys()"
   ]
  },
  {
   "cell_type": "code",
   "execution_count": 35,
   "id": "6daeea50-fdfd-4526-bde0-a65a57c857cc",
   "metadata": {},
   "outputs": [
    {
     "data": {
      "text/plain": [
       "dict_values([[2, 3, 4, 5], (2, 3, 4, 5), 'suman'])"
      ]
     },
     "execution_count": 35,
     "metadata": {},
     "output_type": "execute_result"
    }
   ],
   "source": [
    "d6.values()"
   ]
  },
  {
   "cell_type": "code",
   "execution_count": 37,
   "id": "e6bcb784-2238-4731-bd1f-277ffc73d0f3",
   "metadata": {},
   "outputs": [
    {
     "data": {
      "text/plain": [
       "[('number', [2, 3, 4, 5]), ('asignment', (2, 3, 4, 5)), ('mentor', 'suman')]"
      ]
     },
     "execution_count": 37,
     "metadata": {},
     "output_type": "execute_result"
    }
   ],
   "source": [
    "list(d6.items())"
   ]
  },
  {
   "cell_type": "code",
   "execution_count": 38,
   "id": "3e7143c6-be29-4909-a04a-4795cfc76f33",
   "metadata": {},
   "outputs": [
    {
     "data": {
      "text/plain": [
       "{'number': [2, 3, 4, 5], 'asignment': (2, 3, 4, 5), 'mentor': 'suman'}"
      ]
     },
     "execution_count": 38,
     "metadata": {},
     "output_type": "execute_result"
    }
   ],
   "source": [
    "d6"
   ]
  },
  {
   "cell_type": "code",
   "execution_count": 39,
   "id": "87bdabab-97d5-45a8-b497-56648d1fc3f5",
   "metadata": {},
   "outputs": [
    {
     "data": {
      "text/plain": [
       "'suman'"
      ]
     },
     "execution_count": 39,
     "metadata": {},
     "output_type": "execute_result"
    }
   ],
   "source": [
    "d6.pop('mentor')"
   ]
  },
  {
   "cell_type": "code",
   "execution_count": 40,
   "id": "e07e6f87-b594-4974-8384-1f04448b273a",
   "metadata": {},
   "outputs": [
    {
     "data": {
      "text/plain": [
       "{'number': [2, 3, 4, 5], 'asignment': (2, 3, 4, 5)}"
      ]
     },
     "execution_count": 40,
     "metadata": {},
     "output_type": "execute_result"
    }
   ],
   "source": [
    "d6"
   ]
  },
  {
   "cell_type": "markdown",
   "id": "4ae3e868-46c0-42f5-8ad5-6921a0c017fe",
   "metadata": {},
   "source": [
    "# Control Statement"
   ]
  },
  {
   "cell_type": "code",
   "execution_count": 47,
   "id": "18e0dc06-85fd-456d-b797-e7d80540bc1d",
   "metadata": {},
   "outputs": [
    {
     "name": "stdin",
     "output_type": "stream",
     "text": [
      "Enter the marks 85\n"
     ]
    },
    {
     "name": "stdout",
     "output_type": "stream",
     "text": [
      "You will be a part of A0 batch\n"
     ]
    }
   ],
   "source": [
    "marks=int(input(\"Enter the marks\"))\n",
    "if marks>=80:\n",
    "    print(\"You will be a part of A0 batch\")\n",
    "elif marks >=60 and marks <80:\n",
    "    print(\"You will be a part of A1 batch\")\n",
    "elif marks >=40 and marks <60:\n",
    "    print(\"You will be a part of A2 batch\")\n",
    "else:\n",
    "    print(\"You will be a part of A3 batch\")"
   ]
  },
  {
   "cell_type": "code",
   "execution_count": 48,
   "id": "03d1997f-5b14-4de2-bc0a-c7e874efc793",
   "metadata": {},
   "outputs": [
    {
     "name": "stdin",
     "output_type": "stream",
     "text": [
      "Enter the price 50000\n"
     ]
    },
    {
     "name": "stdout",
     "output_type": "stream",
     "text": [
      "I will not purchase\n"
     ]
    }
   ],
   "source": [
    "price=int(input(\"Enter the price\"))\n",
    "if price >1000:\n",
    "    print(\"I will not purchase\")\n",
    "else:\n",
    "    print(\"I will purchase\")"
   ]
  },
  {
   "cell_type": "markdown",
   "id": "21f0bf97-6949-4d78-aab1-867e66902740",
   "metadata": {},
   "source": [
    "# Loop"
   ]
  },
  {
   "cell_type": "code",
   "execution_count": 50,
   "id": "db625f10-a4d5-4264-ab37-aa565ffb8af1",
   "metadata": {},
   "outputs": [
    {
     "name": "stdout",
     "output_type": "stream",
     "text": [
      "2\n",
      "3\n",
      "4\n",
      "5\n",
      "6\n",
      "7\n",
      "8\n",
      "9\n"
     ]
    }
   ],
   "source": [
    "l=[1,2,3,4,5,6,7,8]\n",
    "\n",
    "for i in l:\n",
    "    print(i+1)\n"
   ]
  },
  {
   "cell_type": "code",
   "execution_count": 51,
   "id": "5eb79918-5981-4873-93a0-8ff9e8f39a9f",
   "metadata": {},
   "outputs": [
    {
     "name": "stdout",
     "output_type": "stream",
     "text": [
      "a\n",
      "m\n",
      "i\n",
      "t\n"
     ]
    }
   ],
   "source": [
    "s=\"amit\"\n",
    "for i in s:\n",
    "    print(i)"
   ]
  },
  {
   "cell_type": "code",
   "execution_count": 54,
   "id": "9956dffe-18e1-4895-8ac4-fb077ea72180",
   "metadata": {},
   "outputs": [],
   "source": [
    "l=[2,3,4,6]\n",
    "l1=[]\n",
    "for i in l:\n",
    "    l1.append(i+1)"
   ]
  },
  {
   "cell_type": "code",
   "execution_count": 55,
   "id": "0db9c8c1-65bb-4b5b-b77d-5c5ab8ed6570",
   "metadata": {},
   "outputs": [
    {
     "data": {
      "text/plain": [
       "[3, 4, 5, 7]"
      ]
     },
     "execution_count": 55,
     "metadata": {},
     "output_type": "execute_result"
    }
   ],
   "source": [
    "l1"
   ]
  },
  {
   "cell_type": "code",
   "execution_count": 56,
   "id": "da0be612-f336-4acb-aef7-03640b408fda",
   "metadata": {},
   "outputs": [],
   "source": [
    "l=[\"amit\",\"sumit\",\"rohan\",\"lemon\"]\n",
    "l1=[]\n",
    "for i in l:\n",
    "    l1.append(i.upper())"
   ]
  },
  {
   "cell_type": "code",
   "execution_count": 57,
   "id": "42bee018-ca47-4d7f-b375-f44ec859a2a3",
   "metadata": {},
   "outputs": [
    {
     "data": {
      "text/plain": [
       "['AMIT', 'SUMIT', 'ROHAN', 'LEMON']"
      ]
     },
     "execution_count": 57,
     "metadata": {},
     "output_type": "execute_result"
    }
   ],
   "source": [
    "l1"
   ]
  },
  {
   "cell_type": "code",
   "execution_count": 58,
   "id": "613cfae2-fb66-4e9f-b9be-802ba4d71e03",
   "metadata": {},
   "outputs": [],
   "source": [
    "l=[1,2,3,4,6,\"amit\",\"singh\",3.45,True]"
   ]
  },
  {
   "cell_type": "code",
   "execution_count": 62,
   "id": "1aca70e7-8cc2-4557-bfe5-930e9b3e48c9",
   "metadata": {},
   "outputs": [],
   "source": [
    "l1=[]\n",
    "l2=[]\n",
    "for i in l:\n",
    "    if type(i)==str:\n",
    "        l1.append(i)\n",
    "    elif type(i)==int:\n",
    "            l2.append(i)"
   ]
  },
  {
   "cell_type": "code",
   "execution_count": 63,
   "id": "e8dc803b-9bd8-4138-ae14-8a1ffb72714a",
   "metadata": {},
   "outputs": [
    {
     "data": {
      "text/plain": [
       "['amit', 'singh']"
      ]
     },
     "execution_count": 63,
     "metadata": {},
     "output_type": "execute_result"
    }
   ],
   "source": [
    "l1"
   ]
  },
  {
   "cell_type": "code",
   "execution_count": 64,
   "id": "d641836e-dedc-45cc-a060-776a1dc43abf",
   "metadata": {},
   "outputs": [
    {
     "data": {
      "text/plain": [
       "[1, 2, 3, 4, 6]"
      ]
     },
     "execution_count": 64,
     "metadata": {},
     "output_type": "execute_result"
    }
   ],
   "source": [
    "l2"
   ]
  },
  {
   "cell_type": "code",
   "execution_count": null,
   "id": "822343b1-022e-40aa-aa47-f2faedf9874d",
   "metadata": {},
   "outputs": [],
   "source": []
  }
 ],
 "metadata": {
  "kernelspec": {
   "display_name": "Python 3 (ipykernel)",
   "language": "python",
   "name": "python3"
  },
  "language_info": {
   "codemirror_mode": {
    "name": "ipython",
    "version": 3
   },
   "file_extension": ".py",
   "mimetype": "text/x-python",
   "name": "python",
   "nbconvert_exporter": "python",
   "pygments_lexer": "ipython3",
   "version": "3.10.6"
  }
 },
 "nbformat": 4,
 "nbformat_minor": 5
}
