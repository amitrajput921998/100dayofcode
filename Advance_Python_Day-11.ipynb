{
 "cells": [
  {
   "cell_type": "markdown",
   "id": "eb216ed9",
   "metadata": {},
   "source": [
    "# Multithreading"
   ]
  },
  {
   "cell_type": "code",
   "execution_count": 2,
   "id": "185612b9",
   "metadata": {},
   "outputs": [],
   "source": [
    "import threading"
   ]
  },
  {
   "cell_type": "code",
   "execution_count": 4,
   "id": "8c2f399f",
   "metadata": {},
   "outputs": [],
   "source": [
    "def test(id):\n",
    "    print(\"program start %d\"% id)"
   ]
  },
  {
   "cell_type": "code",
   "execution_count": 5,
   "id": "1b4ed0b0",
   "metadata": {},
   "outputs": [
    {
     "name": "stdout",
     "output_type": "stream",
     "text": [
      "program start 45\n"
     ]
    }
   ],
   "source": [
    "test(45)"
   ]
  },
  {
   "cell_type": "code",
   "execution_count": 8,
   "id": "870d8328",
   "metadata": {},
   "outputs": [],
   "source": [
    "thread=[threading.Thread(target=test,args=(i,) )for i in range(10)]"
   ]
  },
  {
   "cell_type": "code",
   "execution_count": 9,
   "id": "196717f2",
   "metadata": {},
   "outputs": [
    {
     "name": "stdout",
     "output_type": "stream",
     "text": [
      "program start 0\n",
      "program start 1\n",
      "program start 2\n",
      "program start 3\n",
      "program start 4\n",
      "program start 5\n",
      "program start 6\n",
      "program start 7\n",
      "program start 8\n",
      "program start 9\n"
     ]
    }
   ],
   "source": [
    "for t in thread:\n",
    "    t.start()"
   ]
  },
  {
   "cell_type": "code",
   "execution_count": 10,
   "id": "0c4e2a9f",
   "metadata": {},
   "outputs": [
    {
     "data": {
      "text/plain": [
       "[0, 1, 2, 3, 4, 5, 6, 7, 8, 9]"
      ]
     },
     "execution_count": 10,
     "metadata": {},
     "output_type": "execute_result"
    }
   ],
   "source": [
    "list(range(10))"
   ]
  },
  {
   "cell_type": "code",
   "execution_count": 11,
   "id": "1e7aeff4",
   "metadata": {},
   "outputs": [
    {
     "data": {
      "text/plain": [
       "[<Thread(Thread-15, stopped 16828)>,\n",
       " <Thread(Thread-16, stopped 7980)>,\n",
       " <Thread(Thread-17, stopped 16508)>,\n",
       " <Thread(Thread-18, stopped 12008)>,\n",
       " <Thread(Thread-19, stopped 10980)>,\n",
       " <Thread(Thread-20, stopped 3232)>,\n",
       " <Thread(Thread-21, stopped 11664)>,\n",
       " <Thread(Thread-22, stopped 14304)>,\n",
       " <Thread(Thread-23, stopped 7372)>,\n",
       " <Thread(Thread-24, stopped 12404)>]"
      ]
     },
     "execution_count": 11,
     "metadata": {},
     "output_type": "execute_result"
    }
   ],
   "source": [
    "thread"
   ]
  },
  {
   "cell_type": "code",
   "execution_count": 12,
   "id": "6ff2f53a",
   "metadata": {},
   "outputs": [
    {
     "data": {
      "text/plain": [
       "2236348407552"
      ]
     },
     "execution_count": 12,
     "metadata": {},
     "output_type": "execute_result"
    }
   ],
   "source": [
    "id(thread)"
   ]
  },
  {
   "cell_type": "code",
   "execution_count": 13,
   "id": "b436933f",
   "metadata": {},
   "outputs": [],
   "source": [
    "import threading\n",
    "import urllib.request\n",
    "\n",
    "def file_download(url,filename):\n",
    "    urllib.request.urlretrieve(url,filename)"
   ]
  },
  {
   "cell_type": "code",
   "execution_count": 14,
   "id": "28e07cb8",
   "metadata": {},
   "outputs": [],
   "source": [
    "file_download('https://example-files.online-convert.com/document/txt/example.txt',\"file.txt\")"
   ]
  },
  {
   "cell_type": "code",
   "execution_count": 15,
   "id": "ac6da322",
   "metadata": {},
   "outputs": [],
   "source": [
    "url_list=['https://www.w3.org/TR/2003/REC-PNG-20031110/iso_8859-1.txt','https://example-files.online-convert.com/document/txt/example.txt']"
   ]
  },
  {
   "cell_type": "code",
   "execution_count": 16,
   "id": "21093f72",
   "metadata": {},
   "outputs": [
    {
     "data": {
      "text/plain": [
       "['https://www.w3.org/TR/2003/REC-PNG-20031110/iso_8859-1.txt',\n",
       " 'https://example-files.online-convert.com/document/txt/example.txt']"
      ]
     },
     "execution_count": 16,
     "metadata": {},
     "output_type": "execute_result"
    }
   ],
   "source": [
    "url_list"
   ]
  },
  {
   "cell_type": "code",
   "execution_count": 17,
   "id": "6c4d1bbd",
   "metadata": {},
   "outputs": [],
   "source": [
    "file_name_list=['data1.txt','data2.txt']"
   ]
  },
  {
   "cell_type": "code",
   "execution_count": 20,
   "id": "f69ffb23",
   "metadata": {},
   "outputs": [],
   "source": [
    "ther=[threading.Thread(target=file_download,args=(url_list[i],file_name_list[i]))for i in range(len(url_list))]"
   ]
  },
  {
   "cell_type": "code",
   "execution_count": 21,
   "id": "17f2394a",
   "metadata": {},
   "outputs": [
    {
     "data": {
      "text/plain": [
       "[<Thread(Thread-25, initial)>, <Thread(Thread-26, initial)>]"
      ]
     },
     "execution_count": 21,
     "metadata": {},
     "output_type": "execute_result"
    }
   ],
   "source": [
    "ther"
   ]
  },
  {
   "cell_type": "code",
   "execution_count": 22,
   "id": "6e0a7656",
   "metadata": {},
   "outputs": [],
   "source": [
    "for t in ther:\n",
    "    t.start()"
   ]
  },
  {
   "cell_type": "code",
   "execution_count": 23,
   "id": "a0cdccc1",
   "metadata": {},
   "outputs": [],
   "source": [
    "import time"
   ]
  },
  {
   "cell_type": "code",
   "execution_count": 24,
   "id": "162d5ac4",
   "metadata": {},
   "outputs": [],
   "source": [
    "def test1(id):\n",
    "    for i in range(10):\n",
    "        print(\"test1 %d priting %d\" %(id,i))\n",
    "        time.sleep(1)"
   ]
  },
  {
   "cell_type": "code",
   "execution_count": 26,
   "id": "1d0c03ea",
   "metadata": {},
   "outputs": [
    {
     "name": "stdout",
     "output_type": "stream",
     "text": [
      "test1 1 priting 0\n",
      "test1 1 priting 1\n",
      "test1 1 priting 2\n",
      "test1 1 priting 3\n",
      "test1 1 priting 4\n",
      "test1 1 priting 5\n",
      "test1 1 priting 6\n",
      "test1 1 priting 7\n",
      "test1 1 priting 8\n",
      "test1 1 priting 9\n"
     ]
    }
   ],
   "source": [
    "test1(1)"
   ]
  },
  {
   "cell_type": "code",
   "execution_count": 27,
   "id": "06aef6c4",
   "metadata": {},
   "outputs": [],
   "source": [
    "thread1=[threading.Thread(target=test1,args=(i,)) for i in range(3)]"
   ]
  },
  {
   "cell_type": "code",
   "execution_count": 30,
   "id": "4814890f",
   "metadata": {},
   "outputs": [
    {
     "name": "stdout",
     "output_type": "stream",
     "text": [
      "test1 0 priting 0\n",
      "test1 1 priting 0\n",
      "test1 2 priting 0\n",
      "test1 0 priting 1test1 1 priting 1\n",
      "test1 2 priting 1\n",
      "\n",
      "test1 2 priting 2\n",
      "test1 1 priting 2\n",
      "test1 0 priting 2\n",
      "test1 0 priting 3\n",
      "test1 2 priting 3\n",
      "test1 1 priting 3\n",
      "test1 0 priting 4\n",
      "test1 1 priting 4\n",
      "test1 2 priting 4\n",
      "test1 0 priting 5\n",
      "test1 2 priting 5\n",
      "test1 1 priting 5\n",
      "test1 0 priting 6\n",
      "test1 1 priting 6\n",
      "test1 2 priting 6\n",
      "test1 0 priting 7\n",
      "test1 2 priting 7\n",
      "test1 1 priting 7\n",
      "test1 0 priting 8\n",
      "test1 2 priting 8\n",
      "test1 1 priting 8\n",
      "test1 0 priting 9\n",
      "test1 1 priting 9\n",
      "test1 2 priting 9\n"
     ]
    }
   ],
   "source": [
    "for t in thread1:\n",
    "    t.start()"
   ]
  },
  {
   "cell_type": "code",
   "execution_count": 3,
   "id": "cc754df2",
   "metadata": {},
   "outputs": [],
   "source": []
  },
  {
   "cell_type": "code",
   "execution_count": 13,
   "id": "c6739189",
   "metadata": {},
   "outputs": [
    {
     "name": "stdout",
     "output_type": "stream",
     "text": [
      "test2 id is 0 has increased the shared variable by 1\n",
      "test2 id is 1 has increased the shared variable by 2\n",
      "test2 id is 2 has increased the shared variable by 3\n"
     ]
    }
   ],
   "source": [
    "shared_var=0\n",
    "lock_var=threading.Lock()\n",
    "def test2(id):\n",
    "    global shared_var\n",
    "    with lock_var:\n",
    "        shared_var=shared_var+1\n",
    "        print(\"test2 id is %d has increased the shared variable by %d\" %(id,shared_var))\n",
    "ther3=[threading.Thread(target=test2,args=(i,)) for i in range(3)]\n",
    "for t in ther3:\n",
    "    t.start()"
   ]
  },
  {
   "cell_type": "code",
   "execution_count": 11,
   "id": "762877a6",
   "metadata": {},
   "outputs": [
    {
     "name": "stdout",
     "output_type": "stream",
     "text": [
      "test2 id is 0 has increased the shared variable by 4\n"
     ]
    }
   ],
   "source": [
    "test2(0)"
   ]
  },
  {
   "cell_type": "code",
   "execution_count": 6,
   "id": "36b98190",
   "metadata": {},
   "outputs": [
    {
     "data": {
      "text/plain": [
       "[<Thread(Thread-5, initial)>,\n",
       " <Thread(Thread-6, initial)>,\n",
       " <Thread(Thread-7, initial)>]"
      ]
     },
     "execution_count": 6,
     "metadata": {},
     "output_type": "execute_result"
    }
   ],
   "source": [
    "ther3"
   ]
  },
  {
   "cell_type": "code",
   "execution_count": null,
   "id": "1d963af6",
   "metadata": {},
   "outputs": [],
   "source": []
  },
  {
   "cell_type": "code",
   "execution_count": null,
   "id": "38964caa",
   "metadata": {},
   "outputs": [],
   "source": []
  }
 ],
 "metadata": {
  "kernelspec": {
   "display_name": "Python 3 (ipykernel)",
   "language": "python",
   "name": "python3"
  },
  "language_info": {
   "codemirror_mode": {
    "name": "ipython",
    "version": 3
   },
   "file_extension": ".py",
   "mimetype": "text/x-python",
   "name": "python",
   "nbconvert_exporter": "python",
   "pygments_lexer": "ipython3",
   "version": "3.9.13"
  }
 },
 "nbformat": 4,
 "nbformat_minor": 5
}
