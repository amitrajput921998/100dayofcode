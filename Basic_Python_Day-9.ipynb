{
 "cells": [
  {
   "cell_type": "markdown",
   "id": "103ce451",
   "metadata": {},
   "source": [
    "# Working with file"
   ]
  },
  {
   "cell_type": "code",
   "execution_count": 1,
   "id": "dd5319c7",
   "metadata": {},
   "outputs": [],
   "source": [
    "f=open(\"abc.txt\",'w')"
   ]
  },
  {
   "cell_type": "code",
   "execution_count": 2,
   "id": "5be28a8e",
   "metadata": {},
   "outputs": [
    {
     "data": {
      "text/plain": [
       "30"
      ]
     },
     "execution_count": 2,
     "metadata": {},
     "output_type": "execute_result"
    }
   ],
   "source": [
    " f.write(\"this is my first file to write\")"
   ]
  },
  {
   "cell_type": "code",
   "execution_count": 3,
   "id": "fcc9ec95",
   "metadata": {},
   "outputs": [],
   "source": [
    "f.close()"
   ]
  },
  {
   "cell_type": "code",
   "execution_count": 4,
   "id": "35697d2b",
   "metadata": {},
   "outputs": [],
   "source": [
    "f=open(\"abc.txt\",'w')"
   ]
  },
  {
   "cell_type": "code",
   "execution_count": 5,
   "id": "a1e95d50",
   "metadata": {},
   "outputs": [
    {
     "data": {
      "text/plain": [
       "12"
      ]
     },
     "execution_count": 5,
     "metadata": {},
     "output_type": "execute_result"
    }
   ],
   "source": [
    "f.write(\"this is file\")"
   ]
  },
  {
   "cell_type": "code",
   "execution_count": 6,
   "id": "3e869abf",
   "metadata": {},
   "outputs": [],
   "source": [
    "f.close()"
   ]
  },
  {
   "cell_type": "code",
   "execution_count": 7,
   "id": "b1a0ddc4",
   "metadata": {},
   "outputs": [],
   "source": [
    "f=open(\"abc.txt\",'a')"
   ]
  },
  {
   "cell_type": "code",
   "execution_count": 8,
   "id": "57168d8e",
   "metadata": {},
   "outputs": [
    {
     "data": {
      "text/plain": [
       "307"
      ]
     },
     "execution_count": 8,
     "metadata": {},
     "output_type": "execute_result"
    }
   ],
   "source": [
    "f.write(\"While many are drawing parallels of the split in the NCP to that of the Shiv Sena exactly a year ago, there is one striking difference between the two. Unlike Eknath Shinde and his supporters who launched an all-out attack on Uddhav Thackeray, Ajit Pawar's faction is still seeking Sharad Pawar's blessings.\")"
   ]
  },
  {
   "cell_type": "code",
   "execution_count": 9,
   "id": "5562851d",
   "metadata": {},
   "outputs": [],
   "source": [
    "f.close()"
   ]
  },
  {
   "cell_type": "code",
   "execution_count": 10,
   "id": "b002cf84",
   "metadata": {},
   "outputs": [],
   "source": [
    "data=open(\"abc.txt\",'r')"
   ]
  },
  {
   "cell_type": "code",
   "execution_count": 11,
   "id": "57b0cece",
   "metadata": {},
   "outputs": [
    {
     "data": {
      "text/plain": [
       "\"this is fileWhile many are drawing parallels of the split in the NCP to that of the Shiv Sena exactly a year ago, there is one striking difference between the two. Unlike Eknath Shinde and his supporters who launched an all-out attack on Uddhav Thackeray, Ajit Pawar's faction is still seeking Sharad Pawar's blessings.\""
      ]
     },
     "execution_count": 11,
     "metadata": {},
     "output_type": "execute_result"
    }
   ],
   "source": [
    "data.read()"
   ]
  },
  {
   "cell_type": "code",
   "execution_count": 12,
   "id": "35db1a6b",
   "metadata": {},
   "outputs": [
    {
     "data": {
      "text/plain": [
       "''"
      ]
     },
     "execution_count": 12,
     "metadata": {},
     "output_type": "execute_result"
    }
   ],
   "source": [
    "data.readline()"
   ]
  },
  {
   "cell_type": "code",
   "execution_count": 13,
   "id": "4751f78a",
   "metadata": {},
   "outputs": [
    {
     "data": {
      "text/plain": [
       "0"
      ]
     },
     "execution_count": 13,
     "metadata": {},
     "output_type": "execute_result"
    }
   ],
   "source": [
    "data.seek(0)"
   ]
  },
  {
   "cell_type": "code",
   "execution_count": 14,
   "id": "4f361866",
   "metadata": {},
   "outputs": [
    {
     "data": {
      "text/plain": [
       "\"this is fileWhile many are drawing parallels of the split in the NCP to that of the Shiv Sena exactly a year ago, there is one striking difference between the two. Unlike Eknath Shinde and his supporters who launched an all-out attack on Uddhav Thackeray, Ajit Pawar's faction is still seeking Sharad Pawar's blessings.\""
      ]
     },
     "execution_count": 14,
     "metadata": {},
     "output_type": "execute_result"
    }
   ],
   "source": [
    "data.readline()"
   ]
  },
  {
   "cell_type": "code",
   "execution_count": 15,
   "id": "c7c89f85",
   "metadata": {},
   "outputs": [
    {
     "data": {
      "text/plain": [
       "''"
      ]
     },
     "execution_count": 15,
     "metadata": {},
     "output_type": "execute_result"
    }
   ],
   "source": [
    "data.readline()"
   ]
  },
  {
   "cell_type": "code",
   "execution_count": 16,
   "id": "3381f713",
   "metadata": {},
   "outputs": [
    {
     "data": {
      "text/plain": [
       "10"
      ]
     },
     "execution_count": 16,
     "metadata": {},
     "output_type": "execute_result"
    }
   ],
   "source": [
    "data.seek(10)"
   ]
  },
  {
   "cell_type": "code",
   "execution_count": 17,
   "id": "b939ad5d",
   "metadata": {},
   "outputs": [
    {
     "data": {
      "text/plain": [
       "\"leWhile many are drawing parallels of the split in the NCP to that of the Shiv Sena exactly a year ago, there is one striking difference between the two. Unlike Eknath Shinde and his supporters who launched an all-out attack on Uddhav Thackeray, Ajit Pawar's faction is still seeking Sharad Pawar's blessings.\""
      ]
     },
     "execution_count": 17,
     "metadata": {},
     "output_type": "execute_result"
    }
   ],
   "source": [
    "data.readline()"
   ]
  },
  {
   "cell_type": "code",
   "execution_count": 18,
   "id": "43de2281",
   "metadata": {},
   "outputs": [],
   "source": [
    "data1=open(\"abc.txt\",'r')"
   ]
  },
  {
   "cell_type": "code",
   "execution_count": 19,
   "id": "92e0aba2",
   "metadata": {},
   "outputs": [
    {
     "name": "stdout",
     "output_type": "stream",
     "text": [
      "this is fileWhile many are drawing parallels of the split in the NCP to that of the Shiv Sena exactly a year ago, there is one striking difference between the two. Unlike Eknath Shinde and his supporters who launched an all-out attack on Uddhav Thackeray, Ajit Pawar's faction is still seeking Sharad Pawar's blessings.\n"
     ]
    }
   ],
   "source": [
    "for i in data1:\n",
    "    print(i)"
   ]
  },
  {
   "cell_type": "code",
   "execution_count": 20,
   "id": "0602d01b",
   "metadata": {},
   "outputs": [],
   "source": [
    "f=open(\"abc1.txt\",\"w\")"
   ]
  },
  {
   "cell_type": "code",
   "execution_count": 21,
   "id": "0d99a51b",
   "metadata": {},
   "outputs": [
    {
     "data": {
      "text/plain": [
       "353"
      ]
     },
     "execution_count": 21,
     "metadata": {},
     "output_type": "execute_result"
    }
   ],
   "source": [
    "f.write(\"PM Narendra Modi on Monday chaired a meeting with the Council of Ministers at Pragati Maidan Convention Centre in Delhi. A fruitful meeting with the Council of Ministers, where we exchanged views on diverse policy-related issues, tweeted PM Modi. Senior leaders, including Home Minister Amit Shah and Defence Minister Rajnath Singh attended the meeting.\")"
   ]
  },
  {
   "cell_type": "code",
   "execution_count": 22,
   "id": "5a5231af",
   "metadata": {},
   "outputs": [],
   "source": [
    "f.close()"
   ]
  },
  {
   "cell_type": "code",
   "execution_count": 23,
   "id": "264e9751",
   "metadata": {},
   "outputs": [
    {
     "ename": "NameError",
     "evalue": "name 'os' is not defined",
     "output_type": "error",
     "traceback": [
      "\u001b[1;31m---------------------------------------------------------------------------\u001b[0m",
      "\u001b[1;31mNameError\u001b[0m                                 Traceback (most recent call last)",
      "\u001b[1;32m~\\AppData\\Local\\Temp\\ipykernel_6268\\2648115091.py\u001b[0m in \u001b[0;36m<module>\u001b[1;34m\u001b[0m\n\u001b[1;32m----> 1\u001b[1;33m \u001b[0mos\u001b[0m\u001b[1;33m.\u001b[0m\u001b[0mrename\u001b[0m\u001b[1;33m(\u001b[0m\u001b[1;34m\"abc1.txt\"\u001b[0m\u001b[1;33m,\u001b[0m\u001b[1;34m\"new.txt\"\u001b[0m\u001b[1;33m)\u001b[0m\u001b[1;33m\u001b[0m\u001b[1;33m\u001b[0m\u001b[0m\n\u001b[0m",
      "\u001b[1;31mNameError\u001b[0m: name 'os' is not defined"
     ]
    }
   ],
   "source": [
    "os.rename(\"abc1.txt\",\"new.txt\")"
   ]
  },
  {
   "cell_type": "code",
   "execution_count": 24,
   "id": "0945723a",
   "metadata": {},
   "outputs": [],
   "source": [
    "import shutil"
   ]
  },
  {
   "cell_type": "code",
   "execution_count": 25,
   "id": "788525d0",
   "metadata": {},
   "outputs": [
    {
     "data": {
      "text/plain": [
       "'copy_new.txt'"
      ]
     },
     "execution_count": 25,
     "metadata": {},
     "output_type": "execute_result"
    }
   ],
   "source": [
    "shutil.copy(\"new.txt\",\"copy_new.txt\")"
   ]
  },
  {
   "cell_type": "code",
   "execution_count": 26,
   "id": "99e78dcd",
   "metadata": {},
   "outputs": [
    {
     "name": "stdout",
     "output_type": "stream",
     "text": [
      "PM Narendra Modi on Monday chaired a meeting with the Council of Ministers at Pragati Maidan Convention Centre in Delhi. A fruitful meeting with the Council of Ministers, where we exchanged views on diverse policy-related issues, tweeted PM Modi. Senior leaders, including Home Minister Amit Shah and Defence Minister Rajnath Singh attended the meeting.\n"
     ]
    }
   ],
   "source": [
    "with open(\"new.txt\",\"r\") as f:\n",
    "    print(f.read())"
   ]
  },
  {
   "cell_type": "markdown",
   "id": "d37fd404",
   "metadata": {},
   "source": [
    "# Reading and Writing Files"
   ]
  },
  {
   "cell_type": "code",
   "execution_count": 27,
   "id": "ebb67b40",
   "metadata": {},
   "outputs": [],
   "source": [
    "data={\n",
    "    \"name\":\"amit\",\n",
    "    \"email\":\"amit@gmail.com\",\n",
    "    \"phone_no\":784523698,\n",
    "    \"subject\":[\"data science\",\"dsa\",\"cp\",\"os\"]\n",
    "}"
   ]
  },
  {
   "cell_type": "code",
   "execution_count": 28,
   "id": "cec88b34",
   "metadata": {},
   "outputs": [],
   "source": [
    "import json"
   ]
  },
  {
   "cell_type": "code",
   "execution_count": 29,
   "id": "e76d64ab",
   "metadata": {},
   "outputs": [],
   "source": [
    "with open(\"data.json\",\"w\") as f:\n",
    "    json.dump(data,f)"
   ]
  },
  {
   "cell_type": "code",
   "execution_count": 30,
   "id": "f6067083",
   "metadata": {},
   "outputs": [],
   "source": [
    "with open(\"data.json\",\"r\") as f:\n",
    "    data1=json.load(f)"
   ]
  },
  {
   "cell_type": "code",
   "execution_count": 31,
   "id": "4ddae585",
   "metadata": {},
   "outputs": [
    {
     "data": {
      "text/plain": [
       "{'name': 'amit',\n",
       " 'email': 'amit@gmail.com',\n",
       " 'phone_no': 784523698,\n",
       " 'subject': ['data science', 'dsa', 'cp', 'os']}"
      ]
     },
     "execution_count": 31,
     "metadata": {},
     "output_type": "execute_result"
    }
   ],
   "source": [
    "data1"
   ]
  },
  {
   "cell_type": "code",
   "execution_count": 32,
   "id": "0f73bebd",
   "metadata": {},
   "outputs": [
    {
     "data": {
      "text/plain": [
       "'dsa'"
      ]
     },
     "execution_count": 32,
     "metadata": {},
     "output_type": "execute_result"
    }
   ],
   "source": [
    "data1['subject'][1]"
   ]
  },
  {
   "cell_type": "code",
   "execution_count": 33,
   "id": "66081dda",
   "metadata": {},
   "outputs": [],
   "source": [
    "import csv"
   ]
  },
  {
   "cell_type": "code",
   "execution_count": 34,
   "id": "3f91ef95",
   "metadata": {},
   "outputs": [],
   "source": [
    "data=[\n",
    "    [\"name\",\"email_id\",\"number\"],\n",
    "    [\"amit\",\"amit@gmail.com\",7854126],\n",
    "    [\"sunil\",\"sunil@gmail.com\",7854236]\n",
    "]"
   ]
  },
  {
   "cell_type": "code",
   "execution_count": 35,
   "id": "ce3d23c9",
   "metadata": {},
   "outputs": [],
   "source": [
    "with open(\"data.csv\",\"w\") as f:\n",
    "    writer=csv.writer(f)\n",
    "    \n",
    "    for i in data:\n",
    "        writer.writerow(i)"
   ]
  },
  {
   "cell_type": "code",
   "execution_count": 36,
   "id": "d1ea439c",
   "metadata": {},
   "outputs": [
    {
     "name": "stdout",
     "output_type": "stream",
     "text": [
      "['name', 'email_id', 'number']\n",
      "[]\n",
      "['amit', 'amit@gmail.com', '7854126']\n",
      "[]\n",
      "['sunil', 'sunil@gmail.com', '7854236']\n",
      "[]\n"
     ]
    }
   ],
   "source": [
    "with open (\"data.csv\",\"r\") as f:\n",
    "    read_data=csv.reader(f)\n",
    "    \n",
    "    for i in read_data:\n",
    "        print(i)"
   ]
  },
  {
   "cell_type": "code",
   "execution_count": 37,
   "id": "36493804",
   "metadata": {},
   "outputs": [],
   "source": [
    "with open(\"xyz.bin\",\"wb\") as f:\n",
    "    f.write(b\"\\x01\\x02\\x03\")"
   ]
  },
  {
   "cell_type": "code",
   "execution_count": 38,
   "id": "2ccc7ed5",
   "metadata": {},
   "outputs": [
    {
     "name": "stdout",
     "output_type": "stream",
     "text": [
      "b'\\x01\\x02\\x03'\n"
     ]
    }
   ],
   "source": [
    "with open (\"xyz.bin\",\"rb\") as f:\n",
    "    print(f.read())"
   ]
  },
  {
   "cell_type": "markdown",
   "id": "4565fdd2",
   "metadata": {},
   "source": [
    "# Buffered Read and Write & Other File Method"
   ]
  },
  {
   "cell_type": "code",
   "execution_count": 39,
   "id": "336d54b1",
   "metadata": {},
   "outputs": [],
   "source": [
    "import io"
   ]
  },
  {
   "cell_type": "code",
   "execution_count": 40,
   "id": "aa9fc9f0",
   "metadata": {},
   "outputs": [],
   "source": [
    "with open(\"ser.txt\",\"wb\") as f:\n",
    "    file=io.BufferedWriter(f)\n",
    "    \n",
    "    file.write(b\"this is my first file\")\n",
    "    file.write(b\"this is my second file\")\n",
    "    file.flush()"
   ]
  },
  {
   "cell_type": "code",
   "execution_count": 41,
   "id": "338a5f67",
   "metadata": {},
   "outputs": [
    {
     "name": "stdout",
     "output_type": "stream",
     "text": [
      "b'this is my first filethis is my second file'\n"
     ]
    }
   ],
   "source": [
    "with open(\"ser.txt\",\"rb\") as f:\n",
    "    file=io.BufferedReader(f)\n",
    "    d=file.read()\n",
    "    print(d)"
   ]
  },
  {
   "cell_type": "markdown",
   "id": "f6cc61a8",
   "metadata": {},
   "source": [
    " # Logging & Debugger"
   ]
  },
  {
   "cell_type": "code",
   "execution_count": 42,
   "id": "a1e1a56b",
   "metadata": {},
   "outputs": [
    {
     "name": "stdout",
     "output_type": "stream",
     "text": [
      "this is my print\n"
     ]
    }
   ],
   "source": [
    "print(\"this is my print\")"
   ]
  },
  {
   "cell_type": "code",
   "execution_count": 1,
   "id": "38e26272",
   "metadata": {},
   "outputs": [],
   "source": [
    "import logging"
   ]
  },
  {
   "cell_type": "code",
   "execution_count": 44,
   "id": "4074a6d5",
   "metadata": {},
   "outputs": [],
   "source": [
    "logging.basicConfig(filename=\"dsa.log\",level=logging.INFO)"
   ]
  },
  {
   "cell_type": "code",
   "execution_count": 45,
   "id": "c84ce8a8",
   "metadata": {},
   "outputs": [],
   "source": [
    "logging.info(\"log this line of execution\")"
   ]
  },
  {
   "cell_type": "code",
   "execution_count": 46,
   "id": "5175f574",
   "metadata": {},
   "outputs": [],
   "source": [
    "logging.info(\"this is my print\")"
   ]
  },
  {
   "cell_type": "code",
   "execution_count": 47,
   "id": "85dcc1c8",
   "metadata": {},
   "outputs": [],
   "source": [
    "logging.debug(\"this is nbug\")"
   ]
  },
  {
   "cell_type": "code",
   "execution_count": 48,
   "id": "40095b00",
   "metadata": {},
   "outputs": [],
   "source": [
    "logging.warning(\"this is a warning msg\")"
   ]
  },
  {
   "cell_type": "code",
   "execution_count": 49,
   "id": "cc68264b",
   "metadata": {},
   "outputs": [],
   "source": [
    "logging.error(\"this is a error\")"
   ]
  },
  {
   "cell_type": "code",
   "execution_count": 50,
   "id": "ab8e377c",
   "metadata": {},
   "outputs": [],
   "source": [
    "logging.critical(\"this is a critical\")"
   ]
  },
  {
   "cell_type": "code",
   "execution_count": 51,
   "id": "2ea2c327",
   "metadata": {},
   "outputs": [],
   "source": [
    "logging.shutdown()"
   ]
  },
  {
   "cell_type": "raw",
   "id": "1ccb9af1",
   "metadata": {},
   "source": [
    " 1.NOTSET\n",
    " 2.DEBUG\n",
    " 3.INFO\n",
    " 4.WARNING\n",
    " 5.ERROR\n",
    " 6.CRITICAL"
   ]
  },
  {
   "cell_type": "code",
   "execution_count": 3,
   "id": "6a438ec5",
   "metadata": {},
   "outputs": [],
   "source": [
    "logging.basicConfig(filename=\"msg.log\",level=logging.DEBUG, format='%(asctime)s %(message)s')"
   ]
  },
  {
   "cell_type": "code",
   "execution_count": 4,
   "id": "d4be3592",
   "metadata": {},
   "outputs": [],
   "source": [
    "logging.info(\"this is my info logging\")\n",
    "logging.error(\"this is my error logging\")\n",
    "logging.critical((\"this is my critical logging\"))"
   ]
  },
  {
   "cell_type": "code",
   "execution_count": 5,
   "id": "6820c43b",
   "metadata": {},
   "outputs": [],
   "source": [
    "logging.shutdown()"
   ]
  },
  {
   "cell_type": "code",
   "execution_count": 2,
   "id": "98afd1f3",
   "metadata": {},
   "outputs": [],
   "source": [
    "logging.basicConfig(filename=\"msg1.log\",level=logging.DEBUG,format='%(asctime)s %(name)s %(levelname)s %(message)s')"
   ]
  },
  {
   "cell_type": "code",
   "execution_count": 3,
   "id": "352b2732",
   "metadata": {},
   "outputs": [],
   "source": [
    "logging.info(\"this is my info logging\")\n",
    "logging.error(\"this is my error logging\")\n",
    "logging.critical(\"this is my critical logging\")"
   ]
  },
  {
   "cell_type": "code",
   "execution_count": 4,
   "id": "25c9f53f",
   "metadata": {},
   "outputs": [],
   "source": [
    "l=[1,2,3,4,5,6,\"amit\",\"kumar\"]"
   ]
  },
  {
   "cell_type": "code",
   "execution_count": 8,
   "id": "442f3384",
   "metadata": {},
   "outputs": [],
   "source": [
    "l1=[]\n",
    "l2=[]\n",
    "for i in l:\n",
    "    logging.info(\"we are iterting to list \")\n",
    "    if type(i)==list:\n",
    "        logging.info(\"i am insite list \")\n",
    "        for j in i:\n",
    "            logging.info(\"i am in another list\")\n",
    "            if type(j)==int:\n",
    "                l1.appendend(j)\n",
    "    elif type(i)==int:\n",
    "        l1.append(i)\n",
    "    else:\n",
    "        if type(i)==str:\n",
    "            l2.append(i)"
   ]
  },
  {
   "cell_type": "code",
   "execution_count": 9,
   "id": "1b69caf2",
   "metadata": {},
   "outputs": [
    {
     "data": {
      "text/plain": [
       "[1, 2, 3, 4, 5, 6]"
      ]
     },
     "execution_count": 9,
     "metadata": {},
     "output_type": "execute_result"
    }
   ],
   "source": [
    "l1"
   ]
  },
  {
   "cell_type": "code",
   "execution_count": 10,
   "id": "22e6085a",
   "metadata": {},
   "outputs": [
    {
     "data": {
      "text/plain": [
       "['amit', 'kumar']"
      ]
     },
     "execution_count": 10,
     "metadata": {},
     "output_type": "execute_result"
    }
   ],
   "source": [
    "l2"
   ]
  },
  {
   "cell_type": "code",
   "execution_count": 1,
   "id": "06360fee",
   "metadata": {},
   "outputs": [],
   "source": [
    "import logging"
   ]
  },
  {
   "cell_type": "code",
   "execution_count": 2,
   "id": "05842140",
   "metadata": {},
   "outputs": [],
   "source": [
    "logging.basicConfig(filename=\"xse.log\",level=logging.DEBUG,format='%(asctime)s %(name)s %(levelname)s %(message)s')"
   ]
  },
  {
   "cell_type": "code",
   "execution_count": 3,
   "id": "520b435b",
   "metadata": {},
   "outputs": [],
   "source": [
    "logging.info(\"this is info logging\")"
   ]
  },
  {
   "cell_type": "code",
   "execution_count": 10,
   "id": "4590b0dd",
   "metadata": {},
   "outputs": [],
   "source": [
    "\n",
    "for i in range(10):\n",
    "    logging.info(\"we are in the loop\")\n",
    "    logging.info(i)"
   ]
  },
  {
   "cell_type": "code",
   "execution_count": null,
   "id": "b3de8d7e",
   "metadata": {},
   "outputs": [],
   "source": []
  }
 ],
 "metadata": {
  "kernelspec": {
   "display_name": "Python 3 (ipykernel)",
   "language": "python",
   "name": "python3"
  },
  "language_info": {
   "codemirror_mode": {
    "name": "ipython",
    "version": 3
   },
   "file_extension": ".py",
   "mimetype": "text/x-python",
   "name": "python",
   "nbconvert_exporter": "python",
   "pygments_lexer": "ipython3",
   "version": "3.9.13"
  }
 },
 "nbformat": 4,
 "nbformat_minor": 5
}
