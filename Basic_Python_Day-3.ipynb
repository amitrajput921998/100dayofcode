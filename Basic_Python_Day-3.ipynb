{
 "cells": [
  {
   "cell_type": "markdown",
   "id": "08520ab9-a390-4210-bd3e-8dd9a4b158c5",
   "metadata": {},
   "source": [
    "# List"
   ]
  },
  {
   "cell_type": "code",
   "execution_count": 1,
   "id": "e9951791-be13-4f6c-b35c-4b105e4329cd",
   "metadata": {},
   "outputs": [],
   "source": [
    " l=[1,345,45.45,True,\"amit\",5+7j]"
   ]
  },
  {
   "cell_type": "code",
   "execution_count": 2,
   "id": "9798b16a-d3ec-49f2-9291-d79641395846",
   "metadata": {},
   "outputs": [
    {
     "data": {
      "text/plain": [
       "[1, 345, 45.45, True, 'amit', (5+7j)]"
      ]
     },
     "execution_count": 2,
     "metadata": {},
     "output_type": "execute_result"
    }
   ],
   "source": [
    "l"
   ]
  },
  {
   "cell_type": "code",
   "execution_count": 3,
   "id": "0f4b6a11-30a1-4b66-b655-55a61666f1a6",
   "metadata": {},
   "outputs": [
    {
     "data": {
      "text/plain": [
       "list"
      ]
     },
     "execution_count": 3,
     "metadata": {},
     "output_type": "execute_result"
    }
   ],
   "source": [
    "type(l)"
   ]
  },
  {
   "cell_type": "code",
   "execution_count": 4,
   "id": "58f687a9-1389-4470-9ef8-e1dc34bb960f",
   "metadata": {},
   "outputs": [
    {
     "data": {
      "text/plain": [
       "1"
      ]
     },
     "execution_count": 4,
     "metadata": {},
     "output_type": "execute_result"
    }
   ],
   "source": [
    "l[0]"
   ]
  },
  {
   "cell_type": "code",
   "execution_count": 6,
   "id": "ce5e7fde-5e62-4726-9ecd-ef39279b83c1",
   "metadata": {},
   "outputs": [
    {
     "data": {
      "text/plain": [
       "(5+7j)"
      ]
     },
     "execution_count": 6,
     "metadata": {},
     "output_type": "execute_result"
    }
   ],
   "source": [
    "l[5]"
   ]
  },
  {
   "cell_type": "code",
   "execution_count": 7,
   "id": "a4fa368e-1793-4042-ab99-13fbe6b8a9fe",
   "metadata": {},
   "outputs": [
    {
     "ename": "IndexError",
     "evalue": "list index out of range",
     "output_type": "error",
     "traceback": [
      "\u001b[0;31m---------------------------------------------------------------------------\u001b[0m",
      "\u001b[0;31mIndexError\u001b[0m                                Traceback (most recent call last)",
      "Cell \u001b[0;32mIn [7], line 1\u001b[0m\n\u001b[0;32m----> 1\u001b[0m \u001b[43ml\u001b[49m\u001b[43m[\u001b[49m\u001b[38;5;241;43m6\u001b[39;49m\u001b[43m]\u001b[49m\n",
      "\u001b[0;31mIndexError\u001b[0m: list index out of range"
     ]
    }
   ],
   "source": [
    "l[6]"
   ]
  },
  {
   "cell_type": "code",
   "execution_count": 8,
   "id": "aa66738b-b661-4666-8e47-d85063e84417",
   "metadata": {},
   "outputs": [
    {
     "data": {
      "text/plain": [
       "[1, 345, 45.45, True, 'amit', (5+7j)]"
      ]
     },
     "execution_count": 8,
     "metadata": {},
     "output_type": "execute_result"
    }
   ],
   "source": [
    "l"
   ]
  },
  {
   "cell_type": "code",
   "execution_count": 10,
   "id": "77dc5623-8ffd-47bb-b4c1-482d74d4836a",
   "metadata": {},
   "outputs": [
    {
     "data": {
      "text/plain": [
       "[1, 345, 45.45]"
      ]
     },
     "execution_count": 10,
     "metadata": {},
     "output_type": "execute_result"
    }
   ],
   "source": [
    "l[0:3]"
   ]
  },
  {
   "cell_type": "code",
   "execution_count": 11,
   "id": "769f248e-e2cd-49ee-8c20-5701442c7f12",
   "metadata": {},
   "outputs": [
    {
     "data": {
      "text/plain": [
       "(5+7j)"
      ]
     },
     "execution_count": 11,
     "metadata": {},
     "output_type": "execute_result"
    }
   ],
   "source": [
    "l[-1]"
   ]
  },
  {
   "cell_type": "code",
   "execution_count": 14,
   "id": "ae0884bf-251b-4424-99a9-e9f952d52a17",
   "metadata": {},
   "outputs": [
    {
     "data": {
      "text/plain": [
       "[(5+7j), 'amit', True, 45.45, 345, 1]"
      ]
     },
     "execution_count": 14,
     "metadata": {},
     "output_type": "execute_result"
    }
   ],
   "source": [
    "l[::-1]"
   ]
  },
  {
   "cell_type": "code",
   "execution_count": 16,
   "id": "a2b95eb4-e2fc-480f-92c8-0cb168abaaf8",
   "metadata": {},
   "outputs": [
    {
     "data": {
      "text/plain": [
       "[1, 45.45, 'amit']"
      ]
     },
     "execution_count": 16,
     "metadata": {},
     "output_type": "execute_result"
    }
   ],
   "source": [
    "l[::2]"
   ]
  },
  {
   "cell_type": "code",
   "execution_count": 17,
   "id": "3527c2ce-8d78-4d49-882d-eab440bcc241",
   "metadata": {},
   "outputs": [
    {
     "data": {
      "text/plain": [
       "[1, 345, 45.45, True, 'amit', (5+7j)]"
      ]
     },
     "execution_count": 17,
     "metadata": {},
     "output_type": "execute_result"
    }
   ],
   "source": [
    "l"
   ]
  },
  {
   "cell_type": "code",
   "execution_count": 18,
   "id": "90cbed51-8563-4bc6-b20e-d057e24090cf",
   "metadata": {},
   "outputs": [],
   "source": [
    "s=\"hello\""
   ]
  },
  {
   "cell_type": "code",
   "execution_count": 19,
   "id": "02d016ee-7b82-4002-93ba-19db6279a5a7",
   "metadata": {},
   "outputs": [
    {
     "ename": "TypeError",
     "evalue": "can only concatenate list (not \"str\") to list",
     "output_type": "error",
     "traceback": [
      "\u001b[0;31m---------------------------------------------------------------------------\u001b[0m",
      "\u001b[0;31mTypeError\u001b[0m                                 Traceback (most recent call last)",
      "Cell \u001b[0;32mIn [19], line 1\u001b[0m\n\u001b[0;32m----> 1\u001b[0m \u001b[43ml\u001b[49m\u001b[38;5;241;43m+\u001b[39;49m\u001b[43ms\u001b[49m\n",
      "\u001b[0;31mTypeError\u001b[0m: can only concatenate list (not \"str\") to list"
     ]
    }
   ],
   "source": [
    "l+s"
   ]
  },
  {
   "cell_type": "code",
   "execution_count": 21,
   "id": "3361c7ad-9683-400b-8b91-7966f2394125",
   "metadata": {},
   "outputs": [
    {
     "data": {
      "text/plain": [
       "['h', 'e', 'l', 'l', 'o', 1, 345, 45.45, True, 'amit', (5+7j)]"
      ]
     },
     "execution_count": 21,
     "metadata": {},
     "output_type": "execute_result"
    }
   ],
   "source": [
    "list(s)+l"
   ]
  },
  {
   "cell_type": "code",
   "execution_count": 22,
   "id": "59a39231-f079-4cae-b7a7-81a6298aebb4",
   "metadata": {},
   "outputs": [
    {
     "data": {
      "text/plain": [
       "[1, 345, 45.45, True, 'amit', (5+7j)]"
      ]
     },
     "execution_count": 22,
     "metadata": {},
     "output_type": "execute_result"
    }
   ],
   "source": [
    "l"
   ]
  },
  {
   "cell_type": "code",
   "execution_count": 23,
   "id": "abd85e99-3dfb-45e7-b1f6-e9fd35e00f66",
   "metadata": {},
   "outputs": [
    {
     "data": {
      "text/plain": [
       "[1, 345, 45.45, True, 'amit', (5+7j)]"
      ]
     },
     "execution_count": 23,
     "metadata": {},
     "output_type": "execute_result"
    }
   ],
   "source": [
    "l"
   ]
  },
  {
   "cell_type": "code",
   "execution_count": 27,
   "id": "d836ff25-529c-4cf6-a5e4-db27e58e71df",
   "metadata": {},
   "outputs": [
    {
     "data": {
      "text/plain": [
       "'am'"
      ]
     },
     "execution_count": 27,
     "metadata": {},
     "output_type": "execute_result"
    }
   ],
   "source": [
    "l[4][0:2]"
   ]
  },
  {
   "cell_type": "code",
   "execution_count": 28,
   "id": "28da0a7f-7162-4075-bf8f-62f27dd7f94d",
   "metadata": {},
   "outputs": [
    {
     "data": {
      "text/plain": [
       "[1, 345, 45.45, True, 'amit', (5+7j)]"
      ]
     },
     "execution_count": 28,
     "metadata": {},
     "output_type": "execute_result"
    }
   ],
   "source": [
    "l"
   ]
  },
  {
   "cell_type": "code",
   "execution_count": 29,
   "id": "3bdebd31-1894-45a5-88ee-d2a38f1949d3",
   "metadata": {},
   "outputs": [
    {
     "ename": "TypeError",
     "evalue": "can only concatenate list (not \"int\") to list",
     "output_type": "error",
     "traceback": [
      "\u001b[0;31m---------------------------------------------------------------------------\u001b[0m",
      "\u001b[0;31mTypeError\u001b[0m                                 Traceback (most recent call last)",
      "Cell \u001b[0;32mIn [29], line 1\u001b[0m\n\u001b[0;32m----> 1\u001b[0m \u001b[43ml\u001b[49m\u001b[38;5;241;43m+\u001b[39;49m\u001b[38;5;241;43m5\u001b[39;49m\n",
      "\u001b[0;31mTypeError\u001b[0m: can only concatenate list (not \"int\") to list"
     ]
    }
   ],
   "source": [
    "l+5"
   ]
  },
  {
   "cell_type": "code",
   "execution_count": 30,
   "id": "6e39e6f6-748e-47bd-944f-0c8f2087ca0a",
   "metadata": {},
   "outputs": [],
   "source": [
    "l1=[3,4,5]"
   ]
  },
  {
   "cell_type": "code",
   "execution_count": 31,
   "id": "dfa6fcf3-7943-41be-a06e-6b6bebaf20a2",
   "metadata": {},
   "outputs": [
    {
     "data": {
      "text/plain": [
       "[1, 345, 45.45, True, 'amit', (5+7j), 3, 4, 5]"
      ]
     },
     "execution_count": 31,
     "metadata": {},
     "output_type": "execute_result"
    }
   ],
   "source": [
    "l+l1"
   ]
  },
  {
   "cell_type": "code",
   "execution_count": 32,
   "id": "36844c55-c1ad-48e3-90d8-5d533fbc194a",
   "metadata": {},
   "outputs": [
    {
     "data": {
      "text/plain": [
       "[1, 345, 45.45, True, 'amit', (5+7j)]"
      ]
     },
     "execution_count": 32,
     "metadata": {},
     "output_type": "execute_result"
    }
   ],
   "source": [
    "l"
   ]
  },
  {
   "cell_type": "code",
   "execution_count": 33,
   "id": "ee066022-6156-448e-b61e-910f16ece863",
   "metadata": {},
   "outputs": [
    {
     "data": {
      "text/plain": [
       "[3, 4, 5, 3, 4, 5, 3, 4, 5]"
      ]
     },
     "execution_count": 33,
     "metadata": {},
     "output_type": "execute_result"
    }
   ],
   "source": [
    "l1*3"
   ]
  },
  {
   "cell_type": "code",
   "execution_count": 34,
   "id": "923d6f9b-83ab-42a0-b6fe-bfeb1814896e",
   "metadata": {},
   "outputs": [
    {
     "data": {
      "text/plain": [
       "[1, 345, 45.45, True, 'amit', (5+7j)]"
      ]
     },
     "execution_count": 34,
     "metadata": {},
     "output_type": "execute_result"
    }
   ],
   "source": [
    "l"
   ]
  },
  {
   "cell_type": "code",
   "execution_count": 35,
   "id": "ffa26100-763c-4a47-b830-53e816ba5136",
   "metadata": {},
   "outputs": [
    {
     "data": {
      "text/plain": [
       "6"
      ]
     },
     "execution_count": 35,
     "metadata": {},
     "output_type": "execute_result"
    }
   ],
   "source": [
    "len(l)"
   ]
  },
  {
   "cell_type": "code",
   "execution_count": 36,
   "id": "f5e73fc6-121c-49a4-a729-c37de8ae427c",
   "metadata": {},
   "outputs": [
    {
     "data": {
      "text/plain": [
       "[1, 345, 45.45, True, 'amit', (5+7j)]"
      ]
     },
     "execution_count": 36,
     "metadata": {},
     "output_type": "execute_result"
    }
   ],
   "source": [
    "l"
   ]
  },
  {
   "cell_type": "code",
   "execution_count": 37,
   "id": "40ffa4dc-4673-4055-a74e-a690ce687819",
   "metadata": {},
   "outputs": [],
   "source": [
    "l.append(5)"
   ]
  },
  {
   "cell_type": "code",
   "execution_count": 38,
   "id": "05bade7f-8b02-410d-afbf-70d7251277ba",
   "metadata": {},
   "outputs": [
    {
     "data": {
      "text/plain": [
       "[1, 345, 45.45, True, 'amit', (5+7j), 5]"
      ]
     },
     "execution_count": 38,
     "metadata": {},
     "output_type": "execute_result"
    }
   ],
   "source": [
    "l"
   ]
  },
  {
   "cell_type": "code",
   "execution_count": 39,
   "id": "81885192-3d50-498f-bfe2-9269f6b77257",
   "metadata": {},
   "outputs": [],
   "source": [
    "l.append(\"hello\")"
   ]
  },
  {
   "cell_type": "code",
   "execution_count": 40,
   "id": "7b9b8467-ec2b-4211-8f36-c735a5c54d51",
   "metadata": {},
   "outputs": [
    {
     "data": {
      "text/plain": [
       "[1, 345, 45.45, True, 'amit', (5+7j), 5, 'hello']"
      ]
     },
     "execution_count": 40,
     "metadata": {},
     "output_type": "execute_result"
    }
   ],
   "source": [
    "l"
   ]
  },
  {
   "cell_type": "code",
   "execution_count": 41,
   "id": "dbf2480e-921d-441f-be94-d94df4edfb03",
   "metadata": {},
   "outputs": [
    {
     "data": {
      "text/plain": [
       "[1, 345, 45.45, True, 'amit', (5+7j), 5, 'hello']"
      ]
     },
     "execution_count": 41,
     "metadata": {},
     "output_type": "execute_result"
    }
   ],
   "source": [
    "l"
   ]
  },
  {
   "cell_type": "code",
   "execution_count": 42,
   "id": "732082f0-23c7-436e-b9e5-7cfb4c3502a2",
   "metadata": {},
   "outputs": [],
   "source": [
    "l.append(l1)"
   ]
  },
  {
   "cell_type": "code",
   "execution_count": 43,
   "id": "7768b112-2f39-49c8-8818-4930bafcb046",
   "metadata": {},
   "outputs": [
    {
     "data": {
      "text/plain": [
       "[1, 345, 45.45, True, 'amit', (5+7j), 5, 'hello', [3, 4, 5]]"
      ]
     },
     "execution_count": 43,
     "metadata": {},
     "output_type": "execute_result"
    }
   ],
   "source": [
    "l"
   ]
  },
  {
   "cell_type": "code",
   "execution_count": 44,
   "id": "b854ba20-bafa-4c5f-acd5-b9e01232dfea",
   "metadata": {},
   "outputs": [
    {
     "data": {
      "text/plain": [
       "[3, 4, 5]"
      ]
     },
     "execution_count": 44,
     "metadata": {},
     "output_type": "execute_result"
    }
   ],
   "source": [
    "l[-1]"
   ]
  },
  {
   "cell_type": "code",
   "execution_count": 45,
   "id": "28ac9865-5d60-4e60-bae4-c1cbeba07976",
   "metadata": {},
   "outputs": [
    {
     "data": {
      "text/plain": [
       "4"
      ]
     },
     "execution_count": 45,
     "metadata": {},
     "output_type": "execute_result"
    }
   ],
   "source": [
    "l[-1][1]"
   ]
  },
  {
   "cell_type": "code",
   "execution_count": 46,
   "id": "bed2784d-2550-49b5-a9ed-8ee8952e9f31",
   "metadata": {},
   "outputs": [
    {
     "data": {
      "text/plain": [
       "[1, 345, 45.45, True, 'amit', (5+7j), 5, 'hello', [3, 4, 5]]"
      ]
     },
     "execution_count": 46,
     "metadata": {},
     "output_type": "execute_result"
    }
   ],
   "source": [
    "l"
   ]
  },
  {
   "cell_type": "code",
   "execution_count": 47,
   "id": "3c50b274-45d8-4adc-bc4a-f62b0dc3f134",
   "metadata": {},
   "outputs": [
    {
     "ename": "TypeError",
     "evalue": "'int' object is not iterable",
     "output_type": "error",
     "traceback": [
      "\u001b[0;31m---------------------------------------------------------------------------\u001b[0m",
      "\u001b[0;31mTypeError\u001b[0m                                 Traceback (most recent call last)",
      "Cell \u001b[0;32mIn [47], line 1\u001b[0m\n\u001b[0;32m----> 1\u001b[0m \u001b[43ml\u001b[49m\u001b[38;5;241;43m.\u001b[39;49m\u001b[43mextend\u001b[49m\u001b[43m(\u001b[49m\u001b[38;5;241;43m4\u001b[39;49m\u001b[43m)\u001b[49m\n",
      "\u001b[0;31mTypeError\u001b[0m: 'int' object is not iterable"
     ]
    }
   ],
   "source": [
    "l.extend(4)"
   ]
  },
  {
   "cell_type": "code",
   "execution_count": 48,
   "id": "575e28c2-874d-45ee-9308-0bede2bae9d1",
   "metadata": {},
   "outputs": [],
   "source": [
    "l.extend(\"amitsingh\")"
   ]
  },
  {
   "cell_type": "code",
   "execution_count": 49,
   "id": "a902340c-8320-4b60-a51e-30191c0104ca",
   "metadata": {},
   "outputs": [
    {
     "data": {
      "text/plain": [
       "[1,\n",
       " 345,\n",
       " 45.45,\n",
       " True,\n",
       " 'amit',\n",
       " (5+7j),\n",
       " 5,\n",
       " 'hello',\n",
       " [3, 4, 5],\n",
       " 'a',\n",
       " 'm',\n",
       " 'i',\n",
       " 't',\n",
       " 's',\n",
       " 'i',\n",
       " 'n',\n",
       " 'g',\n",
       " 'h']"
      ]
     },
     "execution_count": 49,
     "metadata": {},
     "output_type": "execute_result"
    }
   ],
   "source": [
    "l"
   ]
  },
  {
   "cell_type": "code",
   "execution_count": 50,
   "id": "c6bcbf77-a3c6-4f72-acc9-7db33b506807",
   "metadata": {},
   "outputs": [
    {
     "data": {
      "text/plain": [
       "[1,\n",
       " 345,\n",
       " 45.45,\n",
       " True,\n",
       " 'amit',\n",
       " (5+7j),\n",
       " 5,\n",
       " 'hello',\n",
       " [3, 4, 5],\n",
       " 'a',\n",
       " 'm',\n",
       " 'i',\n",
       " 't',\n",
       " 's',\n",
       " 'i',\n",
       " 'n',\n",
       " 'g',\n",
       " 'h']"
      ]
     },
     "execution_count": 50,
     "metadata": {},
     "output_type": "execute_result"
    }
   ],
   "source": [
    "l"
   ]
  },
  {
   "cell_type": "code",
   "execution_count": 51,
   "id": "a1bba4a0-4d7a-4bf0-8fae-3774c2e2ffdd",
   "metadata": {},
   "outputs": [
    {
     "data": {
      "text/plain": [
       "[3, 4, 5]"
      ]
     },
     "execution_count": 51,
     "metadata": {},
     "output_type": "execute_result"
    }
   ],
   "source": [
    "l1"
   ]
  },
  {
   "cell_type": "code",
   "execution_count": 54,
   "id": "2a8001d2-bdc1-4150-9dbf-4568a6031ee0",
   "metadata": {},
   "outputs": [],
   "source": [
    "l1.insert(1,\"amit\")"
   ]
  },
  {
   "cell_type": "code",
   "execution_count": 55,
   "id": "fd6bdb76-4c4e-4c38-95d2-751c3646e41e",
   "metadata": {},
   "outputs": [
    {
     "data": {
      "text/plain": [
       "[3, 'amit', 'amit', 4, 5]"
      ]
     },
     "execution_count": 55,
     "metadata": {},
     "output_type": "execute_result"
    }
   ],
   "source": [
    "l1"
   ]
  },
  {
   "cell_type": "code",
   "execution_count": 56,
   "id": "627a3cc5-2f9d-4d7a-90a4-b6c5ec990ddb",
   "metadata": {},
   "outputs": [],
   "source": [
    "l1.insert(2,[2,3,4,5])"
   ]
  },
  {
   "cell_type": "code",
   "execution_count": 57,
   "id": "501dd4c8-dc8f-4a58-822e-bf8bd819c54b",
   "metadata": {},
   "outputs": [
    {
     "data": {
      "text/plain": [
       "[3, 'amit', [2, 3, 4, 5], 'amit', 4, 5]"
      ]
     },
     "execution_count": 57,
     "metadata": {},
     "output_type": "execute_result"
    }
   ],
   "source": [
    "l1"
   ]
  },
  {
   "cell_type": "code",
   "execution_count": 58,
   "id": "e4aa7790-5ab5-4f03-99c0-5fb6b9f193c0",
   "metadata": {},
   "outputs": [],
   "source": [
    "l1.insert(-1,455)"
   ]
  },
  {
   "cell_type": "code",
   "execution_count": 59,
   "id": "ef7fe4ef-f83c-466e-bc03-47d71b52470e",
   "metadata": {},
   "outputs": [
    {
     "data": {
      "text/plain": [
       "[3, 'amit', [2, 3, 4, 5], 'amit', 4, 455, 5]"
      ]
     },
     "execution_count": 59,
     "metadata": {},
     "output_type": "execute_result"
    }
   ],
   "source": [
    "l1"
   ]
  },
  {
   "cell_type": "code",
   "execution_count": 60,
   "id": "6a5b4049-ae27-4f55-9b1f-46ffd0eabedf",
   "metadata": {},
   "outputs": [
    {
     "data": {
      "text/plain": [
       "5"
      ]
     },
     "execution_count": 60,
     "metadata": {},
     "output_type": "execute_result"
    }
   ],
   "source": [
    "l1.pop()"
   ]
  },
  {
   "cell_type": "code",
   "execution_count": 61,
   "id": "24937954-1f78-4fb7-a9ce-de0facccf60c",
   "metadata": {},
   "outputs": [
    {
     "data": {
      "text/plain": [
       "[3, 'amit', [2, 3, 4, 5], 'amit', 4, 455]"
      ]
     },
     "execution_count": 61,
     "metadata": {},
     "output_type": "execute_result"
    }
   ],
   "source": [
    "l1"
   ]
  },
  {
   "cell_type": "code",
   "execution_count": 62,
   "id": "a5c064b2-8738-4494-80d7-67f12d2dcec7",
   "metadata": {},
   "outputs": [
    {
     "data": {
      "text/plain": [
       "'amit'"
      ]
     },
     "execution_count": 62,
     "metadata": {},
     "output_type": "execute_result"
    }
   ],
   "source": [
    "l1.pop(1)"
   ]
  },
  {
   "cell_type": "code",
   "execution_count": 63,
   "id": "e43bd019-3246-48bf-b4f5-ab284e9b6ca5",
   "metadata": {},
   "outputs": [
    {
     "data": {
      "text/plain": [
       "[3, [2, 3, 4, 5], 'amit', 4, 455]"
      ]
     },
     "execution_count": 63,
     "metadata": {},
     "output_type": "execute_result"
    }
   ],
   "source": [
    "l1"
   ]
  },
  {
   "cell_type": "code",
   "execution_count": 65,
   "id": "a6d0cc5e-6885-4ab9-856b-6a53d6dce0b1",
   "metadata": {},
   "outputs": [],
   "source": [
    "l1.remove(3)"
   ]
  },
  {
   "cell_type": "code",
   "execution_count": 66,
   "id": "ad9d9268-79eb-4b17-b287-84da426a18ce",
   "metadata": {},
   "outputs": [
    {
     "data": {
      "text/plain": [
       "[[2, 3, 4, 5], 'amit', 4, 455]"
      ]
     },
     "execution_count": 66,
     "metadata": {},
     "output_type": "execute_result"
    }
   ],
   "source": [
    "l1"
   ]
  },
  {
   "cell_type": "code",
   "execution_count": 69,
   "id": "3623ece6-497d-4f4b-941e-1f35c2b7c7c5",
   "metadata": {},
   "outputs": [],
   "source": [
    "l1.append(44)"
   ]
  },
  {
   "cell_type": "code",
   "execution_count": 70,
   "id": "4981d5eb-a98e-466e-893e-2aeb64e0ac3f",
   "metadata": {},
   "outputs": [
    {
     "data": {
      "text/plain": [
       "[[2, 3, 4, 5], 'amit', 4, 455, 44]"
      ]
     },
     "execution_count": 70,
     "metadata": {},
     "output_type": "execute_result"
    }
   ],
   "source": [
    "l1"
   ]
  },
  {
   "cell_type": "code",
   "execution_count": 71,
   "id": "b4714a4a-942c-4f9b-b186-7287bf6c03d0",
   "metadata": {},
   "outputs": [],
   "source": [
    "l1.reverse()"
   ]
  },
  {
   "cell_type": "code",
   "execution_count": 72,
   "id": "d3365b1b-ad86-4def-a89d-0e550f810b68",
   "metadata": {},
   "outputs": [
    {
     "data": {
      "text/plain": [
       "[44, 455, 4, 'amit', [2, 3, 4, 5]]"
      ]
     },
     "execution_count": 72,
     "metadata": {},
     "output_type": "execute_result"
    }
   ],
   "source": [
    "l1"
   ]
  },
  {
   "cell_type": "code",
   "execution_count": 73,
   "id": "e7b58ba7-2620-40e9-a486-b6c59f999801",
   "metadata": {},
   "outputs": [
    {
     "ename": "TypeError",
     "evalue": "'<' not supported between instances of 'str' and 'int'",
     "output_type": "error",
     "traceback": [
      "\u001b[0;31m---------------------------------------------------------------------------\u001b[0m",
      "\u001b[0;31mTypeError\u001b[0m                                 Traceback (most recent call last)",
      "Cell \u001b[0;32mIn [73], line 1\u001b[0m\n\u001b[0;32m----> 1\u001b[0m \u001b[43ml1\u001b[49m\u001b[38;5;241;43m.\u001b[39;49m\u001b[43msort\u001b[49m\u001b[43m(\u001b[49m\u001b[43m)\u001b[49m\n",
      "\u001b[0;31mTypeError\u001b[0m: '<' not supported between instances of 'str' and 'int'"
     ]
    }
   ],
   "source": [
    "l1.sort()"
   ]
  },
  {
   "cell_type": "code",
   "execution_count": 74,
   "id": "41237421-5a26-45a6-a79e-3b4579966452",
   "metadata": {},
   "outputs": [],
   "source": [
    "l2=[23,24,2,1]"
   ]
  },
  {
   "cell_type": "code",
   "execution_count": 75,
   "id": "ba6cb27b-0a35-4164-8001-5af752cbb18a",
   "metadata": {},
   "outputs": [],
   "source": [
    "l2.sort()"
   ]
  },
  {
   "cell_type": "code",
   "execution_count": 76,
   "id": "8e2e7930-f865-4554-aeff-565d2c4a7b9a",
   "metadata": {},
   "outputs": [
    {
     "data": {
      "text/plain": [
       "[1, 2, 23, 24]"
      ]
     },
     "execution_count": 76,
     "metadata": {},
     "output_type": "execute_result"
    }
   ],
   "source": [
    "l2"
   ]
  },
  {
   "cell_type": "code",
   "execution_count": 77,
   "id": "72d190f1-0655-4c9c-bff1-6bca01c661a0",
   "metadata": {},
   "outputs": [],
   "source": [
    "l3=[34,\"amit\",\"kumar\",43,2,45,43,22]"
   ]
  },
  {
   "cell_type": "code",
   "execution_count": 78,
   "id": "6aa72ca9-7fca-4caf-a934-158a68266633",
   "metadata": {},
   "outputs": [],
   "source": [
    "l4=[\"amit\",\"singh\",\"cat\"]"
   ]
  },
  {
   "cell_type": "code",
   "execution_count": 80,
   "id": "48ecacce-7b17-405a-95b7-706fa01d1b27",
   "metadata": {},
   "outputs": [],
   "source": [
    "l4.sort()"
   ]
  },
  {
   "cell_type": "code",
   "execution_count": 81,
   "id": "f6430281-c405-42d5-81d8-d5de47fc052d",
   "metadata": {},
   "outputs": [
    {
     "data": {
      "text/plain": [
       "['amit', 'cat', 'singh']"
      ]
     },
     "execution_count": 81,
     "metadata": {},
     "output_type": "execute_result"
    }
   ],
   "source": [
    "l4"
   ]
  },
  {
   "cell_type": "code",
   "execution_count": 82,
   "id": "52123d88-3945-46fc-98ec-687eb59c92d9",
   "metadata": {},
   "outputs": [],
   "source": [
    "l4.sort(reverse=True)"
   ]
  },
  {
   "cell_type": "code",
   "execution_count": 83,
   "id": "9ead080a-1642-489f-b6cf-ca1c5ddfea4b",
   "metadata": {},
   "outputs": [
    {
     "data": {
      "text/plain": [
       "['singh', 'cat', 'amit']"
      ]
     },
     "execution_count": 83,
     "metadata": {},
     "output_type": "execute_result"
    }
   ],
   "source": [
    "l4"
   ]
  },
  {
   "cell_type": "code",
   "execution_count": 85,
   "id": "0f278d06-d07a-42c0-8787-548fd3a636be",
   "metadata": {},
   "outputs": [
    {
     "data": {
      "text/plain": [
       "1"
      ]
     },
     "execution_count": 85,
     "metadata": {},
     "output_type": "execute_result"
    }
   ],
   "source": [
    "l4.index(\"cat\")"
   ]
  },
  {
   "cell_type": "code",
   "execution_count": 86,
   "id": "dcfbf014-9a60-4799-8a90-06a69d260973",
   "metadata": {},
   "outputs": [
    {
     "data": {
      "text/plain": [
       "0"
      ]
     },
     "execution_count": 86,
     "metadata": {},
     "output_type": "execute_result"
    }
   ],
   "source": [
    "l4.count(\"a\")"
   ]
  },
  {
   "cell_type": "code",
   "execution_count": 87,
   "id": "41743e23-3d9e-4937-9edd-c481bdebd418",
   "metadata": {},
   "outputs": [
    {
     "data": {
      "text/plain": [
       "1"
      ]
     },
     "execution_count": 87,
     "metadata": {},
     "output_type": "execute_result"
    }
   ],
   "source": [
    "l4.count(\"amit\")"
   ]
  },
  {
   "cell_type": "code",
   "execution_count": 88,
   "id": "12fd5f6f-3409-401f-aba8-edb92070655d",
   "metadata": {},
   "outputs": [
    {
     "data": {
      "text/plain": [
       "'h'"
      ]
     },
     "execution_count": 88,
     "metadata": {},
     "output_type": "execute_result"
    }
   ],
   "source": [
    "s[0]"
   ]
  },
  {
   "cell_type": "code",
   "execution_count": 89,
   "id": "18b95550-df5e-4087-ac60-b7b438e3c2e9",
   "metadata": {},
   "outputs": [
    {
     "data": {
      "text/plain": [
       "'hello'"
      ]
     },
     "execution_count": 89,
     "metadata": {},
     "output_type": "execute_result"
    }
   ],
   "source": [
    "s"
   ]
  },
  {
   "cell_type": "code",
   "execution_count": 90,
   "id": "12639ba1-a34e-439e-9bc8-39d0195b704d",
   "metadata": {},
   "outputs": [
    {
     "ename": "TypeError",
     "evalue": "'str' object does not support item assignment",
     "output_type": "error",
     "traceback": [
      "\u001b[0;31m---------------------------------------------------------------------------\u001b[0m",
      "\u001b[0;31mTypeError\u001b[0m                                 Traceback (most recent call last)",
      "Cell \u001b[0;32mIn [90], line 1\u001b[0m\n\u001b[0;32m----> 1\u001b[0m \u001b[43ms\u001b[49m\u001b[43m[\u001b[49m\u001b[38;5;241;43m0\u001b[39;49m\u001b[43m]\u001b[49m\u001b[38;5;241m=\u001b[39m\u001b[38;5;124m\"\u001b[39m\u001b[38;5;124ma\u001b[39m\u001b[38;5;124m\"\u001b[39m\n",
      "\u001b[0;31mTypeError\u001b[0m: 'str' object does not support item assignment"
     ]
    }
   ],
   "source": [
    "s[0]=\"a\""
   ]
  },
  {
   "cell_type": "code",
   "execution_count": 93,
   "id": "6e6ebaac-f277-4aa7-99e7-3b4fc3c0c517",
   "metadata": {},
   "outputs": [],
   "source": [
    "l4[0]=30"
   ]
  },
  {
   "cell_type": "code",
   "execution_count": 94,
   "id": "9bc9f15c-ae32-45cc-89ee-365e6b24e52d",
   "metadata": {},
   "outputs": [
    {
     "data": {
      "text/plain": [
       "[30, 'cat', 'amit']"
      ]
     },
     "execution_count": 94,
     "metadata": {},
     "output_type": "execute_result"
    }
   ],
   "source": [
    "l4"
   ]
  },
  {
   "cell_type": "code",
   "execution_count": 95,
   "id": "46c67ffb-b034-481b-89c9-34fc0c703d9a",
   "metadata": {},
   "outputs": [
    {
     "data": {
      "text/plain": [
       "'wello'"
      ]
     },
     "execution_count": 95,
     "metadata": {},
     "output_type": "execute_result"
    }
   ],
   "source": [
    "s.replace('h','w')"
   ]
  },
  {
   "cell_type": "code",
   "execution_count": 96,
   "id": "fe5f5cd4-7090-4143-bf45-fff587216ba9",
   "metadata": {},
   "outputs": [
    {
     "data": {
      "text/plain": [
       "'hello'"
      ]
     },
     "execution_count": 96,
     "metadata": {},
     "output_type": "execute_result"
    }
   ],
   "source": [
    "s"
   ]
  },
  {
   "cell_type": "code",
   "execution_count": 97,
   "id": "aea7d824-b8a3-4656-88d8-be6fce38595b",
   "metadata": {},
   "outputs": [],
   "source": [
    "#string are immutable ans list are mutable"
   ]
  },
  {
   "cell_type": "markdown",
   "id": "134bf49d-c928-4aab-b8c2-c3276c91cb2d",
   "metadata": {},
   "source": [
    "# Tuple"
   ]
  },
  {
   "cell_type": "code",
   "execution_count": 98,
   "id": "618b262b-11d5-4498-a43b-fafa3ba537c9",
   "metadata": {},
   "outputs": [],
   "source": [
    "t=(2,3,4,\"samit\",True,45+4j)"
   ]
  },
  {
   "cell_type": "code",
   "execution_count": 99,
   "id": "d0672bb8-c807-4b8b-8ab8-5d91d26126e2",
   "metadata": {},
   "outputs": [
    {
     "data": {
      "text/plain": [
       "(2, 3, 4, 'samit', True, (45+4j))"
      ]
     },
     "execution_count": 99,
     "metadata": {},
     "output_type": "execute_result"
    }
   ],
   "source": [
    "t"
   ]
  },
  {
   "cell_type": "code",
   "execution_count": 100,
   "id": "ce5c78d9-2423-421c-a243-e60b31d8e787",
   "metadata": {},
   "outputs": [
    {
     "data": {
      "text/plain": [
       "tuple"
      ]
     },
     "execution_count": 100,
     "metadata": {},
     "output_type": "execute_result"
    }
   ],
   "source": [
    "type(t)"
   ]
  },
  {
   "cell_type": "code",
   "execution_count": 101,
   "id": "e112a3e6-4001-440b-9a33-458e405f9380",
   "metadata": {},
   "outputs": [
    {
     "data": {
      "text/plain": [
       "1"
      ]
     },
     "execution_count": 101,
     "metadata": {},
     "output_type": "execute_result"
    }
   ],
   "source": [
    "t.count(2)"
   ]
  },
  {
   "cell_type": "code",
   "execution_count": 102,
   "id": "2b3b6ea1-bc40-459a-8de6-279de5a2d06c",
   "metadata": {},
   "outputs": [
    {
     "data": {
      "text/plain": [
       "3"
      ]
     },
     "execution_count": 102,
     "metadata": {},
     "output_type": "execute_result"
    }
   ],
   "source": [
    "t.index(\"samit\")"
   ]
  },
  {
   "cell_type": "code",
   "execution_count": 103,
   "id": "774f9845-d28d-44f8-b3f6-cd2d344dc666",
   "metadata": {},
   "outputs": [
    {
     "data": {
      "text/plain": [
       "6"
      ]
     },
     "execution_count": 103,
     "metadata": {},
     "output_type": "execute_result"
    }
   ],
   "source": [
    "len(t)"
   ]
  },
  {
   "cell_type": "code",
   "execution_count": 104,
   "id": "a4766be0-8519-4a27-acda-f61342c0c169",
   "metadata": {},
   "outputs": [
    {
     "data": {
      "text/plain": [
       "2"
      ]
     },
     "execution_count": 104,
     "metadata": {},
     "output_type": "execute_result"
    }
   ],
   "source": [
    "t[0]"
   ]
  },
  {
   "cell_type": "code",
   "execution_count": 105,
   "id": "c6d97eb6-46b9-41f1-a978-071f1996b021",
   "metadata": {},
   "outputs": [
    {
     "data": {
      "text/plain": [
       "(2, 3, 4, 'samit')"
      ]
     },
     "execution_count": 105,
     "metadata": {},
     "output_type": "execute_result"
    }
   ],
   "source": [
    "t[0:4]"
   ]
  },
  {
   "cell_type": "code",
   "execution_count": 106,
   "id": "b31d39f9-677d-4926-93a9-e541ad6c6b40",
   "metadata": {},
   "outputs": [
    {
     "data": {
      "text/plain": [
       "((45+4j), True, 'samit', 4, 3, 2)"
      ]
     },
     "execution_count": 106,
     "metadata": {},
     "output_type": "execute_result"
    }
   ],
   "source": [
    "t[::-1]"
   ]
  },
  {
   "cell_type": "code",
   "execution_count": 107,
   "id": "8a96a2c0-665b-4f68-b01a-15c733c33af1",
   "metadata": {},
   "outputs": [
    {
     "data": {
      "text/plain": [
       "[30, 'cat', 'amit']"
      ]
     },
     "execution_count": 107,
     "metadata": {},
     "output_type": "execute_result"
    }
   ],
   "source": [
    "l4"
   ]
  },
  {
   "cell_type": "code",
   "execution_count": 108,
   "id": "3b03578c-1af3-4452-9100-aca0c741ec53",
   "metadata": {},
   "outputs": [
    {
     "data": {
      "text/plain": [
       "30"
      ]
     },
     "execution_count": 108,
     "metadata": {},
     "output_type": "execute_result"
    }
   ],
   "source": [
    "l4[0]"
   ]
  },
  {
   "cell_type": "code",
   "execution_count": 109,
   "id": "e856841a-d110-4bf1-af46-be3e8e01e3cf",
   "metadata": {},
   "outputs": [],
   "source": [
    "l4[0]=\"suman\""
   ]
  },
  {
   "cell_type": "code",
   "execution_count": 110,
   "id": "94f3a784-d66b-43bf-aa77-7894bbcd18b2",
   "metadata": {},
   "outputs": [
    {
     "data": {
      "text/plain": [
       "['suman', 'cat', 'amit']"
      ]
     },
     "execution_count": 110,
     "metadata": {},
     "output_type": "execute_result"
    }
   ],
   "source": [
    "l4"
   ]
  },
  {
   "cell_type": "code",
   "execution_count": 111,
   "id": "4ada2dfb-9c53-4989-9add-e3e01b044369",
   "metadata": {},
   "outputs": [
    {
     "ename": "TypeError",
     "evalue": "'tuple' object does not support item assignment",
     "output_type": "error",
     "traceback": [
      "\u001b[0;31m---------------------------------------------------------------------------\u001b[0m",
      "\u001b[0;31mTypeError\u001b[0m                                 Traceback (most recent call last)",
      "Cell \u001b[0;32mIn [111], line 1\u001b[0m\n\u001b[0;32m----> 1\u001b[0m \u001b[43mt\u001b[49m\u001b[43m[\u001b[49m\u001b[38;5;241;43m0\u001b[39;49m\u001b[43m]\u001b[49m\u001b[38;5;241m=\u001b[39m\u001b[38;5;124m\"\u001b[39m\u001b[38;5;124msmit\u001b[39m\u001b[38;5;124m\"\u001b[39m\n",
      "\u001b[0;31mTypeError\u001b[0m: 'tuple' object does not support item assignment"
     ]
    }
   ],
   "source": [
    "t[0]=\"smit\""
   ]
  },
  {
   "cell_type": "code",
   "execution_count": 112,
   "id": "a0a0124d-d2bf-475a-98c9-2be0c5c3ba2a",
   "metadata": {},
   "outputs": [
    {
     "data": {
      "text/plain": [
       "(2, 3, 4, 'samit', True, (45+4j))"
      ]
     },
     "execution_count": 112,
     "metadata": {},
     "output_type": "execute_result"
    }
   ],
   "source": [
    "t"
   ]
  },
  {
   "cell_type": "markdown",
   "id": "a4986bbd-b89b-41bf-adb0-b58a6b12755a",
   "metadata": {},
   "source": [
    "# Set"
   ]
  },
  {
   "cell_type": "code",
   "execution_count": 115,
   "id": "54f16f89-22dc-4b33-9e87-edeb26fbde41",
   "metadata": {},
   "outputs": [],
   "source": [
    "s1={}"
   ]
  },
  {
   "cell_type": "code",
   "execution_count": 116,
   "id": "e6e4bb0a-2bb7-49a0-87ac-ab89f84924b8",
   "metadata": {},
   "outputs": [
    {
     "data": {
      "text/plain": [
       "dict"
      ]
     },
     "execution_count": 116,
     "metadata": {},
     "output_type": "execute_result"
    }
   ],
   "source": [
    "type(s1)"
   ]
  },
  {
   "cell_type": "code",
   "execution_count": 117,
   "id": "84ad0d46-148f-460c-bc1d-29adbd342353",
   "metadata": {},
   "outputs": [],
   "source": [
    "s2={2,3,4,5}"
   ]
  },
  {
   "cell_type": "code",
   "execution_count": 118,
   "id": "99c53fe9-b9af-4f80-acf7-57c2fb1dfe2b",
   "metadata": {},
   "outputs": [
    {
     "data": {
      "text/plain": [
       "set"
      ]
     },
     "execution_count": 118,
     "metadata": {},
     "output_type": "execute_result"
    }
   ],
   "source": [
    "type(s2)"
   ]
  },
  {
   "cell_type": "code",
   "execution_count": 119,
   "id": "ac5fd42f-557e-47a7-8bca-624ca33e29b9",
   "metadata": {},
   "outputs": [],
   "source": [
    "s3={23,4,5,\"amit\",85.45,3+4j,(2,3,5)}"
   ]
  },
  {
   "cell_type": "code",
   "execution_count": 120,
   "id": "5c0f4782-3569-4034-97fd-a250a8296be7",
   "metadata": {},
   "outputs": [
    {
     "data": {
      "text/plain": [
       "{(2, 3, 5), (3+4j), 23, 4, 5, 85.45, 'amit'}"
      ]
     },
     "execution_count": 120,
     "metadata": {},
     "output_type": "execute_result"
    }
   ],
   "source": [
    "s3"
   ]
  },
  {
   "cell_type": "code",
   "execution_count": 121,
   "id": "4ad77be3-597b-49f8-a1a1-b539671cdd80",
   "metadata": {},
   "outputs": [],
   "source": [
    "s4={2,3,4,5,6,7,8,9,2,3,4,5,5}"
   ]
  },
  {
   "cell_type": "code",
   "execution_count": 122,
   "id": "4b0e4b84-0334-4f91-82ef-62b490eebfb5",
   "metadata": {},
   "outputs": [
    {
     "data": {
      "text/plain": [
       "{2, 3, 4, 5, 6, 7, 8, 9}"
      ]
     },
     "execution_count": 122,
     "metadata": {},
     "output_type": "execute_result"
    }
   ],
   "source": [
    "s4"
   ]
  },
  {
   "cell_type": "code",
   "execution_count": 123,
   "id": "0aa67733-59ff-4f63-b56e-1aa7e7781673",
   "metadata": {},
   "outputs": [],
   "source": [
    "s4.add(5874)"
   ]
  },
  {
   "cell_type": "code",
   "execution_count": 124,
   "id": "f814a578-a9e2-4049-8481-0e16422796a5",
   "metadata": {},
   "outputs": [
    {
     "data": {
      "text/plain": [
       "{2, 3, 4, 5, 6, 7, 8, 9, 5874}"
      ]
     },
     "execution_count": 124,
     "metadata": {},
     "output_type": "execute_result"
    }
   ],
   "source": [
    "s4"
   ]
  },
  {
   "cell_type": "code",
   "execution_count": 125,
   "id": "261295b4-37f8-4596-8852-78202c6c5e16",
   "metadata": {},
   "outputs": [],
   "source": [
    "s4.remove(4)"
   ]
  },
  {
   "cell_type": "code",
   "execution_count": 126,
   "id": "ee34a1b6-d42b-4d11-8b46-acb51ce723f7",
   "metadata": {},
   "outputs": [
    {
     "data": {
      "text/plain": [
       "{2, 3, 5, 6, 7, 8, 9, 5874}"
      ]
     },
     "execution_count": 126,
     "metadata": {},
     "output_type": "execute_result"
    }
   ],
   "source": [
    "s4"
   ]
  },
  {
   "cell_type": "code",
   "execution_count": null,
   "id": "ddff59a0-b2d9-4d4f-bfff-3ca2476d2e43",
   "metadata": {},
   "outputs": [],
   "source": []
  }
 ],
 "metadata": {
  "kernelspec": {
   "display_name": "Python 3 (ipykernel)",
   "language": "python",
   "name": "python3"
  },
  "language_info": {
   "codemirror_mode": {
    "name": "ipython",
    "version": 3
   },
   "file_extension": ".py",
   "mimetype": "text/x-python",
   "name": "python",
   "nbconvert_exporter": "python",
   "pygments_lexer": "ipython3",
   "version": "3.10.6"
  }
 },
 "nbformat": 4,
 "nbformat_minor": 5
}
